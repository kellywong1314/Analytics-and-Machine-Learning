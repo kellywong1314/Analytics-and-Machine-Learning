{
 "cells": [
  {
   "cell_type": "code",
   "execution_count": 1,
   "metadata": {
    "collapsed": true
   },
   "outputs": [],
   "source": [
    "# import packages that will be used for plotting and analyzing the data\n",
    "\n",
    "import pandas as pd\n",
    "import seaborn as sns\n",
    "import matplotlib.pyplot as plt\n",
    "import numpy as np\n",
    "import scipy\n",
    "from scipy import stats\n",
    "%matplotlib inline\n",
    "\n",
    "from sklearn.dummy import DummyClassifier\n",
    "from imblearn.under_sampling import RandomUnderSampler \n",
    "from sklearn.linear_model import LogisticRegression\n",
    "from sklearn.model_selection import GridSearchCV\n",
    "from sklearn.model_selection import train_test_split\n",
    "from sklearn.feature_selection import SelectKBest\n",
    "from sklearn.preprocessing import Imputer\n",
    "\n",
    "from sklearn.metrics import roc_curve\n",
    "from sklearn.metrics import roc_auc_score\n",
    "from sklearn.metrics import confusion_matrix, classification_report, accuracy_score\n",
    "from sklearn.model_selection import cross_val_score\n",
    "\n",
    "from sklearn.ensemble import RandomForestClassifier"
   ]
  },
  {
   "cell_type": "code",
   "execution_count": 2,
   "metadata": {
    "scrolled": true
   },
   "outputs": [
    {
     "data": {
      "text/html": [
       "<div>\n",
       "<style>\n",
       "    .dataframe thead tr:only-child th {\n",
       "        text-align: right;\n",
       "    }\n",
       "\n",
       "    .dataframe thead th {\n",
       "        text-align: left;\n",
       "    }\n",
       "\n",
       "    .dataframe tbody tr th {\n",
       "        vertical-align: top;\n",
       "    }\n",
       "</style>\n",
       "<table border=\"1\" class=\"dataframe\">\n",
       "  <thead>\n",
       "    <tr style=\"text-align: right;\">\n",
       "      <th></th>\n",
       "      <th>CONTROL</th>\n",
       "      <th>total_rooms</th>\n",
       "      <th>housing_cost</th>\n",
       "      <th>monthly_rent</th>\n",
       "      <th>garage</th>\n",
       "      <th>num_dining</th>\n",
       "      <th>num_laundry</th>\n",
       "      <th>gut_rehab</th>\n",
       "      <th>is_condo</th>\n",
       "      <th>stairs_broken</th>\n",
       "      <th>...</th>\n",
       "      <th>roach</th>\n",
       "      <th>sewerbreakdowns</th>\n",
       "      <th>fuse_blow</th>\n",
       "      <th>home_better_than_last</th>\n",
       "      <th>nh_better_than_last</th>\n",
       "      <th>manager_onsite</th>\n",
       "      <th>adequacy</th>\n",
       "      <th>hud_subsidized</th>\n",
       "      <th>number_upkeep_probs</th>\n",
       "      <th>num_bathrooms</th>\n",
       "    </tr>\n",
       "  </thead>\n",
       "  <tbody>\n",
       "    <tr>\n",
       "      <th>0</th>\n",
       "      <td>11000001</td>\n",
       "      <td>7</td>\n",
       "      <td>1250 to 1499</td>\n",
       "      <td>NaN</td>\n",
       "      <td>Yes</td>\n",
       "      <td>1</td>\n",
       "      <td>0</td>\n",
       "      <td>No</td>\n",
       "      <td>No</td>\n",
       "      <td>NaN</td>\n",
       "      <td>...</td>\n",
       "      <td>No signs in the last 12 months</td>\n",
       "      <td>No breakdowns in the last 3 months</td>\n",
       "      <td>No fuses / breakers blown in the last 3 months</td>\n",
       "      <td>NaN</td>\n",
       "      <td>NaN</td>\n",
       "      <td>NaN</td>\n",
       "      <td>Adequate</td>\n",
       "      <td>NaN</td>\n",
       "      <td>Less than 3 upkeep problems</td>\n",
       "      <td>2.5 bathrooms</td>\n",
       "    </tr>\n",
       "    <tr>\n",
       "      <th>1</th>\n",
       "      <td>11000002</td>\n",
       "      <td>7</td>\n",
       "      <td>1500 to 1999</td>\n",
       "      <td>NaN</td>\n",
       "      <td>Yes</td>\n",
       "      <td>0</td>\n",
       "      <td>0</td>\n",
       "      <td>NaN</td>\n",
       "      <td>No</td>\n",
       "      <td>No</td>\n",
       "      <td>...</td>\n",
       "      <td>No signs in the last 12 months</td>\n",
       "      <td>No breakdowns in the last 3 months</td>\n",
       "      <td>No fuses / breakers blown in the last 3 months</td>\n",
       "      <td>NaN</td>\n",
       "      <td>NaN</td>\n",
       "      <td>NaN</td>\n",
       "      <td>Adequate</td>\n",
       "      <td>NaN</td>\n",
       "      <td>Less than 3 upkeep problems</td>\n",
       "      <td>2.5 bathrooms</td>\n",
       "    </tr>\n",
       "    <tr>\n",
       "      <th>2</th>\n",
       "      <td>11000005</td>\n",
       "      <td>8</td>\n",
       "      <td>700 to 799</td>\n",
       "      <td>NaN</td>\n",
       "      <td>Yes</td>\n",
       "      <td>1</td>\n",
       "      <td>2</td>\n",
       "      <td>No</td>\n",
       "      <td>No</td>\n",
       "      <td>NaN</td>\n",
       "      <td>...</td>\n",
       "      <td>No signs in the last 12 months</td>\n",
       "      <td>No breakdowns in the last 3 months</td>\n",
       "      <td>No fuses / breakers blown in the last 3 months</td>\n",
       "      <td>NaN</td>\n",
       "      <td>NaN</td>\n",
       "      <td>NaN</td>\n",
       "      <td>Moderately Inadequate</td>\n",
       "      <td>NaN</td>\n",
       "      <td>3 or 4 upkeep problems</td>\n",
       "      <td>3 bathrooms</td>\n",
       "    </tr>\n",
       "    <tr>\n",
       "      <th>3</th>\n",
       "      <td>11000007</td>\n",
       "      <td>8</td>\n",
       "      <td>1500 to 1999</td>\n",
       "      <td>NaN</td>\n",
       "      <td>Yes</td>\n",
       "      <td>1</td>\n",
       "      <td>1</td>\n",
       "      <td>Yes</td>\n",
       "      <td>No</td>\n",
       "      <td>NaN</td>\n",
       "      <td>...</td>\n",
       "      <td>No signs in the last 12 months</td>\n",
       "      <td>No breakdowns in the last 3 months</td>\n",
       "      <td>No fuses / breakers blown in the last 3 months</td>\n",
       "      <td>NaN</td>\n",
       "      <td>NaN</td>\n",
       "      <td>NaN</td>\n",
       "      <td>Moderately Inadequate</td>\n",
       "      <td>NaN</td>\n",
       "      <td>3 or 4 upkeep problems</td>\n",
       "      <td>2.5 bathrooms</td>\n",
       "    </tr>\n",
       "    <tr>\n",
       "      <th>4</th>\n",
       "      <td>11000010</td>\n",
       "      <td>5</td>\n",
       "      <td>450 to 499</td>\n",
       "      <td>370.0</td>\n",
       "      <td>No</td>\n",
       "      <td>0</td>\n",
       "      <td>0</td>\n",
       "      <td>NaN</td>\n",
       "      <td>No</td>\n",
       "      <td>NaN</td>\n",
       "      <td>...</td>\n",
       "      <td>No signs in the last 12 months</td>\n",
       "      <td>No breakdowns in the last 3 months</td>\n",
       "      <td>No fuses / breakers blown in the last 3 months</td>\n",
       "      <td>NaN</td>\n",
       "      <td>NaN</td>\n",
       "      <td>NaN</td>\n",
       "      <td>Adequate</td>\n",
       "      <td>Public housing tenants and tenants in privatel...</td>\n",
       "      <td>Less than 3 upkeep problems</td>\n",
       "      <td>1.5 bathrooms</td>\n",
       "    </tr>\n",
       "  </tbody>\n",
       "</table>\n",
       "<p>5 rows × 78 columns</p>\n",
       "</div>"
      ],
      "text/plain": [
       "    CONTROL  total_rooms  housing_cost  monthly_rent garage  num_dining  \\\n",
       "0  11000001            7  1250 to 1499           NaN    Yes           1   \n",
       "1  11000002            7  1500 to 1999           NaN    Yes           0   \n",
       "2  11000005            8    700 to 799           NaN    Yes           1   \n",
       "3  11000007            8  1500 to 1999           NaN    Yes           1   \n",
       "4  11000010            5    450 to 499         370.0     No           0   \n",
       "\n",
       "   num_laundry gut_rehab is_condo stairs_broken      ...        \\\n",
       "0            0        No       No           NaN      ...         \n",
       "1            0       NaN       No            No      ...         \n",
       "2            2        No       No           NaN      ...         \n",
       "3            1       Yes       No           NaN      ...         \n",
       "4            0       NaN       No           NaN      ...         \n",
       "\n",
       "                            roach                     sewerbreakdowns  \\\n",
       "0  No signs in the last 12 months  No breakdowns in the last 3 months   \n",
       "1  No signs in the last 12 months  No breakdowns in the last 3 months   \n",
       "2  No signs in the last 12 months  No breakdowns in the last 3 months   \n",
       "3  No signs in the last 12 months  No breakdowns in the last 3 months   \n",
       "4  No signs in the last 12 months  No breakdowns in the last 3 months   \n",
       "\n",
       "                                        fuse_blow  home_better_than_last  \\\n",
       "0  No fuses / breakers blown in the last 3 months                    NaN   \n",
       "1  No fuses / breakers blown in the last 3 months                    NaN   \n",
       "2  No fuses / breakers blown in the last 3 months                    NaN   \n",
       "3  No fuses / breakers blown in the last 3 months                    NaN   \n",
       "4  No fuses / breakers blown in the last 3 months                    NaN   \n",
       "\n",
       "  nh_better_than_last manager_onsite               adequacy  \\\n",
       "0                 NaN            NaN               Adequate   \n",
       "1                 NaN            NaN               Adequate   \n",
       "2                 NaN            NaN  Moderately Inadequate   \n",
       "3                 NaN            NaN  Moderately Inadequate   \n",
       "4                 NaN            NaN               Adequate   \n",
       "\n",
       "                                      hud_subsidized  \\\n",
       "0                                                NaN   \n",
       "1                                                NaN   \n",
       "2                                                NaN   \n",
       "3                                                NaN   \n",
       "4  Public housing tenants and tenants in privatel...   \n",
       "\n",
       "           number_upkeep_probs  num_bathrooms  \n",
       "0  Less than 3 upkeep problems  2.5 bathrooms  \n",
       "1  Less than 3 upkeep problems  2.5 bathrooms  \n",
       "2       3 or 4 upkeep problems    3 bathrooms  \n",
       "3       3 or 4 upkeep problems  2.5 bathrooms  \n",
       "4  Less than 3 upkeep problems  1.5 bathrooms  \n",
       "\n",
       "[5 rows x 78 columns]"
      ]
     },
     "execution_count": 2,
     "metadata": {},
     "output_type": "execute_result"
    }
   ],
   "source": [
    "# read in the data file for analysis\n",
    "\n",
    "df = pd.read_csv('Data_Files/df_household_clean.csv', low_memory=False)\n",
    "df.head()"
   ]
  },
  {
   "cell_type": "code",
   "execution_count": 3,
   "metadata": {
    "scrolled": true
   },
   "outputs": [
    {
     "data": {
      "text/plain": [
       "CONTROL                      0\n",
       "total_rooms                  0\n",
       "housing_cost                 0\n",
       "monthly_rent             34868\n",
       "garage                      36\n",
       "num_dining                   0\n",
       "num_laundry                  0\n",
       "gut_rehab                27849\n",
       "is_condo                     0\n",
       "stairs_broken            44410\n",
       "stairs                   29253\n",
       "musty                    29276\n",
       "rating_house                 0\n",
       "rating_neighborhood          0\n",
       "petty_crime               1007\n",
       "near_transit              2165\n",
       "risk_of_flood              579\n",
       "good_schools              5062\n",
       "serious_crime              690\n",
       "subdivision              18930\n",
       "tenure                       0\n",
       "porch                        0\n",
       "out_water_leaks             79\n",
       "in_water_leaks              75\n",
       "toilet_broke               105\n",
       "paint_peeling                0\n",
       "rent_control             54727\n",
       "rent_subsidy             34270\n",
       "near_abandoned             291\n",
       "near_bar_windows           793\n",
       "                         ...  \n",
       "kitchen_exclusive        42579\n",
       "fridge                       0\n",
       "dishwash                     0\n",
       "washer                       0\n",
       "dryer                        0\n",
       "fireplace                    0\n",
       "too_cold                   595\n",
       "no_running_water           114\n",
       "wall_crack                   0\n",
       "floor_hole                   0\n",
       "foundation_crumb         16039\n",
       "missing_shingle          16132\n",
       "roof_hole                16064\n",
       "roof_sag                 16090\n",
       "missing_siding           15951\n",
       "wall_slope               15956\n",
       "windows_boarded          15906\n",
       "windows_broken           15910\n",
       "windows_barred           15901\n",
       "rodent                       0\n",
       "roach                        0\n",
       "sewerbreakdowns            541\n",
       "fuse_blow                  186\n",
       "home_better_than_last    43705\n",
       "nh_better_than_last      43708\n",
       "manager_onsite           44098\n",
       "adequacy                     0\n",
       "hud_subsidized           33957\n",
       "number_upkeep_probs          0\n",
       "num_bathrooms                0\n",
       "Length: 78, dtype: int64"
      ]
     },
     "execution_count": 3,
     "metadata": {},
     "output_type": "execute_result"
    }
   ],
   "source": [
    "# check DataFrame to see if any columns have too many nulls\n",
    "\n",
    "df.isnull().sum()"
   ]
  },
  {
   "cell_type": "code",
   "execution_count": 4,
   "metadata": {
    "collapsed": true
   },
   "outputs": [],
   "source": [
    "# Remove columns with too many null values. In this case, columns with more than 30% null values are removed.\n",
    "\n",
    "df=df.dropna(axis=1, how='all', thresh=len(df)*.7)"
   ]
  },
  {
   "cell_type": "code",
   "execution_count": 5,
   "metadata": {
    "collapsed": true
   },
   "outputs": [],
   "source": [
    "# create column in DataFrame for target variable. 0 means a rating of 1 to 5, and 1 means a rating of 6 - 10\n",
    "\n",
    "rating_house_bin = [0 if i <=5 else 1 for i in df['rating_house']]\n",
    "\n",
    "df['rating_house_bin'] = rating_house_bin\n"
   ]
  },
  {
   "cell_type": "code",
   "execution_count": 6,
   "metadata": {
    "scrolled": false
   },
   "outputs": [
    {
     "data": {
      "text/html": [
       "<div>\n",
       "<style>\n",
       "    .dataframe thead tr:only-child th {\n",
       "        text-align: right;\n",
       "    }\n",
       "\n",
       "    .dataframe thead th {\n",
       "        text-align: left;\n",
       "    }\n",
       "\n",
       "    .dataframe tbody tr th {\n",
       "        vertical-align: top;\n",
       "    }\n",
       "</style>\n",
       "<table border=\"1\" class=\"dataframe\">\n",
       "  <thead>\n",
       "    <tr style=\"text-align: right;\">\n",
       "      <th></th>\n",
       "      <th>total_rooms</th>\n",
       "      <th>num_dining</th>\n",
       "      <th>num_laundry</th>\n",
       "      <th>rating_neighborhood</th>\n",
       "      <th>hh_age</th>\n",
       "      <th>year_moved_in</th>\n",
       "      <th>num_people</th>\n",
       "      <th>year_built</th>\n",
       "      <th>stories</th>\n",
       "      <th>unit_floors</th>\n",
       "      <th>num_bedrooms</th>\n",
       "      <th>num_kitchens</th>\n",
       "    </tr>\n",
       "  </thead>\n",
       "  <tbody>\n",
       "    <tr>\n",
       "      <th>0</th>\n",
       "      <td>7</td>\n",
       "      <td>1</td>\n",
       "      <td>0</td>\n",
       "      <td>10.0</td>\n",
       "      <td>49.0</td>\n",
       "      <td>2000.0</td>\n",
       "      <td>3.0</td>\n",
       "      <td>2000</td>\n",
       "      <td>2</td>\n",
       "      <td>2.0</td>\n",
       "      <td>3</td>\n",
       "      <td>1</td>\n",
       "    </tr>\n",
       "    <tr>\n",
       "      <th>1</th>\n",
       "      <td>7</td>\n",
       "      <td>0</td>\n",
       "      <td>0</td>\n",
       "      <td>10.0</td>\n",
       "      <td>77.0</td>\n",
       "      <td>2005.0</td>\n",
       "      <td>2.0</td>\n",
       "      <td>2000</td>\n",
       "      <td>2</td>\n",
       "      <td>2.0</td>\n",
       "      <td>3</td>\n",
       "      <td>1</td>\n",
       "    </tr>\n",
       "    <tr>\n",
       "      <th>2</th>\n",
       "      <td>8</td>\n",
       "      <td>1</td>\n",
       "      <td>2</td>\n",
       "      <td>8.0</td>\n",
       "      <td>69.0</td>\n",
       "      <td>1995.0</td>\n",
       "      <td>3.0</td>\n",
       "      <td>1970</td>\n",
       "      <td>1</td>\n",
       "      <td>1.0</td>\n",
       "      <td>4</td>\n",
       "      <td>1</td>\n",
       "    </tr>\n",
       "    <tr>\n",
       "      <th>3</th>\n",
       "      <td>8</td>\n",
       "      <td>1</td>\n",
       "      <td>1</td>\n",
       "      <td>7.0</td>\n",
       "      <td>49.0</td>\n",
       "      <td>1997.0</td>\n",
       "      <td>4.0</td>\n",
       "      <td>1960</td>\n",
       "      <td>3</td>\n",
       "      <td>3.0</td>\n",
       "      <td>4</td>\n",
       "      <td>1</td>\n",
       "    </tr>\n",
       "    <tr>\n",
       "      <th>4</th>\n",
       "      <td>5</td>\n",
       "      <td>0</td>\n",
       "      <td>0</td>\n",
       "      <td>5.0</td>\n",
       "      <td>71.0</td>\n",
       "      <td>2005.0</td>\n",
       "      <td>1.0</td>\n",
       "      <td>1970</td>\n",
       "      <td>1</td>\n",
       "      <td>1.0</td>\n",
       "      <td>3</td>\n",
       "      <td>1</td>\n",
       "    </tr>\n",
       "  </tbody>\n",
       "</table>\n",
       "</div>"
      ],
      "text/plain": [
       "   total_rooms  num_dining  num_laundry  rating_neighborhood  hh_age  \\\n",
       "0            7           1            0                 10.0    49.0   \n",
       "1            7           0            0                 10.0    77.0   \n",
       "2            8           1            2                  8.0    69.0   \n",
       "3            8           1            1                  7.0    49.0   \n",
       "4            5           0            0                  5.0    71.0   \n",
       "\n",
       "   year_moved_in  num_people  year_built  stories  unit_floors  num_bedrooms  \\\n",
       "0         2000.0         3.0        2000        2          2.0             3   \n",
       "1         2005.0         2.0        2000        2          2.0             3   \n",
       "2         1995.0         3.0        1970        1          1.0             4   \n",
       "3         1997.0         4.0        1960        3          3.0             4   \n",
       "4         2005.0         1.0        1970        1          1.0             3   \n",
       "\n",
       "   num_kitchens  \n",
       "0             1  \n",
       "1             1  \n",
       "2             1  \n",
       "3             1  \n",
       "4             1  "
      ]
     },
     "execution_count": 6,
     "metadata": {},
     "output_type": "execute_result"
    }
   ],
   "source": [
    "# drop the rating columns from the DataFrame\n",
    "\n",
    "X = df.drop(['rating_house', 'rating_house_bin'], axis=1)\n",
    "y = df.rating_house_bin\n",
    "\n",
    "\n",
    "# create DataFrame X_num which holds all of the numerical values from the original DataFrame\n",
    "\n",
    "X_num = X.select_dtypes(include=[np.number])\n",
    "X_num = X_num.drop('CONTROL', axis=1)\n",
    "X_num.head()\n"
   ]
  },
  {
   "cell_type": "code",
   "execution_count": 7,
   "metadata": {},
   "outputs": [
    {
     "data": {
      "text/plain": [
       "1    53283\n",
       "0     4950\n",
       "Name: rating_house_bin, dtype: int64"
      ]
     },
     "execution_count": 7,
     "metadata": {},
     "output_type": "execute_result"
    }
   ],
   "source": [
    "y.value_counts()"
   ]
  },
  {
   "cell_type": "code",
   "execution_count": 8,
   "metadata": {
    "scrolled": true
   },
   "outputs": [
    {
     "data": {
      "text/html": [
       "<div>\n",
       "<style>\n",
       "    .dataframe thead tr:only-child th {\n",
       "        text-align: right;\n",
       "    }\n",
       "\n",
       "    .dataframe thead th {\n",
       "        text-align: left;\n",
       "    }\n",
       "\n",
       "    .dataframe tbody tr th {\n",
       "        vertical-align: top;\n",
       "    }\n",
       "</style>\n",
       "<table border=\"1\" class=\"dataframe\">\n",
       "  <thead>\n",
       "    <tr style=\"text-align: right;\">\n",
       "      <th></th>\n",
       "      <th>total_rooms</th>\n",
       "      <th>num_dining</th>\n",
       "      <th>num_laundry</th>\n",
       "      <th>rating_neighborhood</th>\n",
       "      <th>hh_age</th>\n",
       "      <th>year_moved_in</th>\n",
       "      <th>num_people</th>\n",
       "      <th>year_built</th>\n",
       "      <th>stories</th>\n",
       "      <th>unit_floors</th>\n",
       "      <th>num_bedrooms</th>\n",
       "      <th>num_kitchens</th>\n",
       "    </tr>\n",
       "  </thead>\n",
       "  <tbody>\n",
       "    <tr>\n",
       "      <th>0</th>\n",
       "      <td>7.0</td>\n",
       "      <td>1.0</td>\n",
       "      <td>0.0</td>\n",
       "      <td>10.0</td>\n",
       "      <td>49.0</td>\n",
       "      <td>2000.0</td>\n",
       "      <td>3.0</td>\n",
       "      <td>2000.0</td>\n",
       "      <td>2.0</td>\n",
       "      <td>2.0</td>\n",
       "      <td>3.0</td>\n",
       "      <td>1.0</td>\n",
       "    </tr>\n",
       "    <tr>\n",
       "      <th>1</th>\n",
       "      <td>7.0</td>\n",
       "      <td>0.0</td>\n",
       "      <td>0.0</td>\n",
       "      <td>10.0</td>\n",
       "      <td>77.0</td>\n",
       "      <td>2005.0</td>\n",
       "      <td>2.0</td>\n",
       "      <td>2000.0</td>\n",
       "      <td>2.0</td>\n",
       "      <td>2.0</td>\n",
       "      <td>3.0</td>\n",
       "      <td>1.0</td>\n",
       "    </tr>\n",
       "    <tr>\n",
       "      <th>2</th>\n",
       "      <td>8.0</td>\n",
       "      <td>1.0</td>\n",
       "      <td>2.0</td>\n",
       "      <td>8.0</td>\n",
       "      <td>69.0</td>\n",
       "      <td>1995.0</td>\n",
       "      <td>3.0</td>\n",
       "      <td>1970.0</td>\n",
       "      <td>1.0</td>\n",
       "      <td>1.0</td>\n",
       "      <td>4.0</td>\n",
       "      <td>1.0</td>\n",
       "    </tr>\n",
       "    <tr>\n",
       "      <th>3</th>\n",
       "      <td>8.0</td>\n",
       "      <td>1.0</td>\n",
       "      <td>1.0</td>\n",
       "      <td>7.0</td>\n",
       "      <td>49.0</td>\n",
       "      <td>1997.0</td>\n",
       "      <td>4.0</td>\n",
       "      <td>1960.0</td>\n",
       "      <td>3.0</td>\n",
       "      <td>3.0</td>\n",
       "      <td>4.0</td>\n",
       "      <td>1.0</td>\n",
       "    </tr>\n",
       "    <tr>\n",
       "      <th>4</th>\n",
       "      <td>5.0</td>\n",
       "      <td>0.0</td>\n",
       "      <td>0.0</td>\n",
       "      <td>5.0</td>\n",
       "      <td>71.0</td>\n",
       "      <td>2005.0</td>\n",
       "      <td>1.0</td>\n",
       "      <td>1970.0</td>\n",
       "      <td>1.0</td>\n",
       "      <td>1.0</td>\n",
       "      <td>3.0</td>\n",
       "      <td>1.0</td>\n",
       "    </tr>\n",
       "  </tbody>\n",
       "</table>\n",
       "</div>"
      ],
      "text/plain": [
       "   total_rooms  num_dining  num_laundry  rating_neighborhood  hh_age  \\\n",
       "0          7.0         1.0          0.0                 10.0    49.0   \n",
       "1          7.0         0.0          0.0                 10.0    77.0   \n",
       "2          8.0         1.0          2.0                  8.0    69.0   \n",
       "3          8.0         1.0          1.0                  7.0    49.0   \n",
       "4          5.0         0.0          0.0                  5.0    71.0   \n",
       "\n",
       "   year_moved_in  num_people  year_built  stories  unit_floors  num_bedrooms  \\\n",
       "0         2000.0         3.0      2000.0      2.0          2.0           3.0   \n",
       "1         2005.0         2.0      2000.0      2.0          2.0           3.0   \n",
       "2         1995.0         3.0      1970.0      1.0          1.0           4.0   \n",
       "3         1997.0         4.0      1960.0      3.0          3.0           4.0   \n",
       "4         2005.0         1.0      1970.0      1.0          1.0           3.0   \n",
       "\n",
       "   num_kitchens  \n",
       "0           1.0  \n",
       "1           1.0  \n",
       "2           1.0  \n",
       "3           1.0  \n",
       "4           1.0  "
      ]
     },
     "execution_count": 8,
     "metadata": {},
     "output_type": "execute_result"
    }
   ],
   "source": [
    "# use sklearn's Imputer to impute missing values in X_num using the mean of every column\n",
    "\n",
    "imp = Imputer(missing_values='NaN', strategy='mean', axis=0)\n",
    "imp.fit(X_num)\n",
    "X_num = imp.transform(X_num)\n",
    "X_num = pd.DataFrame(X_num)\n",
    "X_num.columns = ['total_rooms', 'num_dining', 'num_laundry', 'rating_neighborhood', 'hh_age', 'year_moved_in', 'num_people', 'year_built', 'stories', 'unit_floors', 'num_bedrooms', 'num_kitchens']\n",
    "\n",
    "X_num.head()"
   ]
  },
  {
   "cell_type": "code",
   "execution_count": 9,
   "metadata": {
    "scrolled": true
   },
   "outputs": [
    {
     "data": {
      "text/html": [
       "<div>\n",
       "<style>\n",
       "    .dataframe thead tr:only-child th {\n",
       "        text-align: right;\n",
       "    }\n",
       "\n",
       "    .dataframe thead th {\n",
       "        text-align: left;\n",
       "    }\n",
       "\n",
       "    .dataframe tbody tr th {\n",
       "        vertical-align: top;\n",
       "    }\n",
       "</style>\n",
       "<table border=\"1\" class=\"dataframe\">\n",
       "  <thead>\n",
       "    <tr style=\"text-align: right;\">\n",
       "      <th></th>\n",
       "      <th>housing_cost</th>\n",
       "      <th>garage</th>\n",
       "      <th>is_condo</th>\n",
       "      <th>petty_crime</th>\n",
       "      <th>near_transit</th>\n",
       "      <th>risk_of_flood</th>\n",
       "      <th>good_schools</th>\n",
       "      <th>serious_crime</th>\n",
       "      <th>tenure</th>\n",
       "      <th>porch</th>\n",
       "      <th>...</th>\n",
       "      <th>windows_boarded</th>\n",
       "      <th>windows_broken</th>\n",
       "      <th>windows_barred</th>\n",
       "      <th>rodent</th>\n",
       "      <th>roach</th>\n",
       "      <th>sewerbreakdowns</th>\n",
       "      <th>fuse_blow</th>\n",
       "      <th>adequacy</th>\n",
       "      <th>number_upkeep_probs</th>\n",
       "      <th>num_bathrooms</th>\n",
       "    </tr>\n",
       "  </thead>\n",
       "  <tbody>\n",
       "    <tr>\n",
       "      <th>0</th>\n",
       "      <td>1250 to 1499</td>\n",
       "      <td>Yes</td>\n",
       "      <td>No</td>\n",
       "      <td>Disagree</td>\n",
       "      <td>Disagree</td>\n",
       "      <td>Disagree</td>\n",
       "      <td>Agree</td>\n",
       "      <td>Disagree</td>\n",
       "      <td>Owned or being bought by someone in your house...</td>\n",
       "      <td>Yes</td>\n",
       "      <td>...</td>\n",
       "      <td>No</td>\n",
       "      <td>No</td>\n",
       "      <td>No</td>\n",
       "      <td>No signs in the last 12 months</td>\n",
       "      <td>No signs in the last 12 months</td>\n",
       "      <td>No breakdowns in the last 3 months</td>\n",
       "      <td>No fuses / breakers blown in the last 3 months</td>\n",
       "      <td>Adequate</td>\n",
       "      <td>Less than 3 upkeep problems</td>\n",
       "      <td>2.5 bathrooms</td>\n",
       "    </tr>\n",
       "    <tr>\n",
       "      <th>1</th>\n",
       "      <td>1500 to 1999</td>\n",
       "      <td>Yes</td>\n",
       "      <td>No</td>\n",
       "      <td>Disagree</td>\n",
       "      <td>Agree</td>\n",
       "      <td>Disagree</td>\n",
       "      <td>Agree</td>\n",
       "      <td>Disagree</td>\n",
       "      <td>Owned or being bought by someone in your house...</td>\n",
       "      <td>Yes</td>\n",
       "      <td>...</td>\n",
       "      <td>No</td>\n",
       "      <td>No</td>\n",
       "      <td>No</td>\n",
       "      <td>No signs in the last 12 months</td>\n",
       "      <td>No signs in the last 12 months</td>\n",
       "      <td>No breakdowns in the last 3 months</td>\n",
       "      <td>No fuses / breakers blown in the last 3 months</td>\n",
       "      <td>Adequate</td>\n",
       "      <td>Less than 3 upkeep problems</td>\n",
       "      <td>2.5 bathrooms</td>\n",
       "    </tr>\n",
       "    <tr>\n",
       "      <th>2</th>\n",
       "      <td>700 to 799</td>\n",
       "      <td>Yes</td>\n",
       "      <td>No</td>\n",
       "      <td>Disagree</td>\n",
       "      <td>Disagree</td>\n",
       "      <td>Disagree</td>\n",
       "      <td>Agree</td>\n",
       "      <td>Disagree</td>\n",
       "      <td>Owned or being bought by someone in your house...</td>\n",
       "      <td>Yes</td>\n",
       "      <td>...</td>\n",
       "      <td>No</td>\n",
       "      <td>No</td>\n",
       "      <td>No</td>\n",
       "      <td>Seen a few times in the last 12 months</td>\n",
       "      <td>No signs in the last 12 months</td>\n",
       "      <td>No breakdowns in the last 3 months</td>\n",
       "      <td>No fuses / breakers blown in the last 3 months</td>\n",
       "      <td>Moderately Inadequate</td>\n",
       "      <td>3 or 4 upkeep problems</td>\n",
       "      <td>3 bathrooms</td>\n",
       "    </tr>\n",
       "    <tr>\n",
       "      <th>3</th>\n",
       "      <td>1500 to 1999</td>\n",
       "      <td>Yes</td>\n",
       "      <td>No</td>\n",
       "      <td>Agree</td>\n",
       "      <td>Disagree</td>\n",
       "      <td>Disagree</td>\n",
       "      <td>Disagree</td>\n",
       "      <td>Agree</td>\n",
       "      <td>Owned or being bought by someone in your house...</td>\n",
       "      <td>Yes</td>\n",
       "      <td>...</td>\n",
       "      <td>No</td>\n",
       "      <td>No</td>\n",
       "      <td>No</td>\n",
       "      <td>Seen a few times in the last 12 months</td>\n",
       "      <td>No signs in the last 12 months</td>\n",
       "      <td>No breakdowns in the last 3 months</td>\n",
       "      <td>No fuses / breakers blown in the last 3 months</td>\n",
       "      <td>Moderately Inadequate</td>\n",
       "      <td>3 or 4 upkeep problems</td>\n",
       "      <td>2.5 bathrooms</td>\n",
       "    </tr>\n",
       "    <tr>\n",
       "      <th>4</th>\n",
       "      <td>450 to 499</td>\n",
       "      <td>No</td>\n",
       "      <td>No</td>\n",
       "      <td>Agree</td>\n",
       "      <td>Disagree</td>\n",
       "      <td>Disagree</td>\n",
       "      <td>Agree</td>\n",
       "      <td>Disagree</td>\n",
       "      <td>Rented</td>\n",
       "      <td>Yes</td>\n",
       "      <td>...</td>\n",
       "      <td>No</td>\n",
       "      <td>No</td>\n",
       "      <td>No</td>\n",
       "      <td>No signs in the last 12 months</td>\n",
       "      <td>No signs in the last 12 months</td>\n",
       "      <td>No breakdowns in the last 3 months</td>\n",
       "      <td>No fuses / breakers blown in the last 3 months</td>\n",
       "      <td>Adequate</td>\n",
       "      <td>Less than 3 upkeep problems</td>\n",
       "      <td>1.5 bathrooms</td>\n",
       "    </tr>\n",
       "  </tbody>\n",
       "</table>\n",
       "<p>5 rows × 49 columns</p>\n",
       "</div>"
      ],
      "text/plain": [
       "   housing_cost garage is_condo petty_crime near_transit risk_of_flood  \\\n",
       "0  1250 to 1499    Yes       No    Disagree     Disagree      Disagree   \n",
       "1  1500 to 1999    Yes       No    Disagree        Agree      Disagree   \n",
       "2    700 to 799    Yes       No    Disagree     Disagree      Disagree   \n",
       "3  1500 to 1999    Yes       No       Agree     Disagree      Disagree   \n",
       "4    450 to 499     No       No       Agree     Disagree      Disagree   \n",
       "\n",
       "  good_schools serious_crime  \\\n",
       "0        Agree      Disagree   \n",
       "1        Agree      Disagree   \n",
       "2        Agree      Disagree   \n",
       "3     Disagree         Agree   \n",
       "4        Agree      Disagree   \n",
       "\n",
       "                                              tenure porch      ...        \\\n",
       "0  Owned or being bought by someone in your house...   Yes      ...         \n",
       "1  Owned or being bought by someone in your house...   Yes      ...         \n",
       "2  Owned or being bought by someone in your house...   Yes      ...         \n",
       "3  Owned or being bought by someone in your house...   Yes      ...         \n",
       "4                                             Rented   Yes      ...         \n",
       "\n",
       "  windows_boarded windows_broken windows_barred  \\\n",
       "0              No             No             No   \n",
       "1              No             No             No   \n",
       "2              No             No             No   \n",
       "3              No             No             No   \n",
       "4              No             No             No   \n",
       "\n",
       "                                   rodent                           roach  \\\n",
       "0          No signs in the last 12 months  No signs in the last 12 months   \n",
       "1          No signs in the last 12 months  No signs in the last 12 months   \n",
       "2  Seen a few times in the last 12 months  No signs in the last 12 months   \n",
       "3  Seen a few times in the last 12 months  No signs in the last 12 months   \n",
       "4          No signs in the last 12 months  No signs in the last 12 months   \n",
       "\n",
       "                      sewerbreakdowns  \\\n",
       "0  No breakdowns in the last 3 months   \n",
       "1  No breakdowns in the last 3 months   \n",
       "2  No breakdowns in the last 3 months   \n",
       "3  No breakdowns in the last 3 months   \n",
       "4  No breakdowns in the last 3 months   \n",
       "\n",
       "                                        fuse_blow               adequacy  \\\n",
       "0  No fuses / breakers blown in the last 3 months               Adequate   \n",
       "1  No fuses / breakers blown in the last 3 months               Adequate   \n",
       "2  No fuses / breakers blown in the last 3 months  Moderately Inadequate   \n",
       "3  No fuses / breakers blown in the last 3 months  Moderately Inadequate   \n",
       "4  No fuses / breakers blown in the last 3 months               Adequate   \n",
       "\n",
       "           number_upkeep_probs  num_bathrooms  \n",
       "0  Less than 3 upkeep problems  2.5 bathrooms  \n",
       "1  Less than 3 upkeep problems  2.5 bathrooms  \n",
       "2       3 or 4 upkeep problems    3 bathrooms  \n",
       "3       3 or 4 upkeep problems  2.5 bathrooms  \n",
       "4  Less than 3 upkeep problems  1.5 bathrooms  \n",
       "\n",
       "[5 rows x 49 columns]"
      ]
     },
     "execution_count": 9,
     "metadata": {},
     "output_type": "execute_result"
    }
   ],
   "source": [
    "# select categorical features from the DataFrame\n",
    "\n",
    "X_cat = X.select_dtypes(include=[object])\n",
    "X_cat.head()\n"
   ]
  },
  {
   "cell_type": "code",
   "execution_count": 10,
   "metadata": {
    "scrolled": true
   },
   "outputs": [
    {
     "name": "stderr",
     "output_type": "stream",
     "text": [
      "C:\\Users\\wongk3.NA\\AppData\\Local\\Continuum\\Anaconda2\\envs\\newPy36\\lib\\site-packages\\ipykernel_launcher.py:4: SettingWithCopyWarning: \n",
      "A value is trying to be set on a copy of a slice from a DataFrame.\n",
      "Try using .loc[row_indexer,col_indexer] = value instead\n",
      "\n",
      "See the caveats in the documentation: http://pandas.pydata.org/pandas-docs/stable/indexing.html#indexing-view-versus-copy\n",
      "  after removing the cwd from sys.path.\n"
     ]
    }
   ],
   "source": [
    "# fill the missing values in X_cat with most common value\n",
    "\n",
    "for column in X_cat:\n",
    "    X_cat[column] = X_cat[column].fillna(X_cat[column].value_counts().index[0])\n"
   ]
  },
  {
   "cell_type": "code",
   "execution_count": 11,
   "metadata": {
    "scrolled": true
   },
   "outputs": [
    {
     "data": {
      "text/plain": [
       "housing_cost           0\n",
       "garage                 0\n",
       "is_condo               0\n",
       "petty_crime            0\n",
       "near_transit           0\n",
       "risk_of_flood          0\n",
       "good_schools           0\n",
       "serious_crime          0\n",
       "tenure                 0\n",
       "porch                  0\n",
       "out_water_leaks        0\n",
       "in_water_leaks         0\n",
       "toilet_broke           0\n",
       "paint_peeling          0\n",
       "near_abandoned         0\n",
       "near_bar_windows       0\n",
       "near_trash             0\n",
       "interview_lang         0\n",
       "metro_area             0\n",
       "bldg_type              0\n",
       "partner_household      0\n",
       "household_type         0\n",
       "hoa                    0\n",
       "unit_size              0\n",
       "fridge                 0\n",
       "dishwash               0\n",
       "washer                 0\n",
       "dryer                  0\n",
       "fireplace              0\n",
       "too_cold               0\n",
       "no_running_water       0\n",
       "wall_crack             0\n",
       "floor_hole             0\n",
       "foundation_crumb       0\n",
       "missing_shingle        0\n",
       "roof_hole              0\n",
       "roof_sag               0\n",
       "missing_siding         0\n",
       "wall_slope             0\n",
       "windows_boarded        0\n",
       "windows_broken         0\n",
       "windows_barred         0\n",
       "rodent                 0\n",
       "roach                  0\n",
       "sewerbreakdowns        0\n",
       "fuse_blow              0\n",
       "adequacy               0\n",
       "number_upkeep_probs    0\n",
       "num_bathrooms          0\n",
       "dtype: int64"
      ]
     },
     "execution_count": 11,
     "metadata": {},
     "output_type": "execute_result"
    }
   ],
   "source": [
    "X_cat.isnull().sum()"
   ]
  },
  {
   "cell_type": "code",
   "execution_count": 12,
   "metadata": {
    "scrolled": false
   },
   "outputs": [
    {
     "data": {
      "text/html": [
       "<div>\n",
       "<style>\n",
       "    .dataframe thead tr:only-child th {\n",
       "        text-align: right;\n",
       "    }\n",
       "\n",
       "    .dataframe thead th {\n",
       "        text-align: left;\n",
       "    }\n",
       "\n",
       "    .dataframe tbody tr th {\n",
       "        vertical-align: top;\n",
       "    }\n",
       "</style>\n",
       "<table border=\"1\" class=\"dataframe\">\n",
       "  <thead>\n",
       "    <tr style=\"text-align: right;\">\n",
       "      <th></th>\n",
       "      <th>housing_cost_0 to 99</th>\n",
       "      <th>housing_cost_100 to 199</th>\n",
       "      <th>housing_cost_1000 to 1249</th>\n",
       "      <th>housing_cost_1250 to 1499</th>\n",
       "      <th>housing_cost_1500 to 1999</th>\n",
       "      <th>housing_cost_200 to 249</th>\n",
       "      <th>housing_cost_2000 to 2499</th>\n",
       "      <th>housing_cost_250 to 299</th>\n",
       "      <th>housing_cost_2500 or more</th>\n",
       "      <th>housing_cost_300 to 349</th>\n",
       "      <th>...</th>\n",
       "      <th>num_bathrooms_1.5 bathrooms</th>\n",
       "      <th>num_bathrooms_2 bathrooms</th>\n",
       "      <th>num_bathrooms_2.5 bathrooms</th>\n",
       "      <th>num_bathrooms_3 bathrooms</th>\n",
       "      <th>num_bathrooms_More than 3 bathrooms</th>\n",
       "      <th>num_bathrooms_No full bath: Sink and toilet present</th>\n",
       "      <th>num_bathrooms_No full bath: Toilet only</th>\n",
       "      <th>num_bathrooms_No full bath: Tub and toilet present</th>\n",
       "      <th>num_bathrooms_No full bath: Tub only</th>\n",
       "      <th>num_bathrooms_One full bathroom</th>\n",
       "    </tr>\n",
       "  </thead>\n",
       "  <tbody>\n",
       "    <tr>\n",
       "      <th>0</th>\n",
       "      <td>0</td>\n",
       "      <td>0</td>\n",
       "      <td>0</td>\n",
       "      <td>1</td>\n",
       "      <td>0</td>\n",
       "      <td>0</td>\n",
       "      <td>0</td>\n",
       "      <td>0</td>\n",
       "      <td>0</td>\n",
       "      <td>0</td>\n",
       "      <td>...</td>\n",
       "      <td>0</td>\n",
       "      <td>0</td>\n",
       "      <td>1</td>\n",
       "      <td>0</td>\n",
       "      <td>0</td>\n",
       "      <td>0</td>\n",
       "      <td>0</td>\n",
       "      <td>0</td>\n",
       "      <td>0</td>\n",
       "      <td>0</td>\n",
       "    </tr>\n",
       "    <tr>\n",
       "      <th>1</th>\n",
       "      <td>0</td>\n",
       "      <td>0</td>\n",
       "      <td>0</td>\n",
       "      <td>0</td>\n",
       "      <td>1</td>\n",
       "      <td>0</td>\n",
       "      <td>0</td>\n",
       "      <td>0</td>\n",
       "      <td>0</td>\n",
       "      <td>0</td>\n",
       "      <td>...</td>\n",
       "      <td>0</td>\n",
       "      <td>0</td>\n",
       "      <td>1</td>\n",
       "      <td>0</td>\n",
       "      <td>0</td>\n",
       "      <td>0</td>\n",
       "      <td>0</td>\n",
       "      <td>0</td>\n",
       "      <td>0</td>\n",
       "      <td>0</td>\n",
       "    </tr>\n",
       "    <tr>\n",
       "      <th>2</th>\n",
       "      <td>0</td>\n",
       "      <td>0</td>\n",
       "      <td>0</td>\n",
       "      <td>0</td>\n",
       "      <td>0</td>\n",
       "      <td>0</td>\n",
       "      <td>0</td>\n",
       "      <td>0</td>\n",
       "      <td>0</td>\n",
       "      <td>0</td>\n",
       "      <td>...</td>\n",
       "      <td>0</td>\n",
       "      <td>0</td>\n",
       "      <td>0</td>\n",
       "      <td>1</td>\n",
       "      <td>0</td>\n",
       "      <td>0</td>\n",
       "      <td>0</td>\n",
       "      <td>0</td>\n",
       "      <td>0</td>\n",
       "      <td>0</td>\n",
       "    </tr>\n",
       "    <tr>\n",
       "      <th>3</th>\n",
       "      <td>0</td>\n",
       "      <td>0</td>\n",
       "      <td>0</td>\n",
       "      <td>0</td>\n",
       "      <td>1</td>\n",
       "      <td>0</td>\n",
       "      <td>0</td>\n",
       "      <td>0</td>\n",
       "      <td>0</td>\n",
       "      <td>0</td>\n",
       "      <td>...</td>\n",
       "      <td>0</td>\n",
       "      <td>0</td>\n",
       "      <td>1</td>\n",
       "      <td>0</td>\n",
       "      <td>0</td>\n",
       "      <td>0</td>\n",
       "      <td>0</td>\n",
       "      <td>0</td>\n",
       "      <td>0</td>\n",
       "      <td>0</td>\n",
       "    </tr>\n",
       "    <tr>\n",
       "      <th>4</th>\n",
       "      <td>0</td>\n",
       "      <td>0</td>\n",
       "      <td>0</td>\n",
       "      <td>0</td>\n",
       "      <td>0</td>\n",
       "      <td>0</td>\n",
       "      <td>0</td>\n",
       "      <td>0</td>\n",
       "      <td>0</td>\n",
       "      <td>0</td>\n",
       "      <td>...</td>\n",
       "      <td>1</td>\n",
       "      <td>0</td>\n",
       "      <td>0</td>\n",
       "      <td>0</td>\n",
       "      <td>0</td>\n",
       "      <td>0</td>\n",
       "      <td>0</td>\n",
       "      <td>0</td>\n",
       "      <td>0</td>\n",
       "      <td>0</td>\n",
       "    </tr>\n",
       "  </tbody>\n",
       "</table>\n",
       "<p>5 rows × 187 columns</p>\n",
       "</div>"
      ],
      "text/plain": [
       "   housing_cost_0 to 99  housing_cost_100 to 199  housing_cost_1000 to 1249  \\\n",
       "0                     0                        0                          0   \n",
       "1                     0                        0                          0   \n",
       "2                     0                        0                          0   \n",
       "3                     0                        0                          0   \n",
       "4                     0                        0                          0   \n",
       "\n",
       "   housing_cost_1250 to 1499  housing_cost_1500 to 1999  \\\n",
       "0                          1                          0   \n",
       "1                          0                          1   \n",
       "2                          0                          0   \n",
       "3                          0                          1   \n",
       "4                          0                          0   \n",
       "\n",
       "   housing_cost_200 to 249  housing_cost_2000 to 2499  \\\n",
       "0                        0                          0   \n",
       "1                        0                          0   \n",
       "2                        0                          0   \n",
       "3                        0                          0   \n",
       "4                        0                          0   \n",
       "\n",
       "   housing_cost_250 to 299  housing_cost_2500 or more  \\\n",
       "0                        0                          0   \n",
       "1                        0                          0   \n",
       "2                        0                          0   \n",
       "3                        0                          0   \n",
       "4                        0                          0   \n",
       "\n",
       "   housing_cost_300 to 349               ...                 \\\n",
       "0                        0               ...                  \n",
       "1                        0               ...                  \n",
       "2                        0               ...                  \n",
       "3                        0               ...                  \n",
       "4                        0               ...                  \n",
       "\n",
       "   num_bathrooms_1.5 bathrooms  num_bathrooms_2 bathrooms  \\\n",
       "0                            0                          0   \n",
       "1                            0                          0   \n",
       "2                            0                          0   \n",
       "3                            0                          0   \n",
       "4                            1                          0   \n",
       "\n",
       "   num_bathrooms_2.5 bathrooms  num_bathrooms_3 bathrooms  \\\n",
       "0                            1                          0   \n",
       "1                            1                          0   \n",
       "2                            0                          1   \n",
       "3                            1                          0   \n",
       "4                            0                          0   \n",
       "\n",
       "   num_bathrooms_More than 3 bathrooms  \\\n",
       "0                                    0   \n",
       "1                                    0   \n",
       "2                                    0   \n",
       "3                                    0   \n",
       "4                                    0   \n",
       "\n",
       "   num_bathrooms_No full bath: Sink and toilet present  \\\n",
       "0                                                  0     \n",
       "1                                                  0     \n",
       "2                                                  0     \n",
       "3                                                  0     \n",
       "4                                                  0     \n",
       "\n",
       "   num_bathrooms_No full bath: Toilet only  \\\n",
       "0                                        0   \n",
       "1                                        0   \n",
       "2                                        0   \n",
       "3                                        0   \n",
       "4                                        0   \n",
       "\n",
       "   num_bathrooms_No full bath: Tub and toilet present  \\\n",
       "0                                                  0    \n",
       "1                                                  0    \n",
       "2                                                  0    \n",
       "3                                                  0    \n",
       "4                                                  0    \n",
       "\n",
       "   num_bathrooms_No full bath: Tub only  num_bathrooms_One full bathroom  \n",
       "0                                     0                                0  \n",
       "1                                     0                                0  \n",
       "2                                     0                                0  \n",
       "3                                     0                                0  \n",
       "4                                     0                                0  \n",
       "\n",
       "[5 rows x 187 columns]"
      ]
     },
     "execution_count": 12,
     "metadata": {},
     "output_type": "execute_result"
    }
   ],
   "source": [
    "X_cat_dummies = pd.get_dummies(X.select_dtypes(include=[object]))\n",
    "X_cat_dummies.head()"
   ]
  },
  {
   "cell_type": "code",
   "execution_count": 13,
   "metadata": {
    "scrolled": false
   },
   "outputs": [
    {
     "data": {
      "text/html": [
       "<div>\n",
       "<style>\n",
       "    .dataframe thead tr:only-child th {\n",
       "        text-align: right;\n",
       "    }\n",
       "\n",
       "    .dataframe thead th {\n",
       "        text-align: left;\n",
       "    }\n",
       "\n",
       "    .dataframe tbody tr th {\n",
       "        vertical-align: top;\n",
       "    }\n",
       "</style>\n",
       "<table border=\"1\" class=\"dataframe\">\n",
       "  <thead>\n",
       "    <tr style=\"text-align: right;\">\n",
       "      <th></th>\n",
       "      <th>total_rooms</th>\n",
       "      <th>num_dining</th>\n",
       "      <th>num_laundry</th>\n",
       "      <th>rating_neighborhood</th>\n",
       "      <th>hh_age</th>\n",
       "      <th>year_moved_in</th>\n",
       "      <th>num_people</th>\n",
       "      <th>year_built</th>\n",
       "      <th>stories</th>\n",
       "      <th>unit_floors</th>\n",
       "      <th>...</th>\n",
       "      <th>num_bathrooms_1.5 bathrooms</th>\n",
       "      <th>num_bathrooms_2 bathrooms</th>\n",
       "      <th>num_bathrooms_2.5 bathrooms</th>\n",
       "      <th>num_bathrooms_3 bathrooms</th>\n",
       "      <th>num_bathrooms_More than 3 bathrooms</th>\n",
       "      <th>num_bathrooms_No full bath: Sink and toilet present</th>\n",
       "      <th>num_bathrooms_No full bath: Toilet only</th>\n",
       "      <th>num_bathrooms_No full bath: Tub and toilet present</th>\n",
       "      <th>num_bathrooms_No full bath: Tub only</th>\n",
       "      <th>num_bathrooms_One full bathroom</th>\n",
       "    </tr>\n",
       "  </thead>\n",
       "  <tbody>\n",
       "    <tr>\n",
       "      <th>0</th>\n",
       "      <td>7.0</td>\n",
       "      <td>1.0</td>\n",
       "      <td>0.0</td>\n",
       "      <td>10.0</td>\n",
       "      <td>49.0</td>\n",
       "      <td>2000.0</td>\n",
       "      <td>3.0</td>\n",
       "      <td>2000.0</td>\n",
       "      <td>2.0</td>\n",
       "      <td>2.0</td>\n",
       "      <td>...</td>\n",
       "      <td>0</td>\n",
       "      <td>0</td>\n",
       "      <td>1</td>\n",
       "      <td>0</td>\n",
       "      <td>0</td>\n",
       "      <td>0</td>\n",
       "      <td>0</td>\n",
       "      <td>0</td>\n",
       "      <td>0</td>\n",
       "      <td>0</td>\n",
       "    </tr>\n",
       "    <tr>\n",
       "      <th>1</th>\n",
       "      <td>7.0</td>\n",
       "      <td>0.0</td>\n",
       "      <td>0.0</td>\n",
       "      <td>10.0</td>\n",
       "      <td>77.0</td>\n",
       "      <td>2005.0</td>\n",
       "      <td>2.0</td>\n",
       "      <td>2000.0</td>\n",
       "      <td>2.0</td>\n",
       "      <td>2.0</td>\n",
       "      <td>...</td>\n",
       "      <td>0</td>\n",
       "      <td>0</td>\n",
       "      <td>1</td>\n",
       "      <td>0</td>\n",
       "      <td>0</td>\n",
       "      <td>0</td>\n",
       "      <td>0</td>\n",
       "      <td>0</td>\n",
       "      <td>0</td>\n",
       "      <td>0</td>\n",
       "    </tr>\n",
       "    <tr>\n",
       "      <th>2</th>\n",
       "      <td>8.0</td>\n",
       "      <td>1.0</td>\n",
       "      <td>2.0</td>\n",
       "      <td>8.0</td>\n",
       "      <td>69.0</td>\n",
       "      <td>1995.0</td>\n",
       "      <td>3.0</td>\n",
       "      <td>1970.0</td>\n",
       "      <td>1.0</td>\n",
       "      <td>1.0</td>\n",
       "      <td>...</td>\n",
       "      <td>0</td>\n",
       "      <td>0</td>\n",
       "      <td>0</td>\n",
       "      <td>1</td>\n",
       "      <td>0</td>\n",
       "      <td>0</td>\n",
       "      <td>0</td>\n",
       "      <td>0</td>\n",
       "      <td>0</td>\n",
       "      <td>0</td>\n",
       "    </tr>\n",
       "    <tr>\n",
       "      <th>3</th>\n",
       "      <td>8.0</td>\n",
       "      <td>1.0</td>\n",
       "      <td>1.0</td>\n",
       "      <td>7.0</td>\n",
       "      <td>49.0</td>\n",
       "      <td>1997.0</td>\n",
       "      <td>4.0</td>\n",
       "      <td>1960.0</td>\n",
       "      <td>3.0</td>\n",
       "      <td>3.0</td>\n",
       "      <td>...</td>\n",
       "      <td>0</td>\n",
       "      <td>0</td>\n",
       "      <td>1</td>\n",
       "      <td>0</td>\n",
       "      <td>0</td>\n",
       "      <td>0</td>\n",
       "      <td>0</td>\n",
       "      <td>0</td>\n",
       "      <td>0</td>\n",
       "      <td>0</td>\n",
       "    </tr>\n",
       "    <tr>\n",
       "      <th>4</th>\n",
       "      <td>5.0</td>\n",
       "      <td>0.0</td>\n",
       "      <td>0.0</td>\n",
       "      <td>5.0</td>\n",
       "      <td>71.0</td>\n",
       "      <td>2005.0</td>\n",
       "      <td>1.0</td>\n",
       "      <td>1970.0</td>\n",
       "      <td>1.0</td>\n",
       "      <td>1.0</td>\n",
       "      <td>...</td>\n",
       "      <td>1</td>\n",
       "      <td>0</td>\n",
       "      <td>0</td>\n",
       "      <td>0</td>\n",
       "      <td>0</td>\n",
       "      <td>0</td>\n",
       "      <td>0</td>\n",
       "      <td>0</td>\n",
       "      <td>0</td>\n",
       "      <td>0</td>\n",
       "    </tr>\n",
       "  </tbody>\n",
       "</table>\n",
       "<p>5 rows × 199 columns</p>\n",
       "</div>"
      ],
      "text/plain": [
       "   total_rooms  num_dining  num_laundry  rating_neighborhood  hh_age  \\\n",
       "0          7.0         1.0          0.0                 10.0    49.0   \n",
       "1          7.0         0.0          0.0                 10.0    77.0   \n",
       "2          8.0         1.0          2.0                  8.0    69.0   \n",
       "3          8.0         1.0          1.0                  7.0    49.0   \n",
       "4          5.0         0.0          0.0                  5.0    71.0   \n",
       "\n",
       "   year_moved_in  num_people  year_built  stories  unit_floors  \\\n",
       "0         2000.0         3.0      2000.0      2.0          2.0   \n",
       "1         2005.0         2.0      2000.0      2.0          2.0   \n",
       "2         1995.0         3.0      1970.0      1.0          1.0   \n",
       "3         1997.0         4.0      1960.0      3.0          3.0   \n",
       "4         2005.0         1.0      1970.0      1.0          1.0   \n",
       "\n",
       "                ...                 num_bathrooms_1.5 bathrooms  \\\n",
       "0               ...                                           0   \n",
       "1               ...                                           0   \n",
       "2               ...                                           0   \n",
       "3               ...                                           0   \n",
       "4               ...                                           1   \n",
       "\n",
       "   num_bathrooms_2 bathrooms  num_bathrooms_2.5 bathrooms  \\\n",
       "0                          0                            1   \n",
       "1                          0                            1   \n",
       "2                          0                            0   \n",
       "3                          0                            1   \n",
       "4                          0                            0   \n",
       "\n",
       "   num_bathrooms_3 bathrooms  num_bathrooms_More than 3 bathrooms  \\\n",
       "0                          0                                    0   \n",
       "1                          0                                    0   \n",
       "2                          1                                    0   \n",
       "3                          0                                    0   \n",
       "4                          0                                    0   \n",
       "\n",
       "   num_bathrooms_No full bath: Sink and toilet present  \\\n",
       "0                                                  0     \n",
       "1                                                  0     \n",
       "2                                                  0     \n",
       "3                                                  0     \n",
       "4                                                  0     \n",
       "\n",
       "   num_bathrooms_No full bath: Toilet only  \\\n",
       "0                                        0   \n",
       "1                                        0   \n",
       "2                                        0   \n",
       "3                                        0   \n",
       "4                                        0   \n",
       "\n",
       "   num_bathrooms_No full bath: Tub and toilet present  \\\n",
       "0                                                  0    \n",
       "1                                                  0    \n",
       "2                                                  0    \n",
       "3                                                  0    \n",
       "4                                                  0    \n",
       "\n",
       "   num_bathrooms_No full bath: Tub only  num_bathrooms_One full bathroom  \n",
       "0                                     0                                0  \n",
       "1                                     0                                0  \n",
       "2                                     0                                0  \n",
       "3                                     0                                0  \n",
       "4                                     0                                0  \n",
       "\n",
       "[5 rows x 199 columns]"
      ]
     },
     "execution_count": 13,
     "metadata": {},
     "output_type": "execute_result"
    }
   ],
   "source": [
    "X_encoded= X_num.join(X_cat_dummies, how='left')\n",
    "X_encoded.head()"
   ]
  },
  {
   "cell_type": "markdown",
   "metadata": {},
   "source": [
    "At this point, we have dropped all of the features with too many null values, imputed the other missing values, and encoded all of the categorical features into dummy variables."
   ]
  },
  {
   "cell_type": "code",
   "execution_count": 14,
   "metadata": {
    "collapsed": true
   },
   "outputs": [],
   "source": [
    "# split X_cat into training and test sets\n",
    "\n",
    "X_train, X_test, y_train, y_test = train_test_split(X_encoded, y, test_size=0.3, random_state=42)\n"
   ]
  },
  {
   "cell_type": "markdown",
   "metadata": {},
   "source": [
    "## Setting Up a Baseline: A Naive Model\n",
    "First, a naive model that uses no machine learning will be set up. Since the majority of respondents are satisfied with their housing, let's see how well we do if we predict that every response is the modal response, or 1."
   ]
  },
  {
   "cell_type": "code",
   "execution_count": 15,
   "metadata": {
    "collapsed": true
   },
   "outputs": [],
   "source": [
    "dummy_model = DummyClassifier(strategy='most_frequent')\n",
    "\n",
    "dummy_model.fit(X_train, y_train)\n",
    "\n",
    "y_pred_dummy = dummy_model.predict(X_test)"
   ]
  },
  {
   "cell_type": "code",
   "execution_count": 40,
   "metadata": {
    "collapsed": true
   },
   "outputs": [],
   "source": [
    "# create a function to print the model metrics\n",
    "\n",
    "def print_model_metrics(true_values, predicted_values):\n",
    "    \n",
    "    # print a confusion matrix\n",
    "    print(confusion_matrix(true_values, predicted_values))\n",
    "    print()\n",
    "    \n",
    "    # print a classification report\n",
    "    print(classification_report(true_values, predicted_values))"
   ]
  },
  {
   "cell_type": "code",
   "execution_count": 17,
   "metadata": {},
   "outputs": [
    {
     "name": "stdout",
     "output_type": "stream",
     "text": [
      "[[    0  1449]\n",
      " [    0 16021]]\n",
      "\n",
      "             precision    recall  f1-score   support\n",
      "\n",
      "          0       0.00      0.00      0.00      1449\n",
      "          1       0.92      1.00      0.96     16021\n",
      "\n",
      "avg / total       0.84      0.92      0.88     17470\n",
      "\n",
      "Accuracy Score: 0.92\n"
     ]
    },
    {
     "name": "stderr",
     "output_type": "stream",
     "text": [
      "C:\\Users\\wongk3.NA\\AppData\\Local\\Continuum\\Anaconda2\\envs\\newPy36\\lib\\site-packages\\sklearn\\metrics\\classification.py:1135: UndefinedMetricWarning: Precision and F-score are ill-defined and being set to 0.0 in labels with no predicted samples.\n",
      "  'precision', 'predicted', average, warn_for)\n"
     ]
    }
   ],
   "source": [
    "print_model_metrics(y_test, y_pred_dummy)"
   ]
  },
  {
   "cell_type": "code",
   "execution_count": 18,
   "metadata": {
    "collapsed": true
   },
   "outputs": [],
   "source": [
    "# create a function to generate and label an ROC curve\n",
    "\n",
    "def generate_roc_curve(model, X_values, y_values):\n",
    "    \n",
    "    # Compute predicted probabilities: y_pred_prob\n",
    "    y_pred_prob = model.predict_proba(X_values)[:,1]\n",
    "    \n",
    "    # Generate ROC curve values: fpr, tpr, thresholds\n",
    "    fpr, tpr, thresholds = roc_curve(y_test, y_pred_prob)\n",
    "    \n",
    "    # Plot ROC curve\n",
    "    plt.plot([0, 1], [0, 1], 'k--')\n",
    "    plt.plot(fpr, tpr)\n",
    "    plt.xlabel('False Positive Rate')\n",
    "    plt.ylabel('True Positive Rate')\n",
    "    plt.title('ROC Curve')\n",
    "    plt.show()\n",
    "    \n",
    "    print(\"Area Under Curve: {}\".format(roc_auc_score(y_test, y_pred_prob)))"
   ]
  },
  {
   "cell_type": "code",
   "execution_count": 19,
   "metadata": {
    "scrolled": true
   },
   "outputs": [
    {
     "data": {
      "image/png": "[encoded data removed]",
      "text/plain": [
       "<matplotlib.figure.Figure at 0xcd34588>"
      ]
     },
     "metadata": {},
     "output_type": "display_data"
    },
    {
     "name": "stdout",
     "output_type": "stream",
     "text": [
      "Area Under Curve: 0.5\n"
     ]
    }
   ],
   "source": [
    "generate_roc_curve(dummy_model, X_test, y_test)"
   ]
  },
  {
   "cell_type": "markdown",
   "metadata": {},
   "source": [
    "## Model 1: Out of the Box Logistic Regression\n",
    "\n",
    "This model is trained using sklearn's LogisticRegression on 70% of the entire dataset, which has over 58,000 values."
   ]
  },
  {
   "cell_type": "code",
   "execution_count": 20,
   "metadata": {
    "scrolled": true
   },
   "outputs": [
    {
     "name": "stdout",
     "output_type": "stream",
     "text": [
      "[[  396  1053]\n",
      " [  227 15794]]\n",
      "\n",
      "             precision    recall  f1-score   support\n",
      "\n",
      "          0       0.64      0.27      0.38      1449\n",
      "          1       0.94      0.99      0.96     16021\n",
      "\n",
      "avg / total       0.91      0.93      0.91     17470\n",
      "\n",
      "Accuracy Score: 0.93\n"
     ]
    }
   ],
   "source": [
    "logreg_1 = LogisticRegression()\n",
    "logreg_1.fit(X_train, y_train)\n",
    "\n",
    "y_pred = logreg_1.predict(X_test)\n",
    "\n",
    "print_model_metrics(y_test, y_pred)"
   ]
  },
  {
   "cell_type": "code",
   "execution_count": 21,
   "metadata": {},
   "outputs": [
    {
     "data": {
      "image/png": "[encoded data removed]",
      "text/plain": [
       "<matplotlib.figure.Figure at 0xc987860>"
      ]
     },
     "metadata": {},
     "output_type": "display_data"
    },
    {
     "name": "stdout",
     "output_type": "stream",
     "text": [
      "Area Under Curve: 0.8849470301423308\n"
     ]
    }
   ],
   "source": [
    "generate_roc_curve(logreg_1, X_test, y_test)"
   ]
  },
  {
   "cell_type": "markdown",
   "metadata": {},
   "source": [
    "Using the out of the box logistic regression model attains a fairly high f1 score of 0.96 for predicting the 1 class, but only a score of o.38 for for 0 class. Cross-validation will be used to tune the model's hyperparameters to see if the model's performance can be improved further."
   ]
  },
  {
   "cell_type": "markdown",
   "metadata": {},
   "source": [
    "## Model 2: Tuned Logistic Regresstion\n",
    "\n",
    "In this model, several values of the hyperparameter, C, are tested using cross-validation."
   ]
  },
  {
   "cell_type": "code",
   "execution_count": 22,
   "metadata": {
    "collapsed": true
   },
   "outputs": [],
   "source": [
    "#Setup the hyperparameter grid\n",
    "c_space = [0.0001, 0.001, 0.01, 0.1, 1, 10, 100]\n",
    "param_grid = {'C': c_space}\n",
    "\n",
    "logreg_cv = GridSearchCV(logreg_1, param_grid, cv=5)\n"
   ]
  },
  {
   "cell_type": "code",
   "execution_count": 23,
   "metadata": {},
   "outputs": [
    {
     "name": "stdout",
     "output_type": "stream",
     "text": [
      "Tuned Logistic Regression Parameter: {'C': 100}\n",
      "Tuned Logistic Regression Accuracy: 0.9249809876603783\n"
     ]
    }
   ],
   "source": [
    "\n",
    "logreg_cv.fit(X_train, y_train)\n",
    "\n",
    "# print best parameters from cross validation\n",
    "print(\"Tuned Logistic Regression Parameter: {}\".format(logreg_cv.best_params_))\n",
    "print(\"Tuned Logistic Regression Accuracy: {}\".format(logreg_cv.best_score_))"
   ]
  },
  {
   "cell_type": "markdown",
   "metadata": {},
   "source": [
    "The best C value is 100, so the next model will be initialized with C=100"
   ]
  },
  {
   "cell_type": "code",
   "execution_count": 24,
   "metadata": {
    "scrolled": false
   },
   "outputs": [
    {
     "data": {
      "text/plain": [
       "LogisticRegression(C=100, class_weight=None, dual=False, fit_intercept=True,\n",
       "          intercept_scaling=1, max_iter=100, multi_class='ovr', n_jobs=1,\n",
       "          penalty='l2', random_state=None, solver='liblinear', tol=0.0001,\n",
       "          verbose=0, warm_start=False)"
      ]
     },
     "execution_count": 24,
     "metadata": {},
     "output_type": "execute_result"
    }
   ],
   "source": [
    "# Instantiate a logistic regression classifier using the best parameter from cross validation: logreg\n",
    "\n",
    "logreg_tuned = LogisticRegression(C=100)\n",
    "logreg_tuned.fit(X_train, y_train)"
   ]
  },
  {
   "cell_type": "code",
   "execution_count": 25,
   "metadata": {
    "scrolled": false
   },
   "outputs": [
    {
     "name": "stdout",
     "output_type": "stream",
     "text": [
      "[[  396  1053]\n",
      " [  227 15794]]\n",
      "\n",
      "             precision    recall  f1-score   support\n",
      "\n",
      "          0       0.64      0.27      0.38      1449\n",
      "          1       0.94      0.99      0.96     16021\n",
      "\n",
      "avg / total       0.91      0.93      0.91     17470\n",
      "\n",
      "Accuracy Score: 0.93\n"
     ]
    }
   ],
   "source": [
    "# generate predictions for test set and evaluate its performance\n",
    "\n",
    "y_pred = logreg_tuned.predict(X_test)\n",
    "\n",
    "print_model_metrics(y_test, y_pred)"
   ]
  },
  {
   "cell_type": "code",
   "execution_count": 26,
   "metadata": {},
   "outputs": [
    {
     "data": {
      "image/png": "[encoded data removed]",
      "text/plain": [
       "<matplotlib.figure.Figure at 0xc049f98>"
      ]
     },
     "metadata": {},
     "output_type": "display_data"
    },
    {
     "name": "stdout",
     "output_type": "stream",
     "text": [
      "Area Under Curve: 0.8849476762921888\n"
     ]
    }
   ],
   "source": [
    "generate_roc_curve(logreg_tuned, X_test, y_test)"
   ]
  },
  {
   "cell_type": "markdown",
   "metadata": {},
   "source": [
    "The performance of the model hasn't increased by much even after tuning the hyperparameter. We can also try to use feature selection to see if reducing the model's complexity will improve its performance. "
   ]
  },
  {
   "cell_type": "markdown",
   "metadata": {},
   "source": [
    "## Model 3: Tuned Logistic Regression Using Feature Selection\n"
   ]
  },
  {
   "cell_type": "code",
   "execution_count": 27,
   "metadata": {},
   "outputs": [
    {
     "data": {
      "text/plain": [
       "Index(['total_rooms', 'rating_neighborhood', 'hh_age', 'num_bedrooms',\n",
       "       'garage_No', 'garage_Yes', 'petty_crime_Agree', 'petty_crime_Disagree',\n",
       "       'good_schools_Disagree', 'serious_crime_Agree',\n",
       "       'tenure_Owned or being bought by someone in your household',\n",
       "       'tenure_Rented', 'porch_No', 'out_water_leaks_Yes',\n",
       "       'in_water_leaks_Yes', 'toilet_broke_Yes', 'paint_peeling_Yes',\n",
       "       'near_abandoned_More than one vandalized building',\n",
       "       'near_bar_windows_More than one building with metal bars',\n",
       "       'near_trash_Large amount of trash', 'near_trash_Small amount of trash',\n",
       "       'bldg_type_One-family house, detached',\n",
       "       'household_type_Female householder, no husband present',\n",
       "       'household_type_Married-couple family household', 'hoa_Yes',\n",
       "       'dishwash_No', 'dishwash_Yes', 'washer_No',\n",
       "       'dryer_Unit does not have a working clothes dryer',\n",
       "       'fireplace_Has usable fireplace, not considered heating equipment',\n",
       "       'fireplace_No usable fireplace', 'too_cold_Yes', 'wall_crack_Yes',\n",
       "       'floor_hole_Yes', 'foundation_crumb_No', 'roof_hole_Yes', 'roof_sag_No',\n",
       "       'roof_sag_Yes', 'missing_siding_No', 'missing_siding_Yes',\n",
       "       'wall_slope_Yes', 'windows_broken_No',\n",
       "       'rodent_Seen daily in the last 12 months',\n",
       "       'roach_Seen daily in the last 12 months',\n",
       "       'adequacy_Moderately Inadequate', 'adequacy_Severely Inadequate',\n",
       "       'number_upkeep_probs_3 or 4 upkeep problems',\n",
       "       'number_upkeep_probs_5 or more upkeep problems',\n",
       "       'num_bathrooms_2.5 bathrooms', 'num_bathrooms_One full bathroom'],\n",
       "      dtype='object')"
      ]
     },
     "execution_count": 27,
     "metadata": {},
     "output_type": "execute_result"
    }
   ],
   "source": [
    "test = SelectKBest(score_func=chi2, k=50)\n",
    "fit = test.fit(X_encoded, rating_house_bin)\n",
    "\n",
    "mask = test.get_support()\n",
    "new_features = X_encoded.columns[mask]\n",
    "new_features"
   ]
  },
  {
   "cell_type": "code",
   "execution_count": 28,
   "metadata": {
    "collapsed": true
   },
   "outputs": [],
   "source": [
    "X_masked = X_encoded[new_features]\n",
    "\n",
    "\n",
    "X_train, X_test, y_train, y_test = train_test_split(X_masked, y, test_size=0.3, random_state=42)"
   ]
  },
  {
   "cell_type": "code",
   "execution_count": 29,
   "metadata": {},
   "outputs": [
    {
     "name": "stdout",
     "output_type": "stream",
     "text": [
      "Tuned Logistic Regression Parameter: {'C': 10}\n",
      "Tuned Logist`ic Regression Accuracy: 0.9246866030468808\n"
     ]
    }
   ],
   "source": [
    "\n",
    "logreg_cv.fit(X_train, y_train)\n",
    "\n",
    "# print best parameters from cross validation\n",
    "print(\"Tuned Logistic Regression Parameter: {}\".format(logreg_cv.best_params_))\n",
    "print(\"Tuned Logist`ic Regression Accuracy: {}\".format(logreg_cv.best_score_))"
   ]
  },
  {
   "cell_type": "code",
   "execution_count": 30,
   "metadata": {},
   "outputs": [
    {
     "data": {
      "text/plain": [
       "LogisticRegression(C=10, class_weight=None, dual=False, fit_intercept=True,\n",
       "          intercept_scaling=1, max_iter=100, multi_class='ovr', n_jobs=1,\n",
       "          penalty='l2', random_state=None, solver='liblinear', tol=0.0001,\n",
       "          verbose=0, warm_start=False)"
      ]
     },
     "execution_count": 30,
     "metadata": {},
     "output_type": "execute_result"
    }
   ],
   "source": [
    "logreg_fs = LogisticRegression(C=10)\n",
    "logreg_fs.fit(X_train, y_train)"
   ]
  },
  {
   "cell_type": "code",
   "execution_count": 31,
   "metadata": {},
   "outputs": [
    {
     "name": "stdout",
     "output_type": "stream",
     "text": [
      "[[  388  1061]\n",
      " [  235 15786]]\n",
      "\n",
      "             precision    recall  f1-score   support\n",
      "\n",
      "          0       0.62      0.27      0.37      1449\n",
      "          1       0.94      0.99      0.96     16021\n",
      "\n",
      "avg / total       0.91      0.93      0.91     17470\n",
      "\n",
      "Accuracy Score: 0.93\n"
     ]
    }
   ],
   "source": [
    "y_pred = logreg_fs.predict(X_test)\n",
    "\n",
    "print_model_metrics(y_test, y_pred)"
   ]
  },
  {
   "cell_type": "markdown",
   "metadata": {},
   "source": [
    "## Model 4: Tuned Logistic Regression with Undersampling\n",
    "\n",
    "Because the "
   ]
  },
  {
   "cell_type": "code",
   "execution_count": 32,
   "metadata": {
    "collapsed": true
   },
   "outputs": [],
   "source": [
    "rus = RandomUnderSampler(random_state=42)\n",
    "X_res, y_res = rus.fit_sample(X_encoded, y)"
   ]
  },
  {
   "cell_type": "code",
   "execution_count": 42,
   "metadata": {},
   "outputs": [
    {
     "name": "stdout",
     "output_type": "stream",
     "text": [
      "9900\n"
     ]
    }
   ],
   "source": [
    "print(len(X_res))"
   ]
  },
  {
   "cell_type": "code",
   "execution_count": 33,
   "metadata": {
    "collapsed": true
   },
   "outputs": [],
   "source": [
    "X_train, X_test, y_train, y_test = train_test_split(X_res, y_res, test_size=0.3, random_state=42)"
   ]
  },
  {
   "cell_type": "code",
   "execution_count": 34,
   "metadata": {
    "scrolled": false
   },
   "outputs": [
    {
     "name": "stdout",
     "output_type": "stream",
     "text": [
      "[[1199  311]\n",
      " [ 270 1190]]\n",
      "\n",
      "             precision    recall  f1-score   support\n",
      "\n",
      "          0       0.82      0.79      0.80      1510\n",
      "          1       0.79      0.82      0.80      1460\n",
      "\n",
      "avg / total       0.80      0.80      0.80      2970\n",
      "\n",
      "Accuracy Score: 0.80\n"
     ]
    }
   ],
   "source": [
    "logreg_undersample = LogisticRegression()\n",
    "logreg_undersample.fit(X_train, y_train)\n",
    "\n",
    "y_pred = logreg_undersample.predict(X_test)\n",
    "\n",
    "print_model_metrics(y_test, y_pred)"
   ]
  },
  {
   "cell_type": "code",
   "execution_count": 35,
   "metadata": {},
   "outputs": [
    {
     "name": "stdout",
     "output_type": "stream",
     "text": [
      "Tuned Logistic Regression Parameter: {'C': 0.01}\n",
      "Tuned Logistic Regression Accuracy: 0.8044733044733045\n"
     ]
    }
   ],
   "source": [
    "#Setup the hyperparameter grid\n",
    "c_space = [0.0001, 0.001, 0.01, 0.1, 1, 10, 100]\n",
    "param_grid = {'C': c_space}\n",
    "\n",
    "logreg = LogisticRegression()\n",
    "logreg_cv = GridSearchCV(logreg, param_grid, cv=5)\n",
    "\n",
    "\n",
    "logreg_cv.fit(X_train, y_train)\n",
    "\n",
    "# print best parameters from cross validation\n",
    "print(\"Tuned Logistic Regression Parameter: {}\".format(logreg_cv.best_params_))\n",
    "print(\"Tuned Logistic Regression Accuracy: {}\".format(logreg_cv.best_score_))\n"
   ]
  },
  {
   "cell_type": "code",
   "execution_count": 36,
   "metadata": {},
   "outputs": [
    {
     "data": {
      "image/png": "[encoded data removed]",
      "text/plain": [
       "<matplotlib.figure.Figure at 0x177a97b8>"
      ]
     },
     "metadata": {},
     "output_type": "display_data"
    },
    {
     "name": "stdout",
     "output_type": "stream",
     "text": [
      "Area Under Curve: 0.8817540596933685\n"
     ]
    }
   ],
   "source": [
    "generate_roc_curve(logreg_undersample, X_test, y_test)"
   ]
  },
  {
   "cell_type": "markdown",
   "metadata": {},
   "source": [
    "## Model 5: Random Forest"
   ]
  },
  {
   "cell_type": "code",
   "execution_count": 37,
   "metadata": {
    "collapsed": true
   },
   "outputs": [],
   "source": [
    "X_train, X_test, y_train, y_test = train_test_split(X_encoded, y, test_size=0.3, random_state=42)"
   ]
  },
  {
   "cell_type": "code",
   "execution_count": 38,
   "metadata": {},
   "outputs": [
    {
     "data": {
      "text/plain": [
       "RandomForestClassifier(bootstrap=True, class_weight=None, criterion='gini',\n",
       "            max_depth=None, max_features='auto', max_leaf_nodes=None,\n",
       "            min_impurity_decrease=0.0, min_impurity_split=None,\n",
       "            min_samples_leaf=1, min_samples_split=2,\n",
       "            min_weight_fraction_leaf=0.0, n_estimators=10, n_jobs=1,\n",
       "            oob_score=False, random_state=None, verbose=0,\n",
       "            warm_start=False)"
      ]
     },
     "execution_count": 38,
     "metadata": {},
     "output_type": "execute_result"
    }
   ],
   "source": [
    "clf = RandomForestClassifier()\n",
    "\n",
    "clf.fit(X_train, y_train)"
   ]
  },
  {
   "cell_type": "code",
   "execution_count": 39,
   "metadata": {
    "scrolled": false
   },
   "outputs": [
    {
     "name": "stdout",
     "output_type": "stream",
     "text": [
      "[[  423  1026]\n",
      " [  363 15658]]\n",
      "\n",
      "             precision    recall  f1-score   support\n",
      "\n",
      "          0       0.54      0.29      0.38      1449\n",
      "          1       0.94      0.98      0.96     16021\n",
      "\n",
      "avg / total       0.91      0.92      0.91     17470\n",
      "\n",
      "Accuracy Score: 0.92\n"
     ]
    }
   ],
   "source": [
    "y_pred = clf.predict(X_test)\n",
    "\n",
    "print_model_metrics(y_test, y_pred)"
   ]
  },
  {
   "cell_type": "markdown",
   "metadata": {},
   "source": [
    "A random forest did no better than a logistic regression model."
   ]
  },
  {
   "cell_type": "markdown",
   "metadata": {},
   "source": [
    "## Model 6: Random Forest with Tuned Hyperparameters\n"
   ]
  }
 ],
 "metadata": {
  "kernelspec": {
   "display_name": "Python 3",
   "language": "python",
   "name": "python3"
  },
  "language_info": {
   "codemirror_mode": {
    "name": "ipython",
    "version": 3
   },
   "file_extension": ".py",
   "mimetype": "text/x-python",
   "name": "python",
   "nbconvert_exporter": "python",
   "pygments_lexer": "ipython3",
   "version": "3.6.3"
  }
 },
 "nbformat": 4,
 "nbformat_minor": 2
}
