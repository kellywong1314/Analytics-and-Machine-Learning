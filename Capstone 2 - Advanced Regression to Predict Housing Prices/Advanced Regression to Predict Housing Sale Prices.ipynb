{
 "cells": [
  {
   "cell_type": "markdown",
   "metadata": {},
   "source": [
    "# Advanced Regression\n",
    "\n",
    "In this notebook, seven regression models will be created to examine which model performs best in predicting home sale prices in Ames, IA. The data has already been wrangled in a previous notebook, which included imputing null values in the features,  encoding the categorical variables, scaling all of the features, and taking the log of the target variable.\n",
    "\n",
    "The models include five variations of linear regression and two ensemble methods."
   ]
  },
  {
   "cell_type": "code",
   "execution_count": 1,
   "metadata": {
    "collapsed": true
   },
   "outputs": [],
   "source": [
    "# import packages that will be used for plotting and analyzing the data\n",
    "\n",
    "import pandas as pd\n",
    "import matplotlib.pyplot as plt\n",
    "import seaborn as sns\n",
    "import numpy as np\n",
    "import scipy\n",
    "from scipy import stats\n",
    "%matplotlib inline\n",
    "\n",
    "from sklearn.metrics import mean_squared_log_error\n",
    "from sklearn.metrics import mean_squared_error\n",
    "\n",
    "from sklearn.dummy import DummyClassifier\n",
    "from sklearn.decomposition import PCA\n",
    "from sklearn.model_selection import train_test_split\n",
    "from sklearn.model_selection import GridSearchCV, RandomizedSearchCV\n",
    "from sklearn.linear_model import LinearRegression, Lasso, Ridge\n",
    "from sklearn.ensemble import RandomForestRegressor\n",
    "import xgboost as xgb\n",
    "from sklearn.feature_selection import SelectKBest\n",
    "from sklearn.feature_selection import chi2\n",
    "\n",
    "from statsmodels.stats.outliers_influence import variance_inflation_factor\n",
    "from sklearn.base import BaseEstimator, TransformerMixin\n",
    "from sklearn.preprocessing import Imputer, RobustScaler\n"
   ]
  },
  {
   "cell_type": "code",
   "execution_count": 2,
   "metadata": {
    "collapsed": true
   },
   "outputs": [],
   "source": [
    "# read in data file for training the ML models into a DataFrame\n",
    "\n",
    "df = pd.read_csv('Data/train_imputed.csv')"
   ]
  },
  {
   "cell_type": "code",
   "execution_count": 3,
   "metadata": {
    "collapsed": true
   },
   "outputs": [],
   "source": [
    "# set the feature and target variables for the \n",
    "\n",
    "X = df.drop('SalePrice', axis=1)\n",
    "y = df.SalePrice"
   ]
  },
  {
   "cell_type": "code",
   "execution_count": 4,
   "metadata": {
    "scrolled": false
   },
   "outputs": [
    {
     "data": {
      "text/html": [
       "<div>\n",
       "<style>\n",
       "    .dataframe thead tr:only-child th {\n",
       "        text-align: right;\n",
       "    }\n",
       "\n",
       "    .dataframe thead th {\n",
       "        text-align: left;\n",
       "    }\n",
       "\n",
       "    .dataframe tbody tr th {\n",
       "        vertical-align: top;\n",
       "    }\n",
       "</style>\n",
       "<table border=\"1\" class=\"dataframe\">\n",
       "  <thead>\n",
       "    <tr style=\"text-align: right;\">\n",
       "      <th></th>\n",
       "      <th>MSSubClass</th>\n",
       "      <th>LotFrontage</th>\n",
       "      <th>LotArea</th>\n",
       "      <th>LotShape</th>\n",
       "      <th>LandSlope</th>\n",
       "      <th>OverallQual</th>\n",
       "      <th>OverallCond</th>\n",
       "      <th>YearBuilt</th>\n",
       "      <th>YearRemodAdd</th>\n",
       "      <th>MasVnrArea</th>\n",
       "      <th>...</th>\n",
       "      <th>SaleType_ConLw</th>\n",
       "      <th>SaleType_New</th>\n",
       "      <th>SaleType_Oth</th>\n",
       "      <th>SaleType_WD</th>\n",
       "      <th>SaleCondition_Abnorml</th>\n",
       "      <th>SaleCondition_AdjLand</th>\n",
       "      <th>SaleCondition_Alloca</th>\n",
       "      <th>SaleCondition_Family</th>\n",
       "      <th>SaleCondition_Normal</th>\n",
       "      <th>SaleCondition_Partial</th>\n",
       "    </tr>\n",
       "  </thead>\n",
       "  <tbody>\n",
       "    <tr>\n",
       "      <th>0</th>\n",
       "      <td>0.2</td>\n",
       "      <td>-0.265787</td>\n",
       "      <td>-0.254076</td>\n",
       "      <td>0.0</td>\n",
       "      <td>0.0</td>\n",
       "      <td>0.5</td>\n",
       "      <td>0.0</td>\n",
       "      <td>0.652174</td>\n",
       "      <td>0.243243</td>\n",
       "      <td>1.193303</td>\n",
       "      <td>...</td>\n",
       "      <td>0</td>\n",
       "      <td>0</td>\n",
       "      <td>0</td>\n",
       "      <td>1</td>\n",
       "      <td>0</td>\n",
       "      <td>0</td>\n",
       "      <td>0</td>\n",
       "      <td>0</td>\n",
       "      <td>1</td>\n",
       "      <td>0</td>\n",
       "    </tr>\n",
       "    <tr>\n",
       "      <th>1</th>\n",
       "      <td>-0.6</td>\n",
       "      <td>0.523686</td>\n",
       "      <td>0.030015</td>\n",
       "      <td>0.0</td>\n",
       "      <td>0.0</td>\n",
       "      <td>0.0</td>\n",
       "      <td>3.0</td>\n",
       "      <td>0.065217</td>\n",
       "      <td>-0.486486</td>\n",
       "      <td>0.000000</td>\n",
       "      <td>...</td>\n",
       "      <td>0</td>\n",
       "      <td>0</td>\n",
       "      <td>0</td>\n",
       "      <td>1</td>\n",
       "      <td>0</td>\n",
       "      <td>0</td>\n",
       "      <td>0</td>\n",
       "      <td>0</td>\n",
       "      <td>1</td>\n",
       "      <td>0</td>\n",
       "    </tr>\n",
       "    <tr>\n",
       "      <th>2</th>\n",
       "      <td>0.2</td>\n",
       "      <td>-0.107893</td>\n",
       "      <td>0.437624</td>\n",
       "      <td>-1.0</td>\n",
       "      <td>0.0</td>\n",
       "      <td>0.5</td>\n",
       "      <td>0.0</td>\n",
       "      <td>0.608696</td>\n",
       "      <td>0.216216</td>\n",
       "      <td>0.986301</td>\n",
       "      <td>...</td>\n",
       "      <td>0</td>\n",
       "      <td>0</td>\n",
       "      <td>0</td>\n",
       "      <td>1</td>\n",
       "      <td>0</td>\n",
       "      <td>0</td>\n",
       "      <td>0</td>\n",
       "      <td>0</td>\n",
       "      <td>1</td>\n",
       "      <td>0</td>\n",
       "    </tr>\n",
       "    <tr>\n",
       "      <th>3</th>\n",
       "      <td>0.4</td>\n",
       "      <td>-0.528945</td>\n",
       "      <td>0.017663</td>\n",
       "      <td>-1.0</td>\n",
       "      <td>0.0</td>\n",
       "      <td>0.5</td>\n",
       "      <td>0.0</td>\n",
       "      <td>-1.260870</td>\n",
       "      <td>-0.648649</td>\n",
       "      <td>0.000000</td>\n",
       "      <td>...</td>\n",
       "      <td>0</td>\n",
       "      <td>0</td>\n",
       "      <td>0</td>\n",
       "      <td>1</td>\n",
       "      <td>1</td>\n",
       "      <td>0</td>\n",
       "      <td>0</td>\n",
       "      <td>0</td>\n",
       "      <td>0</td>\n",
       "      <td>0</td>\n",
       "    </tr>\n",
       "    <tr>\n",
       "      <th>4</th>\n",
       "      <td>0.2</td>\n",
       "      <td>0.734213</td>\n",
       "      <td>1.181201</td>\n",
       "      <td>-1.0</td>\n",
       "      <td>0.0</td>\n",
       "      <td>1.0</td>\n",
       "      <td>0.0</td>\n",
       "      <td>0.586957</td>\n",
       "      <td>0.162162</td>\n",
       "      <td>2.130898</td>\n",
       "      <td>...</td>\n",
       "      <td>0</td>\n",
       "      <td>0</td>\n",
       "      <td>0</td>\n",
       "      <td>1</td>\n",
       "      <td>0</td>\n",
       "      <td>0</td>\n",
       "      <td>0</td>\n",
       "      <td>0</td>\n",
       "      <td>1</td>\n",
       "      <td>0</td>\n",
       "    </tr>\n",
       "  </tbody>\n",
       "</table>\n",
       "<p>5 rows × 229 columns</p>\n",
       "</div>"
      ],
      "text/plain": [
       "   MSSubClass  LotFrontage   LotArea  LotShape  LandSlope  OverallQual  \\\n",
       "0         0.2    -0.265787 -0.254076       0.0        0.0          0.5   \n",
       "1        -0.6     0.523686  0.030015       0.0        0.0          0.0   \n",
       "2         0.2    -0.107893  0.437624      -1.0        0.0          0.5   \n",
       "3         0.4    -0.528945  0.017663      -1.0        0.0          0.5   \n",
       "4         0.2     0.734213  1.181201      -1.0        0.0          1.0   \n",
       "\n",
       "   OverallCond  YearBuilt  YearRemodAdd  MasVnrArea          ...            \\\n",
       "0          0.0   0.652174      0.243243    1.193303          ...             \n",
       "1          3.0   0.065217     -0.486486    0.000000          ...             \n",
       "2          0.0   0.608696      0.216216    0.986301          ...             \n",
       "3          0.0  -1.260870     -0.648649    0.000000          ...             \n",
       "4          0.0   0.586957      0.162162    2.130898          ...             \n",
       "\n",
       "   SaleType_ConLw  SaleType_New  SaleType_Oth  SaleType_WD  \\\n",
       "0               0             0             0            1   \n",
       "1               0             0             0            1   \n",
       "2               0             0             0            1   \n",
       "3               0             0             0            1   \n",
       "4               0             0             0            1   \n",
       "\n",
       "   SaleCondition_Abnorml  SaleCondition_AdjLand  SaleCondition_Alloca  \\\n",
       "0                      0                      0                     0   \n",
       "1                      0                      0                     0   \n",
       "2                      0                      0                     0   \n",
       "3                      1                      0                     0   \n",
       "4                      0                      0                     0   \n",
       "\n",
       "   SaleCondition_Family  SaleCondition_Normal  SaleCondition_Partial  \n",
       "0                     0                     1                      0  \n",
       "1                     0                     1                      0  \n",
       "2                     0                     1                      0  \n",
       "3                     0                     0                      0  \n",
       "4                     0                     1                      0  \n",
       "\n",
       "[5 rows x 229 columns]"
      ]
     },
     "execution_count": 4,
     "metadata": {},
     "output_type": "execute_result"
    }
   ],
   "source": [
    "X.head()"
   ]
  },
  {
   "cell_type": "markdown",
   "metadata": {},
   "source": [
    "The Kaggle competition will be scored based on the Root Mean Squared Logarithmic Error (rmsle), so the models will be optimized for this value. However, the Root Mean Squared Error will still be computed for every model. \n",
    "\n",
    "The following functions will be used to compute the RMSLE and RMSE."
   ]
  },
  {
   "cell_type": "code",
   "execution_count": 5,
   "metadata": {
    "collapsed": true
   },
   "outputs": [],
   "source": [
    "def rmsle(y_true, y_pred):\n",
    "    return np.sqrt(mean_squared_log_error(y_true, y_pred))"
   ]
  },
  {
   "cell_type": "code",
   "execution_count": 6,
   "metadata": {
    "collapsed": true
   },
   "outputs": [],
   "source": [
    "def rmse(y_true, y_pred):\n",
    "    return np.sqrt(mean_squared_error(y_true, y_pred))"
   ]
  },
  {
   "cell_type": "markdown",
   "metadata": {},
   "source": [
    "# Linear Regression with PCA"
   ]
  },
  {
   "cell_type": "markdown",
   "metadata": {},
   "source": [
    "This first model will use principal component analysis (PCA) to generate new components for to be used as features in a linear regression. As a PCA generates new features, multicollinearity will not be a concern. Therefore, the PCA will be run with all of the available features in the dataset.\n",
    "\n",
    "First, the PCA will be run and the number of features plotted against their explained variance values to determine a suitable number of components to fit to the PCA."
   ]
  },
  {
   "cell_type": "code",
   "execution_count": 7,
   "metadata": {
    "scrolled": true
   },
   "outputs": [
    {
     "data": {
      "image/png": "[encoded data removed]",
      "text/plain": [
       "<matplotlib.figure.Figure at 0xc592c88>"
      ]
     },
     "metadata": {},
     "output_type": "display_data"
    }
   ],
   "source": [
    "# create PCA object and plot explained variance values against the number of components.\n",
    "pca = PCA()\n",
    "pca.fit(X)\n",
    "features = range(pca.n_components_)\n",
    "\n",
    "sns.set()\n",
    "plt.figure(figsize=(8, 6))\n",
    "sns.set()\n",
    "plt.plot(features, pca.explained_variance_, '-o')\n",
    "plt.xlabel('feature number')\n",
    "plt.ylabel('variance')\n",
    "plt.xlim(0, 10)\n",
    "plt.show()"
   ]
  },
  {
   "cell_type": "markdown",
   "metadata": {},
   "source": [
    "An elbow point can be observed at 2 components, so the PCA will be created with 2 components and fit to the features from the dataset. "
   ]
  },
  {
   "cell_type": "code",
   "execution_count": 8,
   "metadata": {
    "collapsed": true
   },
   "outputs": [],
   "source": [
    "# run PCA with 2 components and store them in a DataFrame\n",
    "\n",
    "model=PCA(n_components=2)\n",
    "model.fit(X)\n",
    "df_components = pd.DataFrame(model.transform(X))\n",
    "df_components.columns = ['component1', 'component2']"
   ]
  },
  {
   "cell_type": "code",
   "execution_count": 9,
   "metadata": {
    "collapsed": true
   },
   "outputs": [],
   "source": [
    "# join the new PCA components with the target variable and split into training and test sets.\n",
    "\n",
    "df_PCA = df_components.join(y, how='left')\n",
    "\n",
    "X_train, X_test, y_train, y_test = train_test_split(df_components, y, test_size=0.3, random_state=10)"
   ]
  },
  {
   "cell_type": "code",
   "execution_count": 10,
   "metadata": {},
   "outputs": [
    {
     "data": {
      "text/plain": [
       "LinearRegression(copy_X=True, fit_intercept=True, n_jobs=1, normalize=False)"
      ]
     },
     "execution_count": 10,
     "metadata": {},
     "output_type": "execute_result"
    }
   ],
   "source": [
    "# fit a linear regression to the principal components\n",
    "\n",
    "reg_PCA = LinearRegression()\n",
    "reg_PCA.fit(X_train, y_train)"
   ]
  },
  {
   "cell_type": "code",
   "execution_count": 11,
   "metadata": {},
   "outputs": [
    {
     "data": {
      "text/plain": [
       "GridSearchCV(cv=5, error_score='raise',\n",
       "       estimator=LinearRegression(copy_X=True, fit_intercept=True, n_jobs=1, normalize=False),\n",
       "       fit_params=None, iid=True, n_jobs=1,\n",
       "       param_grid={'fit_intercept': [True, False], 'normalize': [True, False]},\n",
       "       pre_dispatch='2*n_jobs', refit=True, return_train_score='warn',\n",
       "       scoring=None, verbose=0)"
      ]
     },
     "execution_count": 11,
     "metadata": {},
     "output_type": "execute_result"
    }
   ],
   "source": [
    "# tune hyperparameters\n",
    "\n",
    "param_grid = {'fit_intercept':[True, False], 'normalize':[True, False]}\n",
    "\n",
    "reg_PCA_cv = GridSearchCV(reg_PCA, param_grid, cv=5)\n",
    "reg_PCA_cv.fit(X_train, y_train)"
   ]
  },
  {
   "cell_type": "code",
   "execution_count": 12,
   "metadata": {
    "scrolled": false
   },
   "outputs": [
    {
     "name": "stdout",
     "output_type": "stream",
     "text": [
      "Tuned Regression Parameter: {'fit_intercept': True, 'normalize': True}\n"
     ]
    }
   ],
   "source": [
    "print(\"Tuned Regression Parameter: {}\".format(reg_PCA_cv.best_params_))"
   ]
  },
  {
   "cell_type": "code",
   "execution_count": 13,
   "metadata": {},
   "outputs": [
    {
     "data": {
      "text/plain": [
       "LinearRegression(copy_X=True, fit_intercept=True, n_jobs=1, normalize=True)"
      ]
     },
     "execution_count": 13,
     "metadata": {},
     "output_type": "execute_result"
    }
   ],
   "source": [
    "# refit model with best hyperparameters. In this case, the features should be normalized.\n",
    "\n",
    "reg_PCA = LinearRegression(fit_intercept=True, normalize=True)\n",
    "reg_PCA.fit(X_train, y_train)"
   ]
  },
  {
   "cell_type": "code",
   "execution_count": 14,
   "metadata": {},
   "outputs": [
    {
     "name": "stdout",
     "output_type": "stream",
     "text": [
      "PCA Score: 0.0308688843712\n"
     ]
    }
   ],
   "source": [
    "# predict home prices using the model and compute RMSLE value\n",
    "\n",
    "y_pred_PCA = reg_PCA.predict(X_test)\n",
    "\n",
    "pca_rmsle = rmsle(y_test, y_pred_PCA)\n",
    "print('PCA Score:', pca_rmsle)"
   ]
  },
  {
   "cell_type": "code",
   "execution_count": 15,
   "metadata": {},
   "outputs": [
    {
     "data": {
      "text/plain": [
       "0.40117887629488891"
      ]
     },
     "execution_count": 15,
     "metadata": {},
     "output_type": "execute_result"
    }
   ],
   "source": [
    "# compute RMSE value\n",
    "\n",
    "rmse(y_test, y_pred_PCA)"
   ]
  },
  {
   "cell_type": "markdown",
   "metadata": {},
   "source": [
    "# Linear Regression (out of box)"
   ]
  },
  {
   "cell_type": "markdown",
   "metadata": {},
   "source": [
    "This next model will examine how well an out of box regression performs without any feature selection."
   ]
  },
  {
   "cell_type": "code",
   "execution_count": 16,
   "metadata": {
    "collapsed": true
   },
   "outputs": [],
   "source": [
    "# split the entire dataset into training and test sets\n",
    "\n",
    "X_train, X_test, y_train, y_test = train_test_split(X, y, test_size=0.3, random_state=10)\n"
   ]
  },
  {
   "cell_type": "code",
   "execution_count": 17,
   "metadata": {},
   "outputs": [
    {
     "data": {
      "text/plain": [
       "LinearRegression(copy_X=True, fit_intercept=True, n_jobs=1, normalize=False)"
      ]
     },
     "execution_count": 17,
     "metadata": {},
     "output_type": "execute_result"
    }
   ],
   "source": [
    "# fit a linear regression model\n",
    "\n",
    "reg_oob = LinearRegression()\n",
    "reg_oob.fit(X_train, y_train)"
   ]
  },
  {
   "cell_type": "code",
   "execution_count": 18,
   "metadata": {},
   "outputs": [
    {
     "name": "stdout",
     "output_type": "stream",
     "text": [
      "LinReg Score:  0.00931802206761\n"
     ]
    }
   ],
   "source": [
    "# predict home prices using the model and compute RMSLE value\n",
    "\n",
    "y_pred_reg_oob = reg_oob.predict(X_test)\n",
    "\n",
    "reg_rmsle = rmsle(y_test, y_pred_reg_oob)\n",
    "print('LinReg Score: ', reg_rmsle)"
   ]
  },
  {
   "cell_type": "code",
   "execution_count": 19,
   "metadata": {},
   "outputs": [
    {
     "data": {
      "text/plain": [
       "0.11960540981745206"
      ]
     },
     "execution_count": 19,
     "metadata": {},
     "output_type": "execute_result"
    }
   ],
   "source": [
    "# compute RMSE value\n",
    "\n",
    "rmse(y_test, y_pred_reg_oob)"
   ]
  },
  {
   "cell_type": "markdown",
   "metadata": {},
   "source": [
    "This model seems to perform better than the regression fit with principal components, but performance may be boosted even further with different methods."
   ]
  },
  {
   "cell_type": "markdown",
   "metadata": {},
   "source": [
    "# Linear Regression with VIF"
   ]
  },
  {
   "cell_type": "markdown",
   "metadata": {},
   "source": [
    "As there was a significant amount of multicollinearity noted during the statistical analysis portion of this project and linear regression models are susceptible to multicollinearity in their features, this next model will examine the model's performance after models with high variance inflation factors are dropped.\n",
    "\n",
    "First, a ReduceVIF class will be created which can calculate VIF values and drop any features with a VIF over the threshold of 5."
   ]
  },
  {
   "cell_type": "code",
   "execution_count": 20,
   "metadata": {
    "collapsed": true
   },
   "outputs": [],
   "source": [
    "# from https://www.kaggle.com/ffisegydd/sklearn-multicollinearity-class/code\n",
    "\n",
    "class ReduceVIF(BaseEstimator, TransformerMixin):\n",
    "    def __init__(self, thresh=5.0):\n",
    "        \n",
    "        # the threshold will be set to 5. \n",
    "        self.thresh = thresh\n",
    "\n",
    "    def fit(self, X, y=None):\n",
    "        print('ReduceVIF fit')\n",
    "        if hasattr(self, 'imputer'):\n",
    "            self.imputer.fit(X)\n",
    "        return self\n",
    "\n",
    "    def transform(self, X, y=None):\n",
    "        print('ReduceVIF transform')\n",
    "        columns = X.columns.tolist()\n",
    "        if hasattr(self, 'imputer'):\n",
    "            X = pd.DataFrame(self.imputer.transform(X), columns=columns)\n",
    "        return ReduceVIF.calculate_vif(X, self.thresh)\n",
    "\n",
    "    @staticmethod\n",
    "    def calculate_vif(X, thresh=5.0):\n",
    "        # Taken from https://stats.stackexchange.com/a/253620/53565 and modified\n",
    "        dropped=True\n",
    "        while dropped:\n",
    "            variables = X.columns\n",
    "            dropped = False\n",
    "            vif = [variance_inflation_factor(X[variables].values, X.columns.get_loc(var)) for var in X.columns]\n",
    "            \n",
    "            max_vif = max(vif)\n",
    "            if max_vif > thresh:\n",
    "                maxloc = vif.index(max_vif)\n",
    "                print(f'Dropping {X.columns[maxloc]} with vif={max_vif}')\n",
    "                X = X.drop([X.columns.tolist()[maxloc]], axis=1)\n",
    "                dropped=True\n",
    "        return X"
   ]
  },
  {
   "cell_type": "code",
   "execution_count": 21,
   "metadata": {
    "scrolled": false
   },
   "outputs": [
    {
     "name": "stdout",
     "output_type": "stream",
     "text": [
      "ReduceVIF fit\n",
      "ReduceVIF transform\n"
     ]
    },
    {
     "name": "stderr",
     "output_type": "stream",
     "text": [
      "C:\\Users\\wongk3.NA\\AppData\\Local\\Continuum\\Anaconda2\\envs\\newPy36\\lib\\site-packages\\statsmodels\\stats\\outliers_influence.py:167: RuntimeWarning: divide by zero encountered in double_scalars\n",
      "  vif = 1. / (1. - r_squared_i)\n",
      "C:\\Users\\wongk3.NA\\AppData\\Local\\Continuum\\Anaconda2\\envs\\newPy36\\lib\\site-packages\\statsmodels\\regression\\linear_model.py:1386: RuntimeWarning: invalid value encountered in double_scalars\n",
      "  return 1 - self.ssr/self.centered_tss\n"
     ]
    },
    {
     "name": "stdout",
     "output_type": "stream",
     "text": [
      "Dropping BsmtFinSF1 with vif=inf\n",
      "Dropping 1stFlrSF with vif=inf\n",
      "Dropping MSZoning_C (all) with vif=inf\n",
      "Dropping Street_Grvl with vif=inf\n",
      "Dropping Alley_Grvl with vif=inf\n",
      "Dropping LandContour_Bnk with vif=inf\n",
      "Dropping Utilities_AllPub with vif=inf\n",
      "Dropping LotConfig_Corner with vif=inf\n",
      "Dropping Neighborhood_Blmngtn with vif=inf\n",
      "Dropping Condition1_Artery with vif=inf\n",
      "Dropping Condition2_Artery with vif=inf\n",
      "Dropping BldgType_1Fam with vif=inf\n",
      "Dropping HouseStyle_1.5Fin with vif=inf\n",
      "Dropping RoofStyle_Flat with vif=inf\n",
      "Dropping RoofMatl_CompShg with vif=inf\n",
      "Dropping Exterior1st_AsbShng with vif=inf\n",
      "Dropping Exterior1st_CBlock with vif=inf\n",
      "Dropping Exterior2nd_AsbShng with vif=inf\n",
      "Dropping MasVnrType_BrkCmn with vif=inf\n",
      "Dropping Foundation_BrkTil with vif=inf\n",
      "Dropping Heating_Floor with vif=inf\n",
      "Dropping Electrical_FuseA with vif=inf\n",
      "Dropping GarageType_2Types with vif=inf\n",
      "Dropping Fence_GdPrv with vif=inf\n",
      "Dropping MiscFeature_Gar2 with vif=inf\n",
      "Dropping SaleType_COD with vif=inf\n",
      "Dropping SaleCondition_Normal with vif=24383.063983940658\n"
     ]
    },
    {
     "name": "stderr",
     "output_type": "stream",
     "text": [
      "C:\\Users\\wongk3.NA\\AppData\\Local\\Continuum\\Anaconda2\\envs\\newPy36\\lib\\site-packages\\statsmodels\\regression\\linear_model.py:1388: RuntimeWarning: invalid value encountered in double_scalars\n",
      "  return 1 - self.ssr/self.uncentered_tss\n"
     ]
    },
    {
     "name": "stdout",
     "output_type": "stream",
     "text": [
      "Dropping MiscFeature_None with vif=4365.1712836591305\n",
      "Dropping GarageYrBlt with vif=2232.9888815104828\n",
      "Dropping Heating_GasA with vif=1080.536772688213\n",
      "Dropping Condition2_Norm with vif=721.6011720244313\n",
      "Dropping RoofStyle_Gable with vif=439.2597024224827\n",
      "Dropping Street_Pave with vif=318.84317717626016\n",
      "Dropping Exterior1st_VinylSd with vif=170.8732506889865\n",
      "Dropping MSZoning_RL with vif=158.58315459641068\n",
      "Dropping GarageType_Attchd with vif=126.08657720027163\n",
      "Dropping MasVnrType_None with vif=62.151741101657336\n",
      "Dropping SaleType_New with vif=52.04978235758153\n",
      "Dropping Exterior2nd_MetalSd with vif=50.22142901263269\n",
      "Dropping Alley_None with vif=42.40460934677041\n",
      "Dropping 2ndFlrSF with vif=36.69069788633362\n",
      "Dropping SaleType_WD with vif=34.43328323256324\n",
      "Dropping Condition1_Norm with vif=34.1655100518604\n",
      "Dropping MSSubClass with vif=32.8237883342591\n",
      "Dropping LandContour_Lvl with vif=29.079481465828596\n",
      "Dropping Exterior2nd_CmentBd with vif=27.25478552644733\n",
      "Dropping Fence_None with vif=25.61708932485828\n",
      "Dropping GarageCond with vif=21.91996139222687\n",
      "Dropping Exterior2nd_VinylSd with vif=21.42222946026633\n",
      "Dropping Electrical_SBrkr with vif=18.99455342301176\n",
      "Dropping Exterior1st_HdBoard with vif=15.487461354179311\n",
      "Dropping GarageType_None with vif=13.8812516960246\n",
      "Dropping YearBuilt with vif=12.858127034734716\n",
      "Dropping HouseStyle_1Story with vif=12.518716891878297\n",
      "Dropping PoolArea with vif=11.233514355327339\n",
      "Dropping Foundation_PConc with vif=10.883391759577615\n",
      "Dropping GrLivArea with vif=10.502741970208717\n",
      "Dropping Exterior2nd_Wd Sdng with vif=8.520691935683296\n",
      "Dropping GarageCars with vif=8.111977895244435\n",
      "Dropping BsmtQual with vif=7.4674922290020564\n",
      "Dropping Fireplaces with vif=7.127631934179543\n",
      "Dropping Neighborhood_Somerst with vif=6.894269718636121\n",
      "Dropping TotalBsmtSF with vif=6.541955859768682\n",
      "Dropping Neighborhood_OldTown with vif=6.236517263461195\n",
      "Dropping ExterQual with vif=5.462905801307714\n",
      "Dropping LotConfig_Inside with vif=5.176439042194152\n",
      "Dropping FullBath with vif=5.12477342985291\n"
     ]
    }
   ],
   "source": [
    "# a ReduceVIF object is create and fit_transformed to the data\n",
    "\n",
    "transformer = ReduceVIF()\n",
    "X = transformer.fit_transform(X, y)"
   ]
  },
  {
   "cell_type": "code",
   "execution_count": 22,
   "metadata": {},
   "outputs": [
    {
     "name": "stdout",
     "output_type": "stream",
     "text": [
      "<class 'pandas.core.frame.DataFrame'>\n",
      "RangeIndex: 1458 entries, 0 to 1457\n",
      "Columns: 162 entries, LotFrontage to SaleCondition_Partial\n",
      "dtypes: float64(40), int64(122)\n",
      "memory usage: 1.8 MB\n"
     ]
    }
   ],
   "source": [
    "# after dropping values with high VIFs, the DataFrame has 162 remaining features.\n",
    "\n",
    "X.info()"
   ]
  },
  {
   "cell_type": "code",
   "execution_count": 23,
   "metadata": {
    "collapsed": true
   },
   "outputs": [],
   "source": [
    "# the new DataFrame is split intro training and test sets\n",
    "\n",
    "X_train, X_test, y_train, y_test = train_test_split(X, y, test_size=0.3, random_state=10)\n"
   ]
  },
  {
   "cell_type": "code",
   "execution_count": 24,
   "metadata": {},
   "outputs": [
    {
     "data": {
      "text/plain": [
       "LinearRegression(copy_X=True, fit_intercept=True, n_jobs=1, normalize=False)"
      ]
     },
     "execution_count": 24,
     "metadata": {},
     "output_type": "execute_result"
    }
   ],
   "source": [
    "# fit a linear regression model to the training data\n",
    "\n",
    "reg_VIF = LinearRegression()\n",
    "reg_VIF.fit(X_train, y_train)"
   ]
  },
  {
   "cell_type": "code",
   "execution_count": 25,
   "metadata": {},
   "outputs": [
    {
     "name": "stdout",
     "output_type": "stream",
     "text": [
      "LinReg VIF Score:  0.0109494094158\n"
     ]
    }
   ],
   "source": [
    "# predict home prices using the model and compute RMSLE value\n",
    "\n",
    "y_pred_reg_VIF = reg_VIF.predict(X_test)\n",
    "\n",
    "regvif_rmsle = rmsle(y_test, y_pred_reg_VIF)\n",
    "print('LinReg VIF Score: ', regvif_rmsle)"
   ]
  },
  {
   "cell_type": "code",
   "execution_count": 26,
   "metadata": {},
   "outputs": [
    {
     "name": "stdout",
     "output_type": "stream",
     "text": [
      "Tuned Regression (with VIF) Parameter: {'fit_intercept': True, 'normalize': False}\n"
     ]
    }
   ],
   "source": [
    "# tune hyperparameters\n",
    "\n",
    "reg_cv = GridSearchCV(reg_VIF, param_grid, cv=5)\n",
    "reg_cv.fit(X_train,y_train)\n",
    "\n",
    "print(\"Tuned Regression (with VIF) Parameter: {}\".format(reg_cv.best_params_))"
   ]
  },
  {
   "cell_type": "markdown",
   "metadata": {},
   "source": [
    "As the best parameters seem to be the default ones, we will simply proceed with scoring this model. The RMSLE value has already been computed."
   ]
  },
  {
   "cell_type": "code",
   "execution_count": 27,
   "metadata": {
    "scrolled": true
   },
   "outputs": [
    {
     "data": {
      "text/plain": [
       "0.14075436319066861"
      ]
     },
     "execution_count": 27,
     "metadata": {},
     "output_type": "execute_result"
    }
   ],
   "source": [
    "# compute RMSE value\n",
    "\n",
    "rmse(y_test, y_pred_reg_VIF)"
   ]
  },
  {
   "cell_type": "markdown",
   "metadata": {},
   "source": [
    "Although the linear regression model fit after dropping high-VIF features performs slightly worse than the out-of-box linear regression if optimizing for RMSLE, this model has significantly lower complexity."
   ]
  },
  {
   "cell_type": "markdown",
   "metadata": {},
   "source": [
    "# Ridge Regression"
   ]
  },
  {
   "cell_type": "markdown",
   "metadata": {},
   "source": [
    "This next model will use ridge regression, which uses L2 regularization."
   ]
  },
  {
   "cell_type": "code",
   "execution_count": 28,
   "metadata": {},
   "outputs": [
    {
     "data": {
      "text/plain": [
       "Ridge(alpha=1.0, copy_X=True, fit_intercept=True, max_iter=None,\n",
       "   normalize=False, random_state=None, solver='auto', tol=0.001)"
      ]
     },
     "execution_count": 28,
     "metadata": {},
     "output_type": "execute_result"
    }
   ],
   "source": [
    "# create a ridge regressor and fit the training data to it\n",
    "\n",
    "reg_ridge = Ridge()\n",
    "reg_ridge.fit(X_train, y_train)"
   ]
  },
  {
   "cell_type": "code",
   "execution_count": 29,
   "metadata": {},
   "outputs": [
    {
     "data": {
      "text/plain": [
       "0.010504736344298448"
      ]
     },
     "execution_count": 29,
     "metadata": {},
     "output_type": "execute_result"
    }
   ],
   "source": [
    "# predict home prices using the model and compute RMSLE value\n",
    "\n",
    "y_pred_reg_ridge = reg_ridge.predict(X_test)\n",
    "\n",
    "rmsle(y_test, y_pred_reg_ridge)"
   ]
  },
  {
   "cell_type": "code",
   "execution_count": 30,
   "metadata": {},
   "outputs": [
    {
     "data": {
      "text/plain": [
       "GridSearchCV(cv=5, error_score='raise',\n",
       "       estimator=Ridge(alpha=1.0, copy_X=True, fit_intercept=True, max_iter=None,\n",
       "   normalize=False, random_state=None, solver='auto', tol=0.001),\n",
       "       fit_params=None, iid=True, n_jobs=1,\n",
       "       param_grid={'alpha': [0.01, 0.1, 1.0, 10, 100], 'fit_intercept': [True, False], 'normalize': [True, False]},\n",
       "       pre_dispatch='2*n_jobs', refit=True, return_train_score='warn',\n",
       "       scoring=None, verbose=0)"
      ]
     },
     "execution_count": 30,
     "metadata": {},
     "output_type": "execute_result"
    }
   ],
   "source": [
    "# tune hyperparameters\n",
    "\n",
    "param_grid = {'alpha': [0.01, 0.1, 1.0, 10, 100], \n",
    "             'fit_intercept': [True, False], \n",
    "             'normalize': [True, False]}\n",
    "\n",
    "reg_ridge_cv = GridSearchCV(reg_ridge, param_grid, cv=5)\n",
    "reg_ridge_cv.fit(X_train, y_train)"
   ]
  },
  {
   "cell_type": "code",
   "execution_count": 31,
   "metadata": {},
   "outputs": [
    {
     "name": "stdout",
     "output_type": "stream",
     "text": [
      "Tuned Ridge Regression Parameter: {'alpha': 10, 'fit_intercept': True, 'normalize': False}\n"
     ]
    }
   ],
   "source": [
    "print(\"Tuned Ridge Regression Parameter: {}\".format(reg_ridge_cv.best_params_))"
   ]
  },
  {
   "cell_type": "code",
   "execution_count": 32,
   "metadata": {},
   "outputs": [
    {
     "data": {
      "text/plain": [
       "Ridge(alpha=10, copy_X=True, fit_intercept=True, max_iter=None,\n",
       "   normalize=False, random_state=None, solver='auto', tol=0.001)"
      ]
     },
     "execution_count": 32,
     "metadata": {},
     "output_type": "execute_result"
    }
   ],
   "source": [
    "# refit the ridge regressor with tuned hyperparameters\n",
    "\n",
    "reg_ridge = Ridge(alpha=10, fit_intercept=True, normalize=False)\n",
    "reg_ridge.fit(X_train, y_train)"
   ]
  },
  {
   "cell_type": "code",
   "execution_count": 33,
   "metadata": {},
   "outputs": [
    {
     "name": "stdout",
     "output_type": "stream",
     "text": [
      "Ridge Score:  0.0102363636569\n"
     ]
    }
   ],
   "source": [
    "# predict home prices using the model and compute RMSLE value\n",
    "\n",
    "y_pred_reg_ridge = reg_ridge.predict(X_test)\n",
    "\n",
    "ridge_rmsle = rmsle(y_test, y_pred_reg_ridge)\n",
    "print(\"Ridge Score: \", ridge_rmsle)"
   ]
  },
  {
   "cell_type": "code",
   "execution_count": 34,
   "metadata": {},
   "outputs": [
    {
     "data": {
      "text/plain": [
       "0.13177705575992346"
      ]
     },
     "execution_count": 34,
     "metadata": {},
     "output_type": "execute_result"
    }
   ],
   "source": [
    "# compute RMSE value\n",
    "\n",
    "rmse(y_test, y_pred_reg_ridge)"
   ]
  },
  {
   "cell_type": "markdown",
   "metadata": {},
   "source": [
    "In this case, tuning the model just barely improves the RMSLE. This model performs similarly to the regular linear regression models."
   ]
  },
  {
   "cell_type": "markdown",
   "metadata": {},
   "source": [
    "# Lasso Regression"
   ]
  },
  {
   "cell_type": "markdown",
   "metadata": {},
   "source": [
    "This next model examines the performance of a LASSO regression in predicting the home sale prices."
   ]
  },
  {
   "cell_type": "code",
   "execution_count": 35,
   "metadata": {
    "scrolled": true
   },
   "outputs": [
    {
     "data": {
      "text/plain": [
       "Lasso(alpha=1.0, copy_X=True, fit_intercept=True, max_iter=1000,\n",
       "   normalize=False, positive=False, precompute=False, random_state=None,\n",
       "   selection='cyclic', tol=0.0001, warm_start=False)"
      ]
     },
     "execution_count": 35,
     "metadata": {},
     "output_type": "execute_result"
    }
   ],
   "source": [
    "# create a LASSO regressor and fit the training data to it\n",
    "\n",
    "reg_lasso = Lasso()\n",
    "reg_lasso.fit(X_train, y_train)"
   ]
  },
  {
   "cell_type": "code",
   "execution_count": 36,
   "metadata": {},
   "outputs": [
    {
     "data": {
      "text/plain": [
       "0.030315304617240489"
      ]
     },
     "execution_count": 36,
     "metadata": {},
     "output_type": "execute_result"
    }
   ],
   "source": [
    "# predict home prices using the model and compute RMSLE value\n",
    "\n",
    "y_pred_reg_lasso = reg_lasso.predict(X_test)\n",
    "\n",
    "rmsle(y_test, y_pred_reg_lasso)"
   ]
  },
  {
   "cell_type": "code",
   "execution_count": 37,
   "metadata": {},
   "outputs": [
    {
     "data": {
      "text/plain": [
       "GridSearchCV(cv=5, error_score='raise',\n",
       "       estimator=Lasso(alpha=1.0, copy_X=True, fit_intercept=True, max_iter=1000,\n",
       "   normalize=False, positive=False, precompute=False, random_state=None,\n",
       "   selection='cyclic', tol=0.0001, warm_start=False),\n",
       "       fit_params=None, iid=True, n_jobs=1,\n",
       "       param_grid={'alpha': [0.1, 1, 10], 'normalize': [True, False]},\n",
       "       pre_dispatch='2*n_jobs', refit=True, return_train_score='warn',\n",
       "       scoring=None, verbose=0)"
      ]
     },
     "execution_count": 37,
     "metadata": {},
     "output_type": "execute_result"
    }
   ],
   "source": [
    "# tune hyperparameters\n",
    "\n",
    "param_grid = {'alpha':[0.1, 1, 10], 'normalize':[True, False]}\n",
    "\n",
    "reg_lasso_cv = GridSearchCV(reg_lasso, param_grid, cv=5)\n",
    "reg_lasso_cv.fit(X_train, y_train)"
   ]
  },
  {
   "cell_type": "code",
   "execution_count": 38,
   "metadata": {},
   "outputs": [
    {
     "name": "stdout",
     "output_type": "stream",
     "text": [
      "Tuned LASSO Regression Parameter: {'alpha': 0.1, 'normalize': False}\n"
     ]
    }
   ],
   "source": [
    "print(\"Tuned LASSO Regression Parameter: {}\".format(reg_lasso_cv.best_params_))"
   ]
  },
  {
   "cell_type": "code",
   "execution_count": 39,
   "metadata": {},
   "outputs": [
    {
     "data": {
      "text/plain": [
       "Lasso(alpha=0.1, copy_X=True, fit_intercept=True, max_iter=1000,\n",
       "   normalize=False, positive=False, precompute=False, random_state=None,\n",
       "   selection='cyclic', tol=0.0001, warm_start=False)"
      ]
     },
     "execution_count": 39,
     "metadata": {},
     "output_type": "execute_result"
    }
   ],
   "source": [
    "# refit LASSO regressor with tuned hyperparameters\n",
    "\n",
    "reg_lasso=Lasso(alpha=0.1, normalize=False)\n",
    "reg_lasso.fit(X_train, y_train)"
   ]
  },
  {
   "cell_type": "code",
   "execution_count": 40,
   "metadata": {},
   "outputs": [
    {
     "name": "stdout",
     "output_type": "stream",
     "text": [
      "Lasso Score:  0.0190389420488\n"
     ]
    }
   ],
   "source": [
    "# predict home prices using the model and compute RMSLE value\n",
    "\n",
    "y_pred_reg_lasso = reg_lasso.predict(X_test)\n",
    "\n",
    "lasso_rmsle = rmsle(y_test, y_pred_reg_lasso)\n",
    "print(\"Lasso Score: \", lasso_rmsle)"
   ]
  },
  {
   "cell_type": "code",
   "execution_count": 41,
   "metadata": {},
   "outputs": [
    {
     "data": {
      "text/plain": [
       "0.24652560951145228"
      ]
     },
     "execution_count": 41,
     "metadata": {},
     "output_type": "execute_result"
    }
   ],
   "source": [
    "# compute RMSE value\n",
    "\n",
    "rmse(y_test, y_pred_reg_lasso)"
   ]
  },
  {
   "cell_type": "markdown",
   "metadata": {},
   "source": [
    "Tuning the model improved the rmsle by 0.012, but this model does not perform as well as the linear regression model or the ridge regression model."
   ]
  },
  {
   "cell_type": "markdown",
   "metadata": {},
   "source": [
    "# Random Forest"
   ]
  },
  {
   "cell_type": "markdown",
   "metadata": {},
   "source": [
    "Next, a random forest regressor will be created and its performance evaluated. There are more hyperparameters, so the tuning step will likely take longer than it did for the linear regression models if we were to tune every hyperparameter. Therefore, RandomizedSearchCV will be used for tuning the model."
   ]
  },
  {
   "cell_type": "code",
   "execution_count": 42,
   "metadata": {},
   "outputs": [
    {
     "data": {
      "text/plain": [
       "RandomForestRegressor(bootstrap=True, criterion='mse', max_depth=None,\n",
       "           max_features='auto', max_leaf_nodes=None,\n",
       "           min_impurity_decrease=0.0, min_impurity_split=None,\n",
       "           min_samples_leaf=1, min_samples_split=2,\n",
       "           min_weight_fraction_leaf=0.0, n_estimators=10, n_jobs=1,\n",
       "           oob_score=False, random_state=None, verbose=0, warm_start=False)"
      ]
     },
     "execution_count": 42,
     "metadata": {},
     "output_type": "execute_result"
    }
   ],
   "source": [
    "# create a random forest regressor and fit to the training data\n",
    "\n",
    "reg_rf = RandomForestRegressor()\n",
    "reg_rf.fit(X_train, y_train)"
   ]
  },
  {
   "cell_type": "code",
   "execution_count": 43,
   "metadata": {},
   "outputs": [
    {
     "data": {
      "text/plain": [
       "0.012312724575197654"
      ]
     },
     "execution_count": 43,
     "metadata": {},
     "output_type": "execute_result"
    }
   ],
   "source": [
    "# predict home prices using the model and compute RMSLE value\n",
    "\n",
    "y_pred_reg_rf = reg_rf.predict(X_test)\n",
    "\n",
    "rmsle(y_test, y_pred_reg_rf)"
   ]
  },
  {
   "cell_type": "code",
   "execution_count": 44,
   "metadata": {
    "collapsed": true
   },
   "outputs": [],
   "source": [
    "# Specify the hyperparameters to be tested with RandomizedSearchCV\n",
    "\n",
    "# Number of trees in random forest\n",
    "n_estimators = [120, 300, 500, 800, 1200]\n",
    "\n",
    "# Number of features to consider at every split\n",
    "max_features = ['log2', 'sqrt', 'auto']\n",
    "\n",
    "# Maximum number of levels in tree\n",
    "max_depth = [5, 8, 15, 25, 30, None]\n",
    "\n",
    "# Minimum number of samples required to split a node\n",
    "min_samples_split = [1.0, 2, 5, 10, 15, 100]\n",
    "\n",
    "# Minimum number of samples required at each leaf node\n",
    "min_samples_leaf = [1, 2, 5, 10]\n",
    "\n",
    "# Method of selecting samples for training each tree\n",
    "bootstrap = [True, False]\n",
    "\n",
    "# Create the random grid\n",
    "random_grid = {'n_estimators': n_estimators,\n",
    "               'max_features': max_features,\n",
    "               'max_depth': max_depth,\n",
    "               'min_samples_split': min_samples_split,\n",
    "               'min_samples_leaf': min_samples_leaf,\n",
    "               'bootstrap': bootstrap}"
   ]
  },
  {
   "cell_type": "code",
   "execution_count": 45,
   "metadata": {
    "scrolled": true
   },
   "outputs": [
    {
     "name": "stdout",
     "output_type": "stream",
     "text": [
      "Fitting 5 folds for each of 250 candidates, totalling 1250 fits\n"
     ]
    },
    {
     "name": "stderr",
     "output_type": "stream",
     "text": [
      "[Parallel(n_jobs=-1)]: Done  33 tasks      | elapsed:   29.2s\n",
      "[Parallel(n_jobs=-1)]: Done 154 tasks      | elapsed:  2.7min\n",
      "[Parallel(n_jobs=-1)]: Done 357 tasks      | elapsed:  6.3min\n",
      "[Parallel(n_jobs=-1)]: Done 640 tasks      | elapsed:  9.7min\n",
      "[Parallel(n_jobs=-1)]: Done 1005 tasks      | elapsed: 17.0min\n",
      "[Parallel(n_jobs=-1)]: Done 1250 out of 1250 | elapsed: 20.1min finished\n"
     ]
    },
    {
     "data": {
      "text/plain": [
       "RandomizedSearchCV(cv=5, error_score='raise',\n",
       "          estimator=RandomForestRegressor(bootstrap=True, criterion='mse', max_depth=None,\n",
       "           max_features='auto', max_leaf_nodes=None,\n",
       "           min_impurity_decrease=0.0, min_impurity_split=None,\n",
       "           min_samples_leaf=1, min_samples_split=2,\n",
       "           min_weight_fraction_leaf=0.0, n_estimators=10, n_jobs=1,\n",
       "           oob_score=False, random_state=None, verbose=0, warm_start=False),\n",
       "          fit_params=None, iid=True, n_iter=250, n_jobs=-1,\n",
       "          param_distributions={'n_estimators': [120, 300, 500, 800, 1200], 'max_features': ['log2', 'sqrt', 'auto'], 'max_depth': [5, 8, 15, 25, 30, None], 'min_samples_split': [1.0, 2, 5, 10, 15, 100], 'min_samples_leaf': [1, 2, 5, 10], 'bootstrap': [True, False]},\n",
       "          pre_dispatch='2*n_jobs', random_state=10, refit=True,\n",
       "          return_train_score='warn', scoring=None, verbose=2)"
      ]
     },
     "execution_count": 45,
     "metadata": {},
     "output_type": "execute_result"
    }
   ],
   "source": [
    "# Use the random grid to search for best hyperparameters\n",
    "\n",
    "# Random search of parameters, using 5 fold cross validation, \n",
    "# search across 100 different combinations, and use all available cores\n",
    "reg_rf_cv = RandomizedSearchCV(estimator = reg_rf, \n",
    "                               param_distributions = random_grid, \n",
    "                               n_iter = 250, \n",
    "                               cv = 5, \n",
    "                               verbose=2, \n",
    "                               random_state=10, \n",
    "                               n_jobs = -1)\n",
    "\n",
    "# Fit the random search model\n",
    "reg_rf_cv.fit(X, y)"
   ]
  },
  {
   "cell_type": "code",
   "execution_count": 46,
   "metadata": {
    "scrolled": true
   },
   "outputs": [
    {
     "name": "stdout",
     "output_type": "stream",
     "text": [
      "Tuned Random Forest Parameter: {'n_estimators': 1200, 'min_samples_split': 5, 'min_samples_leaf': 1, 'max_features': 'sqrt', 'max_depth': 25, 'bootstrap': False}\n"
     ]
    }
   ],
   "source": [
    "print(\"Tuned Random Forest Parameter: {}\".format(reg_rf_cv.best_params_))"
   ]
  },
  {
   "cell_type": "code",
   "execution_count": 47,
   "metadata": {},
   "outputs": [
    {
     "data": {
      "text/plain": [
       "RandomForestRegressor(bootstrap=False, criterion='mse', max_depth=25,\n",
       "           max_features='sqrt', max_leaf_nodes=None,\n",
       "           min_impurity_decrease=0.0, min_impurity_split=None,\n",
       "           min_samples_leaf=1, min_samples_split=5,\n",
       "           min_weight_fraction_leaf=0.0, n_estimators=1200, n_jobs=1,\n",
       "           oob_score=False, random_state=None, verbose=0, warm_start=False)"
      ]
     },
     "execution_count": 47,
     "metadata": {},
     "output_type": "execute_result"
    }
   ],
   "source": [
    "# refit random forest with tuned hyperparameters\n",
    "\n",
    "reg_rf = reg_rf_cv.best_estimator_\n",
    "reg_rf.fit(X_train, y_train)"
   ]
  },
  {
   "cell_type": "code",
   "execution_count": 48,
   "metadata": {},
   "outputs": [
    {
     "name": "stdout",
     "output_type": "stream",
     "text": [
      "RF Score:  0.0113491025167\n"
     ]
    }
   ],
   "source": [
    "# predict home prices using the model and compute RMSLE value\n",
    "\n",
    "y_pred_reg_rf = reg_rf.predict(X_test)\n",
    "\n",
    "rf_rmsle = rmsle(y_test, y_pred_reg_rf)\n",
    "print('RF Score: ', rf_rmsle)"
   ]
  },
  {
   "cell_type": "code",
   "execution_count": 49,
   "metadata": {},
   "outputs": [
    {
     "data": {
      "text/plain": [
       "0.14606688772157811"
      ]
     },
     "execution_count": 49,
     "metadata": {},
     "output_type": "execute_result"
    }
   ],
   "source": [
    "# compute RMSE value\n",
    "\n",
    "rmse(y_test, y_pred_reg_rf)"
   ]
  },
  {
   "cell_type": "markdown",
   "metadata": {},
   "source": [
    "The random forest did not perform as well as the linear regression models."
   ]
  },
  {
   "cell_type": "markdown",
   "metadata": {},
   "source": [
    "# XGBoost"
   ]
  },
  {
   "cell_type": "markdown",
   "metadata": {},
   "source": [
    "Finally, an xgboost model will be used and its performance evaluated."
   ]
  },
  {
   "cell_type": "code",
   "execution_count": 50,
   "metadata": {},
   "outputs": [
    {
     "data": {
      "text/plain": [
       "XGBRegressor(base_score=0.5, booster='gbtree', colsample_bylevel=1,\n",
       "       colsample_bytree=1, gamma=0, learning_rate=0.1, max_delta_step=0,\n",
       "       max_depth=3, min_child_weight=1, missing=None, n_estimators=100,\n",
       "       n_jobs=1, nthread=None, objective='reg:linear', random_state=0,\n",
       "       reg_alpha=0, reg_lambda=1, scale_pos_weight=1, seed=None,\n",
       "       silent=True, subsample=1)"
      ]
     },
     "execution_count": 50,
     "metadata": {},
     "output_type": "execute_result"
    }
   ],
   "source": [
    "# create an xgbregressor and fit the training data to it.\n",
    "\n",
    "reg_xgb = xgb.XGBRegressor()\n",
    "reg_xgb.fit(X_train, y_train)"
   ]
  },
  {
   "cell_type": "code",
   "execution_count": 51,
   "metadata": {},
   "outputs": [
    {
     "data": {
      "text/plain": [
       "0.01081547751063347"
      ]
     },
     "execution_count": 51,
     "metadata": {},
     "output_type": "execute_result"
    }
   ],
   "source": [
    "# predict home prices using the model and compute RMSLE value\n",
    "\n",
    "y_pred_xgb = reg_xgb.predict(X_test)\n",
    "\n",
    "rmsle(y_test, y_pred_xgb)"
   ]
  },
  {
   "cell_type": "code",
   "execution_count": 54,
   "metadata": {
    "collapsed": true
   },
   "outputs": [],
   "source": [
    "# create the parameter grid for random search cross-validation\n",
    "\n",
    "# specify the learning rates to be tested\n",
    "eta = [0.01, 0.015, 0.025, 0.05, 0.1]\n",
    "\n",
    "# the minimum loss reduction required to make a split\n",
    "gamma = [0.05, 0.1, 0.3, 0.5, 0.7, 0.9, 1]\n",
    "\n",
    "# max depth of a tree\n",
    "max_depth = [3, 5, 7, 9, 12, 15, 17, 25]\n",
    "\n",
    "# minimum sum of weights of all observations required in a child\n",
    "min_child_weight = [1, 3, 5, 7]\n",
    "\n",
    "# fraction of observations to be randomly sampled for each tree\n",
    "subsample = [0.6, 0.7, 0.8, 0.9, 1]\n",
    "\n",
    "# fraction of columns to be randomly sampled for each tree\n",
    "colsample_bytree = [0.6, 0.7, 0.8, 0.9, 1]\n",
    "\n",
    "# L2 regularization term on weights\n",
    "lamb = [0.01, 0.1, 1.0]\n",
    "\n",
    "#L1 regularization term on weight\n",
    "alpha = [0.1, 0.5, 1.0]\n",
    "\n",
    "# Create the random grid\n",
    "random_grid = { 'learning_rate': eta,\n",
    "              'gamma': gamma,\n",
    "              'max_depth': max_depth, \n",
    "              'min_child_weight': min_child_weight, \n",
    "              'subsample': subsample, \n",
    "              'colsample_bytree': colsample_bytree, \n",
    "              'reg_alpha': alpha, \n",
    "              'reg_lambda': lamb}"
   ]
  },
  {
   "cell_type": "code",
   "execution_count": 55,
   "metadata": {
    "scrolled": false
   },
   "outputs": [
    {
     "name": "stdout",
     "output_type": "stream",
     "text": [
      "Fitting 5 folds for each of 1000 candidates, totalling 5000 fits\n"
     ]
    },
    {
     "name": "stderr",
     "output_type": "stream",
     "text": [
      "[Parallel(n_jobs=-1)]: Done  42 tasks      | elapsed:   17.7s\n",
      "[Parallel(n_jobs=-1)]: Done 192 tasks      | elapsed:   41.7s\n",
      "[Parallel(n_jobs=-1)]: Done 442 tasks      | elapsed:  1.5min\n",
      "[Parallel(n_jobs=-1)]: Done 792 tasks      | elapsed:  2.7min\n",
      "[Parallel(n_jobs=-1)]: Done 1242 tasks      | elapsed:  4.2min\n",
      "[Parallel(n_jobs=-1)]: Done 1792 tasks      | elapsed:  6.0min\n",
      "[Parallel(n_jobs=-1)]: Done 2442 tasks      | elapsed:  8.1min\n",
      "[Parallel(n_jobs=-1)]: Done 3192 tasks      | elapsed: 10.7min\n",
      "[Parallel(n_jobs=-1)]: Done 4042 tasks      | elapsed: 13.5min\n",
      "[Parallel(n_jobs=-1)]: Done 4992 tasks      | elapsed: 16.9min\n",
      "[Parallel(n_jobs=-1)]: Done 5000 out of 5000 | elapsed: 17.0min finished\n"
     ]
    },
    {
     "data": {
      "text/plain": [
       "RandomizedSearchCV(cv=5, error_score='raise',\n",
       "          estimator=XGBRegressor(base_score=0.5, booster='gbtree', colsample_bylevel=1,\n",
       "       colsample_bytree=1, gamma=0, learning_rate=0.1, max_delta_step=0,\n",
       "       max_depth=3, min_child_weight=1, missing=None, n_estimators=100,\n",
       "       n_jobs=1, nthread=None, objective='reg:linear', random_state=0,\n",
       "       reg_alpha=0, reg_lambda=1, scale_pos_weight=1, seed=None,\n",
       "       silent=True, subsample=1),\n",
       "          fit_params=None, iid=True, n_iter=1000, n_jobs=-1,\n",
       "          param_distributions={'learning_rate': [0.01, 0.015, 0.025, 0.05, 0.1], 'gamma': [0.05, 0.1, 0.3, 0.5, 0.7, 0.9, 1], 'max_depth': [3, 5, 7, 9, 12, 15, 17, 25], 'min_child_weight': [1, 3, 5, 7], 'subsample': [0.6, 0.7, 0.8, 0.9, 1], 'colsample_bytree': [0.6, 0.7, 0.8, 0.9, 1], 'reg_alpha': [0.1, 0.5, 1.0], 'reg_lambda': [0.01, 0.1, 1.0]},\n",
       "          pre_dispatch='2*n_jobs', random_state=10, refit=True,\n",
       "          return_train_score='warn', scoring=None, verbose=True)"
      ]
     },
     "execution_count": 55,
     "metadata": {},
     "output_type": "execute_result"
    }
   ],
   "source": [
    "# use GridSearchCV with 5 folds to test for hyperparameters that result in best model performance\n",
    "\n",
    "reg_xgb_cv = RandomizedSearchCV(estimator=reg_xgb,\n",
    "                        param_distributions=random_grid,\n",
    "                        n_iter=1000,\n",
    "                        cv = 5,\n",
    "                        random_state=10,\n",
    "                        n_jobs = -1,\n",
    "                        verbose=True)\n",
    "reg_xgb_cv.fit(X_train,y_train)"
   ]
  },
  {
   "cell_type": "code",
   "execution_count": 57,
   "metadata": {},
   "outputs": [
    {
     "name": "stdout",
     "output_type": "stream",
     "text": [
      "Tuned XGBoost Parameter: {'subsample': 0.7, 'reg_lambda': 1.0, 'reg_alpha': 0.1, 'min_child_weight': 3, 'max_depth': 15, 'learning_rate': 0.1, 'gamma': 0.05, 'colsample_bytree': 0.8}\n"
     ]
    }
   ],
   "source": [
    "print(\"Tuned XGBoost Parameter: {}\".format(reg_xgb_cv.best_params_))"
   ]
  },
  {
   "cell_type": "code",
   "execution_count": 58,
   "metadata": {},
   "outputs": [
    {
     "data": {
      "text/plain": [
       "XGBRegressor(base_score=0.5, booster='gbtree', colsample_bylevel=1,\n",
       "       colsample_bytree=0.8, gamma=0.05, learning_rate=0.1,\n",
       "       max_delta_step=0, max_depth=15, min_child_weight=3, missing=None,\n",
       "       n_estimators=100, n_jobs=1, nthread=None, objective='reg:linear',\n",
       "       random_state=0, reg_alpha=0.1, reg_lambda=1.0, scale_pos_weight=1,\n",
       "       seed=None, silent=True, subsample=0.7)"
      ]
     },
     "execution_count": 58,
     "metadata": {},
     "output_type": "execute_result"
    }
   ],
   "source": [
    "# refit model with tuned hyperparametres\n",
    "\n",
    "reg_xgb = reg_xgb_cv.best_estimator_\n",
    "\n",
    "reg_xgb.fit(X_train, y_train)"
   ]
  },
  {
   "cell_type": "code",
   "execution_count": 59,
   "metadata": {},
   "outputs": [
    {
     "name": "stdout",
     "output_type": "stream",
     "text": [
      "XGB Score:  0.0105792858819\n"
     ]
    }
   ],
   "source": [
    "# predict home prices using the model and compute RMSLE value\n",
    "\n",
    "y_pred_xgb = reg_xgb.predict(X_test)\n",
    "\n",
    "xgb_rmsle = rmsle(y_test, y_pred_xgb)\n",
    "print('XGB Score: ', xgb_rmsle)"
   ]
  },
  {
   "cell_type": "code",
   "execution_count": 60,
   "metadata": {},
   "outputs": [
    {
     "data": {
      "text/plain": [
       "0.13603885031080584"
      ]
     },
     "execution_count": 60,
     "metadata": {},
     "output_type": "execute_result"
    }
   ],
   "source": [
    "# compute RMSE value\n",
    "\n",
    "rmse(y_test, y_pred_xgb)"
   ]
  },
  {
   "cell_type": "markdown",
   "metadata": {},
   "source": [
    "# Generating Kaggle Submissions\n",
    "\n",
    "As five of the models performed very similarly, we will use all five of them to generate sale price predictions for submission into the Kaggle contests."
   ]
  },
  {
   "cell_type": "code",
   "execution_count": 98,
   "metadata": {},
   "outputs": [],
   "source": [
    "# read in test data set\n",
    "\n",
    "y_test_final = pd.read_csv('Data/test_imputed.csv')\n",
    "y_test_final_VIF = pd.read_csv('Data/test_imputed_VIF.csv')"
   ]
  },
  {
   "cell_type": "code",
   "execution_count": 96,
   "metadata": {},
   "outputs": [],
   "source": [
    "def generate_prediction(model, features, filename):\n",
    "    pred = model.predict(features)\n",
    "    pred = np.e**pred\n",
    "    df = pd.DataFrame({'ID': range(1461, 1461+len(pred)), 'SalePrice': pred})\n",
    "    df.to_csv('Submissions/'+filename+'.csv', index=False)"
   ]
  },
  {
   "cell_type": "code",
   "execution_count": 97,
   "metadata": {},
   "outputs": [],
   "source": [
    "# generate submission for out-of-box linear regression\n",
    "\n",
    "generate_prediction(reg_oob, y_test_final, 'regression')"
   ]
  },
  {
   "cell_type": "code",
   "execution_count": 99,
   "metadata": {},
   "outputs": [],
   "source": [
    "generate_prediction(reg_ridge, y_test_final_VIF, 'ridge')"
   ]
  },
  {
   "cell_type": "code",
   "execution_count": 100,
   "metadata": {
    "collapsed": true
   },
   "outputs": [],
   "source": [
    "generate_prediction(reg_VIF, y_test_final_VIF, 'regression_VIF')"
   ]
  },
  {
   "cell_type": "code",
   "execution_count": 101,
   "metadata": {
    "collapsed": true
   },
   "outputs": [],
   "source": [
    "generate_prediction(reg_rf, y_test_final_VIF, 'random_forest')"
   ]
  },
  {
   "cell_type": "code",
   "execution_count": 102,
   "metadata": {
    "collapsed": true
   },
   "outputs": [],
   "source": [
    "generate_prediction(reg_xgb, y_test_final_VIF, 'xgboost')"
   ]
  },
  {
   "cell_type": "markdown",
   "metadata": {},
   "source": [
    "# Conclusion"
   ]
  },
  {
   "cell_type": "markdown",
   "metadata": {},
   "source": [
    "The majority of the models scored similarly, with the linear regression just performing slightly better than ridge regression. The worst-performing model was the linear regression fit with PCA. While tuning the linear models was relatively simple and took very little time, the ensemble methods took significantly longer. \n",
    "\n",
    "As the xgboost model and the random forest model were tuned with RandomizedSearchCV, their performance is likely to improve slightly more if more tuning is done. Still, the best performing model out of the seven was a simple linear regression."
   ]
  },
  {
   "cell_type": "code",
   "execution_count": 103,
   "metadata": {
    "collapsed": true
   },
   "outputs": [],
   "source": [
    "regressors = ['Linear Regression with PCA', \n",
    "             'Out-of-box Linear Regression', \n",
    "             'Linear Regression with VIF', \n",
    "             'Ridge Regression', \n",
    "             'Lasso Regression', \n",
    "             'Random Forest Regression', \n",
    "             'XGBoost Regression']\n",
    "\n",
    "rmsles = [pca_rmsle,\n",
    "          reg_rmsle, \n",
    "          regvif_rmsle, \n",
    "          ridge_rmsle, \n",
    "          lasso_rmsle, \n",
    "          rf_rmsle, \n",
    "          xgb_rmsle]\n"
   ]
  },
  {
   "cell_type": "code",
   "execution_count": 104,
   "metadata": {},
   "outputs": [
    {
     "data": {
      "image/png": "[encoded data removed]",
      "text/plain": [
       "<matplotlib.figure.Figure at 0xd6c9ba8>"
      ]
     },
     "metadata": {},
     "output_type": "display_data"
    }
   ],
   "source": [
    "sns.set()\n",
    "plt.figure(figsize=(8, 6))\n",
    "plt.title(\"RMSLE Values by Model\", fontsize=13)\n",
    "plt.bar(regressors, rmsles)\n",
    "plt.xticks(rotation=90, fontsize=13)\n",
    "plt.show()"
   ]
  },
  {
   "cell_type": "markdown",
   "metadata": {},
   "source": [
    "Submissions to Kaggle were consistent with these results, with linear regression resulting in the best score, and the other models performing just slightly worse. The best scoring model on Kaggle resulted in an RMSLE of 0.145, which is in the top half of submissions at the time of submittal."
   ]
  }
 ],
 "metadata": {
  "kernelspec": {
   "display_name": "Python 3",
   "language": "python",
   "name": "python3"
  },
  "language_info": {
   "codemirror_mode": {
    "name": "ipython",
    "version": 3
   },
   "file_extension": ".py",
   "mimetype": "text/x-python",
   "name": "python",
   "nbconvert_exporter": "python",
   "pygments_lexer": "ipython3",
   "version": "3.6.3"
  }
 },
 "nbformat": 4,
 "nbformat_minor": 2
}
