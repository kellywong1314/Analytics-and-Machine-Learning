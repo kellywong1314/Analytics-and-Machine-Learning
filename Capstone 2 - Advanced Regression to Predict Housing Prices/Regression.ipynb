{
 "cells": [
  {
   "cell_type": "code",
   "execution_count": 1,
   "metadata": {
    "collapsed": true
   },
   "outputs": [],
   "source": [
    "# import packages that will be used for plotting and analyzing the data\n",
    "\n",
    "import pandas as pd\n",
    "import matplotlib.pyplot as plt\n",
    "import numpy as np\n",
    "import scipy\n",
    "from scipy import stats\n",
    "%matplotlib inline\n",
    "\n",
    "from sklearn.metrics import mean_squared_log_error\n",
    "\n",
    "from sklearn.dummy import DummyClassifier\n",
    "from sklearn.decomposition import PCA\n",
    "from sklearn.model_selection import train_test_split\n",
    "from sklearn.model_selection import GridSearchCV, RandomizedSearchCV\n",
    "from sklearn.linear_model import LinearRegression, Lasso, Ridge\n",
    "from sklearn.ensemble import RandomForestClassifier\n",
    "import xgboost as xgb\n",
    "from sklearn.feature_selection import SelectKBest\n",
    "from sklearn.feature_selection import chi2\n",
    "\n",
    "from statsmodels.stats.outliers_influence import variance_inflation_factor\n",
    "from sklearn.base import BaseEstimator, TransformerMixin\n",
    "from sklearn.preprocessing import Imputer, RobustScaler\n"
   ]
  },
  {
   "cell_type": "code",
   "execution_count": 58,
   "metadata": {
    "collapsed": true
   },
   "outputs": [],
   "source": [
    "df = pd.read_csv('Data/train_imputed.csv')"
   ]
  },
  {
   "cell_type": "code",
   "execution_count": 59,
   "metadata": {
    "collapsed": true
   },
   "outputs": [],
   "source": [
    "X = df.drop('SalePrice', axis=1)\n",
    "y = df.SalePrice"
   ]
  },
  {
   "cell_type": "code",
   "execution_count": 60,
   "metadata": {
    "scrolled": false
   },
   "outputs": [
    {
     "data": {
      "text/html": [
       "<div>\n",
       "<style>\n",
       "    .dataframe thead tr:only-child th {\n",
       "        text-align: right;\n",
       "    }\n",
       "\n",
       "    .dataframe thead th {\n",
       "        text-align: left;\n",
       "    }\n",
       "\n",
       "    .dataframe tbody tr th {\n",
       "        vertical-align: top;\n",
       "    }\n",
       "</style>\n",
       "<table border=\"1\" class=\"dataframe\">\n",
       "  <thead>\n",
       "    <tr style=\"text-align: right;\">\n",
       "      <th></th>\n",
       "      <th>MSSubClass</th>\n",
       "      <th>LotFrontage</th>\n",
       "      <th>LotArea</th>\n",
       "      <th>LotShape</th>\n",
       "      <th>LandSlope</th>\n",
       "      <th>OverallQual</th>\n",
       "      <th>OverallCond</th>\n",
       "      <th>YearBuilt</th>\n",
       "      <th>YearRemodAdd</th>\n",
       "      <th>MasVnrArea</th>\n",
       "      <th>...</th>\n",
       "      <th>SaleType_ConLw</th>\n",
       "      <th>SaleType_New</th>\n",
       "      <th>SaleType_Oth</th>\n",
       "      <th>SaleType_WD</th>\n",
       "      <th>SaleCondition_Abnorml</th>\n",
       "      <th>SaleCondition_AdjLand</th>\n",
       "      <th>SaleCondition_Alloca</th>\n",
       "      <th>SaleCondition_Family</th>\n",
       "      <th>SaleCondition_Normal</th>\n",
       "      <th>SaleCondition_Partial</th>\n",
       "    </tr>\n",
       "  </thead>\n",
       "  <tbody>\n",
       "    <tr>\n",
       "      <th>0</th>\n",
       "      <td>60</td>\n",
       "      <td>65.0</td>\n",
       "      <td>8450</td>\n",
       "      <td>3</td>\n",
       "      <td>0</td>\n",
       "      <td>7</td>\n",
       "      <td>5</td>\n",
       "      <td>2003</td>\n",
       "      <td>2003</td>\n",
       "      <td>196.0</td>\n",
       "      <td>...</td>\n",
       "      <td>0</td>\n",
       "      <td>0</td>\n",
       "      <td>0</td>\n",
       "      <td>1</td>\n",
       "      <td>0</td>\n",
       "      <td>0</td>\n",
       "      <td>0</td>\n",
       "      <td>0</td>\n",
       "      <td>1</td>\n",
       "      <td>0</td>\n",
       "    </tr>\n",
       "    <tr>\n",
       "      <th>1</th>\n",
       "      <td>20</td>\n",
       "      <td>80.0</td>\n",
       "      <td>9600</td>\n",
       "      <td>3</td>\n",
       "      <td>0</td>\n",
       "      <td>6</td>\n",
       "      <td>8</td>\n",
       "      <td>1976</td>\n",
       "      <td>1976</td>\n",
       "      <td>0.0</td>\n",
       "      <td>...</td>\n",
       "      <td>0</td>\n",
       "      <td>0</td>\n",
       "      <td>0</td>\n",
       "      <td>1</td>\n",
       "      <td>0</td>\n",
       "      <td>0</td>\n",
       "      <td>0</td>\n",
       "      <td>0</td>\n",
       "      <td>1</td>\n",
       "      <td>0</td>\n",
       "    </tr>\n",
       "    <tr>\n",
       "      <th>2</th>\n",
       "      <td>60</td>\n",
       "      <td>68.0</td>\n",
       "      <td>11250</td>\n",
       "      <td>2</td>\n",
       "      <td>0</td>\n",
       "      <td>7</td>\n",
       "      <td>5</td>\n",
       "      <td>2001</td>\n",
       "      <td>2002</td>\n",
       "      <td>162.0</td>\n",
       "      <td>...</td>\n",
       "      <td>0</td>\n",
       "      <td>0</td>\n",
       "      <td>0</td>\n",
       "      <td>1</td>\n",
       "      <td>0</td>\n",
       "      <td>0</td>\n",
       "      <td>0</td>\n",
       "      <td>0</td>\n",
       "      <td>1</td>\n",
       "      <td>0</td>\n",
       "    </tr>\n",
       "    <tr>\n",
       "      <th>3</th>\n",
       "      <td>70</td>\n",
       "      <td>60.0</td>\n",
       "      <td>9550</td>\n",
       "      <td>2</td>\n",
       "      <td>0</td>\n",
       "      <td>7</td>\n",
       "      <td>5</td>\n",
       "      <td>1915</td>\n",
       "      <td>1970</td>\n",
       "      <td>0.0</td>\n",
       "      <td>...</td>\n",
       "      <td>0</td>\n",
       "      <td>0</td>\n",
       "      <td>0</td>\n",
       "      <td>1</td>\n",
       "      <td>1</td>\n",
       "      <td>0</td>\n",
       "      <td>0</td>\n",
       "      <td>0</td>\n",
       "      <td>0</td>\n",
       "      <td>0</td>\n",
       "    </tr>\n",
       "    <tr>\n",
       "      <th>4</th>\n",
       "      <td>60</td>\n",
       "      <td>84.0</td>\n",
       "      <td>14260</td>\n",
       "      <td>2</td>\n",
       "      <td>0</td>\n",
       "      <td>8</td>\n",
       "      <td>5</td>\n",
       "      <td>2000</td>\n",
       "      <td>2000</td>\n",
       "      <td>350.0</td>\n",
       "      <td>...</td>\n",
       "      <td>0</td>\n",
       "      <td>0</td>\n",
       "      <td>0</td>\n",
       "      <td>1</td>\n",
       "      <td>0</td>\n",
       "      <td>0</td>\n",
       "      <td>0</td>\n",
       "      <td>0</td>\n",
       "      <td>1</td>\n",
       "      <td>0</td>\n",
       "    </tr>\n",
       "  </tbody>\n",
       "</table>\n",
       "<p>5 rows × 229 columns</p>\n",
       "</div>"
      ],
      "text/plain": [
       "   MSSubClass  LotFrontage  LotArea  LotShape  LandSlope  OverallQual  \\\n",
       "0          60         65.0     8450         3          0            7   \n",
       "1          20         80.0     9600         3          0            6   \n",
       "2          60         68.0    11250         2          0            7   \n",
       "3          70         60.0     9550         2          0            7   \n",
       "4          60         84.0    14260         2          0            8   \n",
       "\n",
       "   OverallCond  YearBuilt  YearRemodAdd  MasVnrArea          ...            \\\n",
       "0            5       2003          2003       196.0          ...             \n",
       "1            8       1976          1976         0.0          ...             \n",
       "2            5       2001          2002       162.0          ...             \n",
       "3            5       1915          1970         0.0          ...             \n",
       "4            5       2000          2000       350.0          ...             \n",
       "\n",
       "   SaleType_ConLw  SaleType_New  SaleType_Oth  SaleType_WD  \\\n",
       "0               0             0             0            1   \n",
       "1               0             0             0            1   \n",
       "2               0             0             0            1   \n",
       "3               0             0             0            1   \n",
       "4               0             0             0            1   \n",
       "\n",
       "   SaleCondition_Abnorml  SaleCondition_AdjLand  SaleCondition_Alloca  \\\n",
       "0                      0                      0                     0   \n",
       "1                      0                      0                     0   \n",
       "2                      0                      0                     0   \n",
       "3                      1                      0                     0   \n",
       "4                      0                      0                     0   \n",
       "\n",
       "   SaleCondition_Family  SaleCondition_Normal  SaleCondition_Partial  \n",
       "0                     0                     1                      0  \n",
       "1                     0                     1                      0  \n",
       "2                     0                     1                      0  \n",
       "3                     0                     0                      0  \n",
       "4                     0                     1                      0  \n",
       "\n",
       "[5 rows x 229 columns]"
      ]
     },
     "execution_count": 60,
     "metadata": {},
     "output_type": "execute_result"
    }
   ],
   "source": [
    "X.head()"
   ]
  },
  {
   "cell_type": "code",
   "execution_count": 108,
   "metadata": {
    "collapsed": true
   },
   "outputs": [],
   "source": [
    "def rmsle(y_true, y_pred):\n",
    "    return np.sqrt(mean_squared_log_error(y_true, y_pred))"
   ]
  },
  {
   "cell_type": "markdown",
   "metadata": {},
   "source": [
    "# Linear Regression with PCA"
   ]
  },
  {
   "cell_type": "code",
   "execution_count": 61,
   "metadata": {},
   "outputs": [
    {
     "data": {
      "image/png": "[encoded data removed]",
      "text/plain": [
       "<matplotlib.figure.Figure at 0xc7725f8>"
      ]
     },
     "metadata": {},
     "output_type": "display_data"
    }
   ],
   "source": [
    "pca = PCA()\n",
    "pca.fit(X)\n",
    "features = range(pca.n_components_)\n",
    "plt.figure(figsize=(16, 10))\n",
    "plt.plot(features, pca.explained_variance_, '-o')\n",
    "\n",
    "plt.xlabel('feature number')\n",
    "plt.ylabel('variance')\n",
    "plt.xlim(0, 10)\n",
    "plt.show()"
   ]
  },
  {
   "cell_type": "code",
   "execution_count": 63,
   "metadata": {
    "collapsed": true
   },
   "outputs": [],
   "source": [
    "model=PCA(n_components=1)\n",
    "model.fit(X)\n",
    "df_components = pd.DataFrame(model.transform(X))\n",
    "df_components.columns = ['component1']"
   ]
  },
  {
   "cell_type": "code",
   "execution_count": 64,
   "metadata": {
    "collapsed": true
   },
   "outputs": [],
   "source": [
    "df_PCA = df_components.join(y, how='left')\n",
    "\n",
    "X_train, X_test, y_train, y_test = train_test_split(df_components, y, test_size=0.3, random_state=10)\n"
   ]
  },
  {
   "cell_type": "code",
   "execution_count": 65,
   "metadata": {},
   "outputs": [
    {
     "data": {
      "text/plain": [
       "LinearRegression(copy_X=True, fit_intercept=True, n_jobs=1, normalize=False)"
      ]
     },
     "execution_count": 65,
     "metadata": {},
     "output_type": "execute_result"
    }
   ],
   "source": [
    "reg_PCA = LinearRegression()\n",
    "reg_PCA.fit(X_train, y_train)"
   ]
  },
  {
   "cell_type": "code",
   "execution_count": 66,
   "metadata": {
    "scrolled": true
   },
   "outputs": [
    {
     "data": {
      "text/plain": [
       "0.071536663200562733"
      ]
     },
     "execution_count": 66,
     "metadata": {},
     "output_type": "execute_result"
    }
   ],
   "source": [
    "reg.score(X_train, y_train)\n"
   ]
  },
  {
   "cell_type": "code",
   "execution_count": 67,
   "metadata": {
    "collapsed": true
   },
   "outputs": [],
   "source": [
    "param_grid = {'fit_intercept':[True, False], 'normalize':[True, False]}"
   ]
  },
  {
   "cell_type": "code",
   "execution_count": 68,
   "metadata": {},
   "outputs": [
    {
     "data": {
      "text/plain": [
       "GridSearchCV(cv=5, error_score='raise',\n",
       "       estimator=LinearRegression(copy_X=True, fit_intercept=True, n_jobs=1, normalize=False),\n",
       "       fit_params=None, iid=True, n_jobs=1,\n",
       "       param_grid={'fit_intercept': [True, False], 'normalize': [True, False]},\n",
       "       pre_dispatch='2*n_jobs', refit=True, return_train_score='warn',\n",
       "       scoring=None, verbose=0)"
      ]
     },
     "execution_count": 68,
     "metadata": {},
     "output_type": "execute_result"
    }
   ],
   "source": [
    "reg_cv = GridSearchCV(reg, param_grid, cv=5)\n",
    "reg_cv.fit(X_train, y_train)"
   ]
  },
  {
   "cell_type": "code",
   "execution_count": 69,
   "metadata": {
    "scrolled": true
   },
   "outputs": [
    {
     "name": "stdout",
     "output_type": "stream",
     "text": [
      "Tuned Regression Parameter: {'fit_intercept': True, 'normalize': False}\n",
      "Tuned Regression Accuracy: 0.06309087925394023\n"
     ]
    }
   ],
   "source": [
    "print(\"Tuned Regression Parameter: {}\".format(reg_cv.best_params_))\n",
    "print(\"Tuned Regression Accuracy: {}\".format(reg_cv.best_score_))"
   ]
  },
  {
   "cell_type": "code",
   "execution_count": 92,
   "metadata": {},
   "outputs": [
    {
     "ename": "ValueError",
     "evalue": "shapes (438,138) and (1,) not aligned: 138 (dim 1) != 1 (dim 0)",
     "output_type": "error",
     "traceback": [
      "\u001b[1;31m---------------------------------------------------------------------------\u001b[0m",
      "\u001b[1;31mValueError\u001b[0m                                Traceback (most recent call last)",
      "\u001b[1;32m<ipython-input-92-b089595cbacc>\u001b[0m in \u001b[0;36m<module>\u001b[1;34m()\u001b[0m\n\u001b[1;32m----> 1\u001b[1;33m \u001b[0my_pred_PCA\u001b[0m \u001b[1;33m=\u001b[0m \u001b[0mreg_cv\u001b[0m\u001b[1;33m.\u001b[0m\u001b[0mpredict\u001b[0m\u001b[1;33m(\u001b[0m\u001b[0mX_test\u001b[0m\u001b[1;33m)\u001b[0m\u001b[1;33m\u001b[0m\u001b[0m\n\u001b[0m\u001b[0;32m      2\u001b[0m \u001b[1;33m\u001b[0m\u001b[0m\n\u001b[0;32m      3\u001b[0m \u001b[0mmean_squared_error\u001b[0m\u001b[1;33m(\u001b[0m\u001b[0my_test\u001b[0m\u001b[1;33m,\u001b[0m \u001b[0my_pred_PCA\u001b[0m\u001b[1;33m)\u001b[0m\u001b[1;33m\u001b[0m\u001b[0m\n",
      "\u001b[1;32m~\\AppData\\Local\\Continuum\\Anaconda2\\envs\\newPy36\\lib\\site-packages\\sklearn\\utils\\metaestimators.py\u001b[0m in \u001b[0;36m<lambda>\u001b[1;34m(*args, **kwargs)\u001b[0m\n\u001b[0;32m    113\u001b[0m \u001b[1;33m\u001b[0m\u001b[0m\n\u001b[0;32m    114\u001b[0m         \u001b[1;31m# lambda, but not partial, allows help() to work with update_wrapper\u001b[0m\u001b[1;33m\u001b[0m\u001b[1;33m\u001b[0m\u001b[0m\n\u001b[1;32m--> 115\u001b[1;33m         \u001b[0mout\u001b[0m \u001b[1;33m=\u001b[0m \u001b[1;32mlambda\u001b[0m \u001b[1;33m*\u001b[0m\u001b[0margs\u001b[0m\u001b[1;33m,\u001b[0m \u001b[1;33m**\u001b[0m\u001b[0mkwargs\u001b[0m\u001b[1;33m:\u001b[0m \u001b[0mself\u001b[0m\u001b[1;33m.\u001b[0m\u001b[0mfn\u001b[0m\u001b[1;33m(\u001b[0m\u001b[0mobj\u001b[0m\u001b[1;33m,\u001b[0m \u001b[1;33m*\u001b[0m\u001b[0margs\u001b[0m\u001b[1;33m,\u001b[0m \u001b[1;33m**\u001b[0m\u001b[0mkwargs\u001b[0m\u001b[1;33m)\u001b[0m\u001b[1;33m\u001b[0m\u001b[0m\n\u001b[0m\u001b[0;32m    116\u001b[0m         \u001b[1;31m# update the docstring of the returned function\u001b[0m\u001b[1;33m\u001b[0m\u001b[1;33m\u001b[0m\u001b[0m\n\u001b[0;32m    117\u001b[0m         \u001b[0mupdate_wrapper\u001b[0m\u001b[1;33m(\u001b[0m\u001b[0mout\u001b[0m\u001b[1;33m,\u001b[0m \u001b[0mself\u001b[0m\u001b[1;33m.\u001b[0m\u001b[0mfn\u001b[0m\u001b[1;33m)\u001b[0m\u001b[1;33m\u001b[0m\u001b[0m\n",
      "\u001b[1;32m~\\AppData\\Local\\Continuum\\Anaconda2\\envs\\newPy36\\lib\\site-packages\\sklearn\\model_selection\\_search.py\u001b[0m in \u001b[0;36mpredict\u001b[1;34m(self, X)\u001b[0m\n\u001b[0;32m    465\u001b[0m         \"\"\"\n\u001b[0;32m    466\u001b[0m         \u001b[0mself\u001b[0m\u001b[1;33m.\u001b[0m\u001b[0m_check_is_fitted\u001b[0m\u001b[1;33m(\u001b[0m\u001b[1;34m'predict'\u001b[0m\u001b[1;33m)\u001b[0m\u001b[1;33m\u001b[0m\u001b[0m\n\u001b[1;32m--> 467\u001b[1;33m         \u001b[1;32mreturn\u001b[0m \u001b[0mself\u001b[0m\u001b[1;33m.\u001b[0m\u001b[0mbest_estimator_\u001b[0m\u001b[1;33m.\u001b[0m\u001b[0mpredict\u001b[0m\u001b[1;33m(\u001b[0m\u001b[0mX\u001b[0m\u001b[1;33m)\u001b[0m\u001b[1;33m\u001b[0m\u001b[0m\n\u001b[0m\u001b[0;32m    468\u001b[0m \u001b[1;33m\u001b[0m\u001b[0m\n\u001b[0;32m    469\u001b[0m     \u001b[1;33m@\u001b[0m\u001b[0mif_delegate_has_method\u001b[0m\u001b[1;33m(\u001b[0m\u001b[0mdelegate\u001b[0m\u001b[1;33m=\u001b[0m\u001b[1;33m(\u001b[0m\u001b[1;34m'best_estimator_'\u001b[0m\u001b[1;33m,\u001b[0m \u001b[1;34m'estimator'\u001b[0m\u001b[1;33m)\u001b[0m\u001b[1;33m)\u001b[0m\u001b[1;33m\u001b[0m\u001b[0m\n",
      "\u001b[1;32m~\\AppData\\Local\\Continuum\\Anaconda2\\envs\\newPy36\\lib\\site-packages\\sklearn\\linear_model\\base.py\u001b[0m in \u001b[0;36mpredict\u001b[1;34m(self, X)\u001b[0m\n\u001b[0;32m    254\u001b[0m             \u001b[0mReturns\u001b[0m \u001b[0mpredicted\u001b[0m \u001b[0mvalues\u001b[0m\u001b[1;33m.\u001b[0m\u001b[1;33m\u001b[0m\u001b[0m\n\u001b[0;32m    255\u001b[0m         \"\"\"\n\u001b[1;32m--> 256\u001b[1;33m         \u001b[1;32mreturn\u001b[0m \u001b[0mself\u001b[0m\u001b[1;33m.\u001b[0m\u001b[0m_decision_function\u001b[0m\u001b[1;33m(\u001b[0m\u001b[0mX\u001b[0m\u001b[1;33m)\u001b[0m\u001b[1;33m\u001b[0m\u001b[0m\n\u001b[0m\u001b[0;32m    257\u001b[0m \u001b[1;33m\u001b[0m\u001b[0m\n\u001b[0;32m    258\u001b[0m     \u001b[0m_preprocess_data\u001b[0m \u001b[1;33m=\u001b[0m \u001b[0mstaticmethod\u001b[0m\u001b[1;33m(\u001b[0m\u001b[0m_preprocess_data\u001b[0m\u001b[1;33m)\u001b[0m\u001b[1;33m\u001b[0m\u001b[0m\n",
      "\u001b[1;32m~\\AppData\\Local\\Continuum\\Anaconda2\\envs\\newPy36\\lib\\site-packages\\sklearn\\linear_model\\base.py\u001b[0m in \u001b[0;36m_decision_function\u001b[1;34m(self, X)\u001b[0m\n\u001b[0;32m    239\u001b[0m         \u001b[0mX\u001b[0m \u001b[1;33m=\u001b[0m \u001b[0mcheck_array\u001b[0m\u001b[1;33m(\u001b[0m\u001b[0mX\u001b[0m\u001b[1;33m,\u001b[0m \u001b[0maccept_sparse\u001b[0m\u001b[1;33m=\u001b[0m\u001b[1;33m[\u001b[0m\u001b[1;34m'csr'\u001b[0m\u001b[1;33m,\u001b[0m \u001b[1;34m'csc'\u001b[0m\u001b[1;33m,\u001b[0m \u001b[1;34m'coo'\u001b[0m\u001b[1;33m]\u001b[0m\u001b[1;33m)\u001b[0m\u001b[1;33m\u001b[0m\u001b[0m\n\u001b[0;32m    240\u001b[0m         return safe_sparse_dot(X, self.coef_.T,\n\u001b[1;32m--> 241\u001b[1;33m                                dense_output=True) + self.intercept_\n\u001b[0m\u001b[0;32m    242\u001b[0m \u001b[1;33m\u001b[0m\u001b[0m\n\u001b[0;32m    243\u001b[0m     \u001b[1;32mdef\u001b[0m \u001b[0mpredict\u001b[0m\u001b[1;33m(\u001b[0m\u001b[0mself\u001b[0m\u001b[1;33m,\u001b[0m \u001b[0mX\u001b[0m\u001b[1;33m)\u001b[0m\u001b[1;33m:\u001b[0m\u001b[1;33m\u001b[0m\u001b[0m\n",
      "\u001b[1;32m~\\AppData\\Local\\Continuum\\Anaconda2\\envs\\newPy36\\lib\\site-packages\\sklearn\\utils\\extmath.py\u001b[0m in \u001b[0;36msafe_sparse_dot\u001b[1;34m(a, b, dense_output)\u001b[0m\n\u001b[0;32m    138\u001b[0m         \u001b[1;32mreturn\u001b[0m \u001b[0mret\u001b[0m\u001b[1;33m\u001b[0m\u001b[0m\n\u001b[0;32m    139\u001b[0m     \u001b[1;32melse\u001b[0m\u001b[1;33m:\u001b[0m\u001b[1;33m\u001b[0m\u001b[0m\n\u001b[1;32m--> 140\u001b[1;33m         \u001b[1;32mreturn\u001b[0m \u001b[0mnp\u001b[0m\u001b[1;33m.\u001b[0m\u001b[0mdot\u001b[0m\u001b[1;33m(\u001b[0m\u001b[0ma\u001b[0m\u001b[1;33m,\u001b[0m \u001b[0mb\u001b[0m\u001b[1;33m)\u001b[0m\u001b[1;33m\u001b[0m\u001b[0m\n\u001b[0m\u001b[0;32m    141\u001b[0m \u001b[1;33m\u001b[0m\u001b[0m\n\u001b[0;32m    142\u001b[0m \u001b[1;33m\u001b[0m\u001b[0m\n",
      "\u001b[1;31mValueError\u001b[0m: shapes (438,138) and (1,) not aligned: 138 (dim 1) != 1 (dim 0)"
     ]
    }
   ],
   "source": [
    "y_pred_PCA = reg_cv.predict(X_test)\n",
    "\n",
    "rmsle(y_test, y_pred_PCA)"
   ]
  },
  {
   "cell_type": "markdown",
   "metadata": {},
   "source": [
    "# Linear Regression (out of box)"
   ]
  },
  {
   "cell_type": "code",
   "execution_count": 73,
   "metadata": {
    "collapsed": true
   },
   "outputs": [],
   "source": [
    "X_train, X_test, y_train, y_test = train_test_split(X, y, test_size=0.3, random_state=10)\n",
    "\n"
   ]
  },
  {
   "cell_type": "code",
   "execution_count": 74,
   "metadata": {},
   "outputs": [
    {
     "data": {
      "text/plain": [
       "LinearRegression(copy_X=True, fit_intercept=True, n_jobs=1, normalize=False)"
      ]
     },
     "execution_count": 74,
     "metadata": {},
     "output_type": "execute_result"
    }
   ],
   "source": [
    "reg = LinearRegression()\n",
    "reg.fit(X_train, y_train)"
   ]
  },
  {
   "cell_type": "code",
   "execution_count": 76,
   "metadata": {},
   "outputs": [
    {
     "data": {
      "text/plain": [
       "0.93195435558885431"
      ]
     },
     "execution_count": 76,
     "metadata": {},
     "output_type": "execute_result"
    }
   ],
   "source": [
    "reg.score(X_train, y_train)"
   ]
  },
  {
   "cell_type": "code",
   "execution_count": 77,
   "metadata": {},
   "outputs": [
    {
     "data": {
      "text/plain": [
       "0.037353596115682994"
      ]
     },
     "execution_count": 77,
     "metadata": {},
     "output_type": "execute_result"
    }
   ],
   "source": [
    "y_pred_reg = reg.predict(X_test)\n",
    "\n",
    "mean_squared_log_error(y_test, y_pred_reg)"
   ]
  },
  {
   "cell_type": "markdown",
   "metadata": {},
   "source": [
    "# Linear Regression with VIF"
   ]
  },
  {
   "cell_type": "markdown",
   "metadata": {},
   "source": [
    "def calculate_vif(X, thresh=5.0):\n",
    "        dropped=True\n",
    "        while dropped:\n",
    "            variables = X.columns\n",
    "            dropped = False\n",
    "            vif = [variance_inflation_factor(X[variables].values, X.columns.get_loc(var)) for var in X.columns]\n",
    "            \n",
    "            max_vif = max(vif)\n",
    "            if max_vif > thresh:\n",
    "                maxloc = vif.index(max_vif)\n",
    "                print(f'Dropped {X.columns[maxloc]} with vif={max_vif}')\n",
    "                X = X.drop([X.columns.tolist()[maxloc]], axis=1)\n",
    "                dropped=True\n",
    "        return X\n",
    "        \n",
    "calculate_vif(X)"
   ]
  },
  {
   "cell_type": "code",
   "execution_count": 79,
   "metadata": {
    "collapsed": true
   },
   "outputs": [],
   "source": [
    "# from https://www.kaggle.com/ffisegydd/sklearn-multicollinearity-class/code\n",
    "\n",
    "class ReduceVIF(BaseEstimator, TransformerMixin):\n",
    "    def __init__(self, thresh=5.0, impute=True, impute_strategy='median'):\n",
    "        # From looking at documentation, values between 5 and 10 are \"okay\".\n",
    "        # Above 10 is too high and so should be removed.\n",
    "        self.thresh = thresh\n",
    "        \n",
    "        # The statsmodel function will fail with NaN values, as such we have to impute them.\n",
    "        # By default we impute using the median value.\n",
    "        # This imputation could be taken out and added as part of an sklearn Pipeline.\n",
    "        if impute:\n",
    "            self.imputer = Imputer(strategy=impute_strategy)\n",
    "\n",
    "    def fit(self, X, y=None):\n",
    "        print('ReduceVIF fit')\n",
    "        if hasattr(self, 'imputer'):\n",
    "            self.imputer.fit(X)\n",
    "        return self\n",
    "\n",
    "    def transform(self, X, y=None):\n",
    "        print('ReduceVIF transform')\n",
    "        columns = X.columns.tolist()\n",
    "        if hasattr(self, 'imputer'):\n",
    "            X = pd.DataFrame(self.imputer.transform(X), columns=columns)\n",
    "        return ReduceVIF.calculate_vif(X, self.thresh)\n",
    "\n",
    "    @staticmethod\n",
    "    def calculate_vif(X, thresh=5.0):\n",
    "        # Taken from https://stats.stackexchange.com/a/253620/53565 and modified\n",
    "        dropped=True\n",
    "        while dropped:\n",
    "            variables = X.columns\n",
    "            dropped = False\n",
    "            vif = [variance_inflation_factor(X[variables].values, X.columns.get_loc(var)) for var in X.columns]\n",
    "            \n",
    "            max_vif = max(vif)\n",
    "            if max_vif > thresh:\n",
    "                maxloc = vif.index(max_vif)\n",
    "                print(f'Dropping {X.columns[maxloc]} with vif={max_vif}')\n",
    "                X = X.drop([X.columns.tolist()[maxloc]], axis=1)\n",
    "                dropped=True\n",
    "        return X"
   ]
  },
  {
   "cell_type": "code",
   "execution_count": 80,
   "metadata": {
    "scrolled": false
   },
   "outputs": [
    {
     "name": "stdout",
     "output_type": "stream",
     "text": [
      "ReduceVIF fit\n",
      "ReduceVIF transform\n"
     ]
    },
    {
     "name": "stderr",
     "output_type": "stream",
     "text": [
      "C:\\Users\\wongk3.NA\\AppData\\Local\\Continuum\\Anaconda2\\envs\\newPy36\\lib\\site-packages\\statsmodels\\stats\\outliers_influence.py:167: RuntimeWarning: divide by zero encountered in double_scalars\n",
      "  vif = 1. / (1. - r_squared_i)\n",
      "C:\\Users\\wongk3.NA\\AppData\\Local\\Continuum\\Anaconda2\\envs\\newPy36\\lib\\site-packages\\statsmodels\\regression\\linear_model.py:1386: RuntimeWarning: invalid value encountered in double_scalars\n",
      "  return 1 - self.ssr/self.centered_tss\n"
     ]
    },
    {
     "name": "stdout",
     "output_type": "stream",
     "text": [
      "Dropping BsmtFinSF1 with vif=inf\n",
      "Dropping 1stFlrSF with vif=inf\n",
      "Dropping MSZoning_C (all) with vif=inf\n",
      "Dropping MSZoning_FV with vif=inf\n",
      "Dropping MSZoning_RH with vif=inf\n",
      "Dropping MSZoning_RL with vif=inf\n",
      "Dropping MSZoning_RM with vif=inf\n",
      "Dropping Street_Grvl with vif=inf\n",
      "Dropping Alley_Grvl with vif=inf\n",
      "Dropping LandContour_Bnk with vif=inf\n",
      "Dropping Utilities_AllPub with vif=inf\n",
      "Dropping LotConfig_Corner with vif=inf\n",
      "Dropping Neighborhood_Blmngtn with vif=inf\n",
      "Dropping Condition1_Artery with vif=inf\n",
      "Dropping Condition2_Artery with vif=inf\n",
      "Dropping BldgType_1Fam with vif=inf\n",
      "Dropping HouseStyle_1.5Fin with vif=inf\n",
      "Dropping RoofStyle_Flat with vif=inf\n",
      "Dropping RoofMatl_CompShg with vif=inf\n",
      "Dropping Exterior1st_AsbShng with vif=inf\n",
      "Dropping Exterior1st_CBlock with vif=inf\n",
      "Dropping Exterior2nd_AsbShng with vif=inf\n",
      "Dropping MasVnrType_BrkCmn with vif=inf\n",
      "Dropping Foundation_BrkTil with vif=inf\n",
      "Dropping Heating_Floor with vif=inf\n",
      "Dropping Electrical_C (all) with vif=inf\n",
      "Dropping GarageType_2Types with vif=inf\n",
      "Dropping Fence_GdPrv with vif=inf\n",
      "Dropping MiscFeature_Gar2 with vif=inf\n",
      "Dropping SaleType_COD with vif=inf\n",
      "Dropping SaleCondition_Normal with vif=2412132.4148428175\n"
     ]
    },
    {
     "name": "stderr",
     "output_type": "stream",
     "text": [
      "C:\\Users\\wongk3.NA\\AppData\\Local\\Continuum\\Anaconda2\\envs\\newPy36\\lib\\site-packages\\statsmodels\\regression\\linear_model.py:1388: RuntimeWarning: invalid value encountered in double_scalars\n",
      "  return 1 - self.ssr/self.uncentered_tss\n"
     ]
    },
    {
     "name": "stdout",
     "output_type": "stream",
     "text": [
      "Dropping YrSold with vif=107936.87267922967\n",
      "Dropping YearBuilt with vif=41350.357198712394\n",
      "Dropping GarageYrBlt with vif=25541.63859314166\n",
      "Dropping YearRemodAdd with vif=16586.198363510255\n",
      "Dropping MiscFeature_None with vif=4690.908755522898\n",
      "Dropping Heating_GasA with vif=1214.9290243614744\n",
      "Dropping Condition2_Norm with vif=750.150798846286\n",
      "Dropping RoofStyle_Gable with vif=507.77679573190903\n",
      "Dropping Street_Pave with vif=340.84799761950774\n",
      "Dropping GarageCond with vif=324.50705308189475\n",
      "Dropping GrLivArea with vif=187.85206696499716\n",
      "Dropping GarageQual with vif=186.04066952304632\n",
      "Dropping Electrical_RL with vif=172.54226871823627\n",
      "Dropping Exterior1st_VinylSd with vif=162.69600100254928\n",
      "Dropping GarageType_Attchd with vif=143.12239096356848\n",
      "Dropping ExterQual with vif=134.34911880574555\n",
      "Dropping Functional with vif=129.22093790519662\n",
      "Dropping ExterCond with vif=109.09137123159228\n",
      "Dropping OverallQual with vif=96.802074631713\n",
      "Dropping BsmtCond with vif=95.89777542084066\n",
      "Dropping TotRmsAbvGrd with vif=87.35101777488414\n",
      "Dropping MSSubClass with vif=86.89704195069565\n",
      "Dropping KitchenAbvGr with vif=76.29964816076212\n",
      "Dropping BsmtQual with vif=74.56163461387457\n",
      "Dropping KitchenQual with vif=73.46364060693475\n",
      "Dropping MasVnrType_None with vif=63.175388222876094\n",
      "Dropping SaleType_New with vif=51.661749200469636\n",
      "Dropping Exterior2nd_MetalSd with vif=50.24035169018947\n",
      "Dropping GarageCars with vif=48.8900467955461\n",
      "Dropping TotalBsmtSF with vif=47.47554096311217\n",
      "Dropping HeatingQC with vif=42.06586522082691\n",
      "Dropping Alley_None with vif=40.536145542130846\n",
      "Dropping OverallCond with vif=38.54790089221655\n",
      "Dropping SaleType_WD with vif=34.56331283120785\n",
      "Dropping Condition1_Norm with vif=33.89109626275357\n",
      "Dropping BedroomAbvGr with vif=32.919865910832144\n",
      "Dropping LotShape with vif=31.153115947067576\n",
      "Dropping LandContour_Lvl with vif=29.33030232944436\n",
      "Dropping CentralAir with vif=28.63320534129817\n",
      "Dropping FullBath with vif=27.501139717724417\n",
      "Dropping Exterior2nd_CmentBd with vif=26.862651903947043\n",
      "Dropping Fence_None with vif=25.215678851746286\n",
      "Dropping LotFrontage with vif=24.714363609323215\n",
      "Dropping PavedDrive with vif=23.41929546223071\n",
      "Dropping Exterior2nd_VinylSd with vif=21.56494655022215\n",
      "Dropping 2ndFlrSF with vif=17.206339207022854\n",
      "Dropping GarageArea with vif=16.421843520530867\n",
      "Dropping Exterior1st_HdBoard with vif=14.546382550331833\n",
      "Dropping GarageFinish with vif=12.491957824540652\n",
      "Dropping PoolArea with vif=10.828812201511006\n",
      "Dropping Foundation_PConc with vif=10.793296455968667\n",
      "Dropping FireplaceQu with vif=10.707472491919468\n",
      "Dropping BsmtFinType2 with vif=9.492259658717014\n",
      "Dropping BsmtFinType1 with vif=9.079555984093584\n",
      "Dropping HouseStyle_1Story with vif=8.51754659478246\n",
      "Dropping Exterior1st_Wd Sdng with vif=8.298565559550049\n",
      "Dropping Neighborhood_Somerst with vif=7.045915025950718\n",
      "Dropping MoSold with vif=6.869294858441107\n",
      "Dropping BsmtExposure with vif=6.254410093605622\n",
      "Dropping Neighborhood_OldTown with vif=5.346653964869549\n"
     ]
    }
   ],
   "source": [
    "transformer = ReduceVIF()\n",
    "X = transformer.fit_transform(X, y)"
   ]
  },
  {
   "cell_type": "code",
   "execution_count": 81,
   "metadata": {
    "collapsed": true
   },
   "outputs": [],
   "source": [
    "X_train, X_test, y_train, y_test = train_test_split(X, y, test_size=0.3, random_state=10)\n"
   ]
  },
  {
   "cell_type": "code",
   "execution_count": 84,
   "metadata": {},
   "outputs": [
    {
     "data": {
      "text/plain": [
       "LinearRegression(copy_X=True, fit_intercept=True, n_jobs=1, normalize=False)"
      ]
     },
     "execution_count": 84,
     "metadata": {},
     "output_type": "execute_result"
    }
   ],
   "source": [
    "reg_VIF = LinearRegression()\n",
    "reg_VIF.fit(X_train, y_train)\n"
   ]
  },
  {
   "cell_type": "code",
   "execution_count": 86,
   "metadata": {},
   "outputs": [
    {
     "data": {
      "text/plain": [
       "0.81944211620960794"
      ]
     },
     "execution_count": 86,
     "metadata": {},
     "output_type": "execute_result"
    }
   ],
   "source": [
    "reg_VIF.score(X_train, y_train)"
   ]
  },
  {
   "cell_type": "code",
   "execution_count": 112,
   "metadata": {},
   "outputs": [
    {
     "data": {
      "text/plain": [
       "0.41924826806113458"
      ]
     },
     "execution_count": 112,
     "metadata": {},
     "output_type": "execute_result"
    }
   ],
   "source": [
    "y_pred_reg_VIF = reg_VIF.predict(X_test)\n",
    "\n",
    "rmsle(y_test, y_pred_reg_VIF)"
   ]
  },
  {
   "cell_type": "code",
   "execution_count": 19,
   "metadata": {},
   "outputs": [
    {
     "name": "stdout",
     "output_type": "stream",
     "text": [
      "Tuned Logistic Regression Parameter: {'fit_intercept': True, 'normalize': False}\n",
      "Tuned Logistic Regression Accuracy: -605390300.4302213\n"
     ]
    }
   ],
   "source": [
    "reg_cv = GridSearchCV(reg, param_grid, cv=5)\n",
    "reg_cv.fit(X,y)\n",
    "\n",
    "print(\"Tuned Logistic Regression Parameter: {}\".format(reg_cv.best_params_))\n",
    "print(\"Tuned Logistic Regression Accuracy: {}\".format(reg_cv.best_score_))"
   ]
  },
  {
   "cell_type": "markdown",
   "metadata": {},
   "source": [
    "# Lasso Regression"
   ]
  },
  {
   "cell_type": "code",
   "execution_count": 101,
   "metadata": {
    "scrolled": true
   },
   "outputs": [
    {
     "data": {
      "text/html": [
       "<div>\n",
       "<style>\n",
       "    .dataframe thead tr:only-child th {\n",
       "        text-align: right;\n",
       "    }\n",
       "\n",
       "    .dataframe thead th {\n",
       "        text-align: left;\n",
       "    }\n",
       "\n",
       "    .dataframe tbody tr th {\n",
       "        vertical-align: top;\n",
       "    }\n",
       "</style>\n",
       "<table border=\"1\" class=\"dataframe\">\n",
       "  <thead>\n",
       "    <tr style=\"text-align: right;\">\n",
       "      <th></th>\n",
       "      <th>0</th>\n",
       "      <th>1</th>\n",
       "      <th>2</th>\n",
       "      <th>3</th>\n",
       "      <th>4</th>\n",
       "      <th>5</th>\n",
       "      <th>6</th>\n",
       "      <th>7</th>\n",
       "      <th>8</th>\n",
       "      <th>9</th>\n",
       "      <th>...</th>\n",
       "      <th>128</th>\n",
       "      <th>129</th>\n",
       "      <th>130</th>\n",
       "      <th>131</th>\n",
       "      <th>132</th>\n",
       "      <th>133</th>\n",
       "      <th>134</th>\n",
       "      <th>135</th>\n",
       "      <th>136</th>\n",
       "      <th>137</th>\n",
       "    </tr>\n",
       "  </thead>\n",
       "  <tbody>\n",
       "    <tr>\n",
       "      <th>0</th>\n",
       "      <td>-0.252743</td>\n",
       "      <td>0.0</td>\n",
       "      <td>1.196947</td>\n",
       "      <td>0.0</td>\n",
       "      <td>-0.559829</td>\n",
       "      <td>0.0</td>\n",
       "      <td>1.0</td>\n",
       "      <td>0.0</td>\n",
       "      <td>1.0</td>\n",
       "      <td>-1.0</td>\n",
       "      <td>...</td>\n",
       "      <td>0.0</td>\n",
       "      <td>0.0</td>\n",
       "      <td>0.0</td>\n",
       "      <td>0.0</td>\n",
       "      <td>0.0</td>\n",
       "      <td>0.0</td>\n",
       "      <td>0.0</td>\n",
       "      <td>0.0</td>\n",
       "      <td>0.0</td>\n",
       "      <td>0.0</td>\n",
       "    </tr>\n",
       "    <tr>\n",
       "      <th>1</th>\n",
       "      <td>0.030822</td>\n",
       "      <td>0.0</td>\n",
       "      <td>0.000000</td>\n",
       "      <td>0.0</td>\n",
       "      <td>-0.330769</td>\n",
       "      <td>0.0</td>\n",
       "      <td>0.0</td>\n",
       "      <td>1.0</td>\n",
       "      <td>0.0</td>\n",
       "      <td>0.0</td>\n",
       "      <td>...</td>\n",
       "      <td>0.0</td>\n",
       "      <td>0.0</td>\n",
       "      <td>0.0</td>\n",
       "      <td>0.0</td>\n",
       "      <td>0.0</td>\n",
       "      <td>0.0</td>\n",
       "      <td>0.0</td>\n",
       "      <td>0.0</td>\n",
       "      <td>0.0</td>\n",
       "      <td>0.0</td>\n",
       "    </tr>\n",
       "    <tr>\n",
       "      <th>2</th>\n",
       "      <td>0.437677</td>\n",
       "      <td>0.0</td>\n",
       "      <td>0.989313</td>\n",
       "      <td>0.0</td>\n",
       "      <td>-0.074359</td>\n",
       "      <td>0.0</td>\n",
       "      <td>1.0</td>\n",
       "      <td>0.0</td>\n",
       "      <td>1.0</td>\n",
       "      <td>0.0</td>\n",
       "      <td>...</td>\n",
       "      <td>0.0</td>\n",
       "      <td>0.0</td>\n",
       "      <td>0.0</td>\n",
       "      <td>0.0</td>\n",
       "      <td>0.0</td>\n",
       "      <td>0.0</td>\n",
       "      <td>0.0</td>\n",
       "      <td>0.0</td>\n",
       "      <td>0.0</td>\n",
       "      <td>0.0</td>\n",
       "    </tr>\n",
       "    <tr>\n",
       "      <th>3</th>\n",
       "      <td>0.018493</td>\n",
       "      <td>0.0</td>\n",
       "      <td>0.000000</td>\n",
       "      <td>0.0</td>\n",
       "      <td>0.106838</td>\n",
       "      <td>0.0</td>\n",
       "      <td>1.0</td>\n",
       "      <td>0.0</td>\n",
       "      <td>0.0</td>\n",
       "      <td>0.0</td>\n",
       "      <td>...</td>\n",
       "      <td>0.0</td>\n",
       "      <td>0.0</td>\n",
       "      <td>0.0</td>\n",
       "      <td>0.0</td>\n",
       "      <td>0.0</td>\n",
       "      <td>1.0</td>\n",
       "      <td>0.0</td>\n",
       "      <td>0.0</td>\n",
       "      <td>0.0</td>\n",
       "      <td>0.0</td>\n",
       "    </tr>\n",
       "    <tr>\n",
       "      <th>4</th>\n",
       "      <td>1.179879</td>\n",
       "      <td>0.0</td>\n",
       "      <td>2.137405</td>\n",
       "      <td>0.0</td>\n",
       "      <td>0.021368</td>\n",
       "      <td>0.0</td>\n",
       "      <td>1.0</td>\n",
       "      <td>0.0</td>\n",
       "      <td>1.0</td>\n",
       "      <td>0.0</td>\n",
       "      <td>...</td>\n",
       "      <td>0.0</td>\n",
       "      <td>0.0</td>\n",
       "      <td>0.0</td>\n",
       "      <td>0.0</td>\n",
       "      <td>0.0</td>\n",
       "      <td>0.0</td>\n",
       "      <td>0.0</td>\n",
       "      <td>0.0</td>\n",
       "      <td>0.0</td>\n",
       "      <td>0.0</td>\n",
       "    </tr>\n",
       "  </tbody>\n",
       "</table>\n",
       "<p>5 rows × 138 columns</p>\n",
       "</div>"
      ],
      "text/plain": [
       "        0    1         2    3         4    5    6    7    8    9   ...   128  \\\n",
       "0 -0.252743  0.0  1.196947  0.0 -0.559829  0.0  1.0  0.0  1.0 -1.0 ...   0.0   \n",
       "1  0.030822  0.0  0.000000  0.0 -0.330769  0.0  0.0  1.0  0.0  0.0 ...   0.0   \n",
       "2  0.437677  0.0  0.989313  0.0 -0.074359  0.0  1.0  0.0  1.0  0.0 ...   0.0   \n",
       "3  0.018493  0.0  0.000000  0.0  0.106838  0.0  1.0  0.0  0.0  0.0 ...   0.0   \n",
       "4  1.179879  0.0  2.137405  0.0  0.021368  0.0  1.0  0.0  1.0  0.0 ...   0.0   \n",
       "\n",
       "   129  130  131  132  133  134  135  136  137  \n",
       "0  0.0  0.0  0.0  0.0  0.0  0.0  0.0  0.0  0.0  \n",
       "1  0.0  0.0  0.0  0.0  0.0  0.0  0.0  0.0  0.0  \n",
       "2  0.0  0.0  0.0  0.0  0.0  0.0  0.0  0.0  0.0  \n",
       "3  0.0  0.0  0.0  0.0  1.0  0.0  0.0  0.0  0.0  \n",
       "4  0.0  0.0  0.0  0.0  0.0  0.0  0.0  0.0  0.0  \n",
       "\n",
       "[5 rows x 138 columns]"
      ]
     },
     "execution_count": 101,
     "metadata": {},
     "output_type": "execute_result"
    }
   ],
   "source": [
    "X_scaled = pd.DataFrame(RobustScaler().fit_transform(X))\n",
    "X_scaled.head()"
   ]
  },
  {
   "cell_type": "code",
   "execution_count": 102,
   "metadata": {
    "collapsed": true
   },
   "outputs": [],
   "source": [
    "X_train, X_test, y_train, y_test = train_test_split(X_scaled, y, test_size=0.3, random_state=10)\n"
   ]
  },
  {
   "cell_type": "code",
   "execution_count": 105,
   "metadata": {
    "scrolled": true
   },
   "outputs": [
    {
     "data": {
      "text/plain": [
       "Lasso(alpha=1.0, copy_X=True, fit_intercept=True, max_iter=1000,\n",
       "   normalize=False, positive=False, precompute=False, random_state=None,\n",
       "   selection='cyclic', tol=0.0001, warm_start=False)"
      ]
     },
     "execution_count": 105,
     "metadata": {},
     "output_type": "execute_result"
    }
   ],
   "source": [
    "reg_lasso = Lasso()\n",
    "reg_lasso.fit(X_train, y_train)"
   ]
  },
  {
   "cell_type": "code",
   "execution_count": 111,
   "metadata": {},
   "outputs": [
    {
     "data": {
      "text/plain": [
       "0.22766692250875895"
      ]
     },
     "execution_count": 111,
     "metadata": {},
     "output_type": "execute_result"
    }
   ],
   "source": [
    "y_pred_reg_lasso = reg_lasso.predict(X_test)\n",
    "\n",
    "rmsle(y_test, y_pred_reg_lasso)"
   ]
  },
  {
   "cell_type": "markdown",
   "metadata": {},
   "source": [
    "# Random Forest"
   ]
  },
  {
   "cell_type": "code",
   "execution_count": 113,
   "metadata": {
    "collapsed": true
   },
   "outputs": [],
   "source": [
    "X_train, X_test, y_train, y_test = train_test_split(X, y, test_size=0.3, random_state=10)"
   ]
  },
  {
   "cell_type": "code",
   "execution_count": 117,
   "metadata": {},
   "outputs": [
    {
     "data": {
      "text/plain": [
       "RandomForestClassifier(bootstrap=True, class_weight=None, criterion='gini',\n",
       "            max_depth=None, max_features='auto', max_leaf_nodes=None,\n",
       "            min_impurity_decrease=0.0, min_impurity_split=None,\n",
       "            min_samples_leaf=1, min_samples_split=2,\n",
       "            min_weight_fraction_leaf=0.0, n_estimators=10, n_jobs=1,\n",
       "            oob_score=False, random_state=None, verbose=0,\n",
       "            warm_start=False)"
      ]
     },
     "execution_count": 117,
     "metadata": {},
     "output_type": "execute_result"
    }
   ],
   "source": [
    "reg_rf = RandomForestClassifier()\n",
    "reg_rf.fit(X_train, y_train)"
   ]
  },
  {
   "cell_type": "code",
   "execution_count": 118,
   "metadata": {},
   "outputs": [
    {
     "data": {
      "text/plain": [
       "0.36859974822003694"
      ]
     },
     "execution_count": 118,
     "metadata": {},
     "output_type": "execute_result"
    }
   ],
   "source": [
    "y_pred_reg_rf = reg_rf.predict(X_test)\n",
    "\n",
    "rmsle(y_test, y_pred_reg_rf)"
   ]
  },
  {
   "cell_type": "code",
   "execution_count": 21,
   "metadata": {
    "collapsed": true
   },
   "outputs": [],
   "source": [
    "# Specify the hyperparameters to be tested with RandomizedSearchCV\n",
    "\n",
    "# Number of trees in random forest\n",
    "n_estimators = [120, 300, 500, 800, 1200]\n",
    "\n",
    "# Number of features to consider at every split\n",
    "max_features = ['Log2', 'sqrt', None]\n",
    "\n",
    "# Maximum number of levels in tree\n",
    "max_depth = [5, 8, 15, 25, 30, None]\n",
    "\n",
    "# Minimum number of samples required to split a node\n",
    "min_samples_split = [1, 2, 5, 10, 15, 100]\n",
    "\n",
    "# Minimum number of samples required at each leaf node\n",
    "min_samples_leaf = [1, 2, 5, 10]\n",
    "\n",
    "# Method of selecting samples for training each tree\n",
    "bootstrap = [True, False]\n",
    "\n",
    "# Create the random grid\n",
    "random_grid = {'n_estimators': n_estimators,\n",
    "               'max_features': max_features,\n",
    "               'max_depth': max_depth,\n",
    "               'min_samples_split': min_samples_split,\n",
    "               'min_samples_leaf': min_samples_leaf,\n",
    "               'bootstrap': bootstrap}"
   ]
  },
  {
   "cell_type": "markdown",
   "metadata": {},
   "source": [
    "rf_cv = GridSearchCV(rf, param_grid, cv=5)\n",
    "rf_cv.fit(X, y)"
   ]
  },
  {
   "cell_type": "code",
   "execution_count": 35,
   "metadata": {
    "scrolled": false
   },
   "outputs": [
    {
     "name": "stdout",
     "output_type": "stream",
     "text": [
      "Fitting 5 folds for each of 100 candidates, totalling 500 fits\n"
     ]
    },
    {
     "name": "stderr",
     "output_type": "stream",
     "text": [
      "C:\\Users\\wongk3.NA\\AppData\\Local\\Continuum\\Anaconda2\\envs\\newPy36\\lib\\site-packages\\sklearn\\model_selection\\_split.py:605: Warning: The least populated class in y has only 1 members, which is too few. The minimum number of members in any class cannot be less than n_splits=5.\n",
      "  % (min_groups, self.n_splits)), Warning)\n"
     ]
    },
    {
     "ename": "JoblibValueError",
     "evalue": "JoblibValueError\n___________________________________________________________________________\nMultiprocessing exception:\n...........................................................................\nC:\\Users\\wongk3.NA\\AppData\\Local\\Continuum\\Anaconda2\\envs\\newPy36\\lib\\runpy.py in _run_module_as_main(mod_name='ipykernel_launcher', alter_argv=1)\n    188         sys.exit(msg)\n    189     main_globals = sys.modules[\"__main__\"].__dict__\n    190     if alter_argv:\n    191         sys.argv[0] = mod_spec.origin\n    192     return _run_code(code, main_globals, None,\n--> 193                      \"__main__\", mod_spec)\n        mod_spec = ModuleSpec(name='ipykernel_launcher', loader=<_f...Py36\\\\lib\\\\site-packages\\\\ipykernel_launcher.py')\n    194 \n    195 def run_module(mod_name, init_globals=None,\n    196                run_name=None, alter_sys=False):\n    197     \"\"\"Execute a module's code without importing it\n\n...........................................................................\nC:\\Users\\wongk3.NA\\AppData\\Local\\Continuum\\Anaconda2\\envs\\newPy36\\lib\\runpy.py in _run_code(code=<code object <module> at 0x0000000002057810, fil...lib\\site-packages\\ipykernel_launcher.py\", line 5>, run_globals={'__annotations__': {}, '__builtins__': <module 'builtins' (built-in)>, '__cached__': r'C:\\Users\\wongk3.NA\\AppData\\Local\\Continuum\\Anaco...ges\\__pycache__\\ipykernel_launcher.cpython-36.pyc', '__doc__': 'Entry point for launching an IPython kernel.\\n\\nTh...orts until\\nafter removing the cwd from sys.path.\\n', '__file__': r'C:\\Users\\wongk3.NA\\AppData\\Local\\Continuum\\Anaco...s\\newPy36\\lib\\site-packages\\ipykernel_launcher.py', '__loader__': <_frozen_importlib_external.SourceFileLoader object>, '__name__': '__main__', '__package__': '', '__spec__': ModuleSpec(name='ipykernel_launcher', loader=<_f...Py36\\\\lib\\\\site-packages\\\\ipykernel_launcher.py'), 'app': <module 'ipykernel.kernelapp' from 'C:\\\\Users\\\\w...36\\\\lib\\\\site-packages\\\\ipykernel\\\\kernelapp.py'>, ...}, init_globals=None, mod_name='__main__', mod_spec=ModuleSpec(name='ipykernel_launcher', loader=<_f...Py36\\\\lib\\\\site-packages\\\\ipykernel_launcher.py'), pkg_name='', script_name=None)\n     80                        __cached__ = cached,\n     81                        __doc__ = None,\n     82                        __loader__ = loader,\n     83                        __package__ = pkg_name,\n     84                        __spec__ = mod_spec)\n---> 85     exec(code, run_globals)\n        code = <code object <module> at 0x0000000002057810, fil...lib\\site-packages\\ipykernel_launcher.py\", line 5>\n        run_globals = {'__annotations__': {}, '__builtins__': <module 'builtins' (built-in)>, '__cached__': r'C:\\Users\\wongk3.NA\\AppData\\Local\\Continuum\\Anaco...ges\\__pycache__\\ipykernel_launcher.cpython-36.pyc', '__doc__': 'Entry point for launching an IPython kernel.\\n\\nTh...orts until\\nafter removing the cwd from sys.path.\\n', '__file__': r'C:\\Users\\wongk3.NA\\AppData\\Local\\Continuum\\Anaco...s\\newPy36\\lib\\site-packages\\ipykernel_launcher.py', '__loader__': <_frozen_importlib_external.SourceFileLoader object>, '__name__': '__main__', '__package__': '', '__spec__': ModuleSpec(name='ipykernel_launcher', loader=<_f...Py36\\\\lib\\\\site-packages\\\\ipykernel_launcher.py'), 'app': <module 'ipykernel.kernelapp' from 'C:\\\\Users\\\\w...36\\\\lib\\\\site-packages\\\\ipykernel\\\\kernelapp.py'>, ...}\n     86     return run_globals\n     87 \n     88 def _run_module_code(code, init_globals=None,\n     89                     mod_name=None, mod_spec=None,\n\n...........................................................................\nC:\\Users\\wongk3.NA\\AppData\\Local\\Continuum\\Anaconda2\\envs\\newPy36\\lib\\site-packages\\ipykernel_launcher.py in <module>()\n     11     # This is added back by InteractiveShellApp.init_path()\n     12     if sys.path[0] == '':\n     13         del sys.path[0]\n     14 \n     15     from ipykernel import kernelapp as app\n---> 16     app.launch_new_instance()\n\n...........................................................................\nC:\\Users\\wongk3.NA\\AppData\\Local\\Continuum\\Anaconda2\\envs\\newPy36\\lib\\site-packages\\traitlets\\config\\application.py in launch_instance(cls=<class 'ipykernel.kernelapp.IPKernelApp'>, argv=None, **kwargs={})\n    653 \n    654         If a global instance already exists, this reinitializes and starts it\n    655         \"\"\"\n    656         app = cls.instance(**kwargs)\n    657         app.initialize(argv)\n--> 658         app.start()\n        app.start = <bound method IPKernelApp.start of <ipykernel.kernelapp.IPKernelApp object>>\n    659 \n    660 #-----------------------------------------------------------------------------\n    661 # utility functions, for convenience\n    662 #-----------------------------------------------------------------------------\n\n...........................................................................\nC:\\Users\\wongk3.NA\\AppData\\Local\\Continuum\\Anaconda2\\envs\\newPy36\\lib\\site-packages\\ipykernel\\kernelapp.py in start(self=<ipykernel.kernelapp.IPKernelApp object>)\n    472             return self.subapp.start()\n    473         if self.poller is not None:\n    474             self.poller.start()\n    475         self.kernel.start()\n    476         try:\n--> 477             ioloop.IOLoop.instance().start()\n    478         except KeyboardInterrupt:\n    479             pass\n    480 \n    481 launch_new_instance = IPKernelApp.launch_instance\n\n...........................................................................\nC:\\Users\\wongk3.NA\\AppData\\Local\\Continuum\\Anaconda2\\envs\\newPy36\\lib\\site-packages\\zmq\\eventloop\\ioloop.py in start(self=<zmq.eventloop.ioloop.ZMQIOLoop object>)\n    172             )\n    173         return loop\n    174     \n    175     def start(self):\n    176         try:\n--> 177             super(ZMQIOLoop, self).start()\n        self.start = <bound method ZMQIOLoop.start of <zmq.eventloop.ioloop.ZMQIOLoop object>>\n    178         except ZMQError as e:\n    179             if e.errno == ETERM:\n    180                 # quietly return on ETERM\n    181                 pass\n\n...........................................................................\nC:\\Users\\wongk3.NA\\AppData\\Local\\Continuum\\Anaconda2\\envs\\newPy36\\lib\\site-packages\\tornado\\ioloop.py in start(self=<zmq.eventloop.ioloop.ZMQIOLoop object>)\n    883                 self._events.update(event_pairs)\n    884                 while self._events:\n    885                     fd, events = self._events.popitem()\n    886                     try:\n    887                         fd_obj, handler_func = self._handlers[fd]\n--> 888                         handler_func(fd_obj, events)\n        handler_func = <function wrap.<locals>.null_wrapper>\n        fd_obj = <zmq.sugar.socket.Socket object>\n        events = 1\n    889                     except (OSError, IOError) as e:\n    890                         if errno_from_exception(e) == errno.EPIPE:\n    891                             # Happens when the client closes the connection\n    892                             pass\n\n...........................................................................\nC:\\Users\\wongk3.NA\\AppData\\Local\\Continuum\\Anaconda2\\envs\\newPy36\\lib\\site-packages\\tornado\\stack_context.py in null_wrapper(*args=(<zmq.sugar.socket.Socket object>, 1), **kwargs={})\n    272         # Fast path when there are no active contexts.\n    273         def null_wrapper(*args, **kwargs):\n    274             try:\n    275                 current_state = _state.contexts\n    276                 _state.contexts = cap_contexts[0]\n--> 277                 return fn(*args, **kwargs)\n        args = (<zmq.sugar.socket.Socket object>, 1)\n        kwargs = {}\n    278             finally:\n    279                 _state.contexts = current_state\n    280         null_wrapper._wrapped = True\n    281         return null_wrapper\n\n...........................................................................\nC:\\Users\\wongk3.NA\\AppData\\Local\\Continuum\\Anaconda2\\envs\\newPy36\\lib\\site-packages\\zmq\\eventloop\\zmqstream.py in _handle_events(self=<zmq.eventloop.zmqstream.ZMQStream object>, fd=<zmq.sugar.socket.Socket object>, events=1)\n    435             # dispatch events:\n    436             if events & IOLoop.ERROR:\n    437                 gen_log.error(\"got POLLERR event on ZMQStream, which doesn't make sense\")\n    438                 return\n    439             if events & IOLoop.READ:\n--> 440                 self._handle_recv()\n        self._handle_recv = <bound method ZMQStream._handle_recv of <zmq.eventloop.zmqstream.ZMQStream object>>\n    441                 if not self.socket:\n    442                     return\n    443             if events & IOLoop.WRITE:\n    444                 self._handle_send()\n\n...........................................................................\nC:\\Users\\wongk3.NA\\AppData\\Local\\Continuum\\Anaconda2\\envs\\newPy36\\lib\\site-packages\\zmq\\eventloop\\zmqstream.py in _handle_recv(self=<zmq.eventloop.zmqstream.ZMQStream object>)\n    467                 gen_log.error(\"RECV Error: %s\"%zmq.strerror(e.errno))\n    468         else:\n    469             if self._recv_callback:\n    470                 callback = self._recv_callback\n    471                 # self._recv_callback = None\n--> 472                 self._run_callback(callback, msg)\n        self._run_callback = <bound method ZMQStream._run_callback of <zmq.eventloop.zmqstream.ZMQStream object>>\n        callback = <function wrap.<locals>.null_wrapper>\n        msg = [<zmq.sugar.frame.Frame object>, <zmq.sugar.frame.Frame object>, <zmq.sugar.frame.Frame object>, <zmq.sugar.frame.Frame object>, <zmq.sugar.frame.Frame object>, <zmq.sugar.frame.Frame object>, <zmq.sugar.frame.Frame object>]\n    473                 \n    474         # self.update_state()\n    475         \n    476 \n\n...........................................................................\nC:\\Users\\wongk3.NA\\AppData\\Local\\Continuum\\Anaconda2\\envs\\newPy36\\lib\\site-packages\\zmq\\eventloop\\zmqstream.py in _run_callback(self=<zmq.eventloop.zmqstream.ZMQStream object>, callback=<function wrap.<locals>.null_wrapper>, *args=([<zmq.sugar.frame.Frame object>, <zmq.sugar.frame.Frame object>, <zmq.sugar.frame.Frame object>, <zmq.sugar.frame.Frame object>, <zmq.sugar.frame.Frame object>, <zmq.sugar.frame.Frame object>, <zmq.sugar.frame.Frame object>],), **kwargs={})\n    409         close our socket.\"\"\"\n    410         try:\n    411             # Use a NullContext to ensure that all StackContexts are run\n    412             # inside our blanket exception handler rather than outside.\n    413             with stack_context.NullContext():\n--> 414                 callback(*args, **kwargs)\n        callback = <function wrap.<locals>.null_wrapper>\n        args = ([<zmq.sugar.frame.Frame object>, <zmq.sugar.frame.Frame object>, <zmq.sugar.frame.Frame object>, <zmq.sugar.frame.Frame object>, <zmq.sugar.frame.Frame object>, <zmq.sugar.frame.Frame object>, <zmq.sugar.frame.Frame object>],)\n        kwargs = {}\n    415         except:\n    416             gen_log.error(\"Uncaught exception, closing connection.\",\n    417                           exc_info=True)\n    418             # Close the socket on an uncaught exception from a user callback\n\n...........................................................................\nC:\\Users\\wongk3.NA\\AppData\\Local\\Continuum\\Anaconda2\\envs\\newPy36\\lib\\site-packages\\tornado\\stack_context.py in null_wrapper(*args=([<zmq.sugar.frame.Frame object>, <zmq.sugar.frame.Frame object>, <zmq.sugar.frame.Frame object>, <zmq.sugar.frame.Frame object>, <zmq.sugar.frame.Frame object>, <zmq.sugar.frame.Frame object>, <zmq.sugar.frame.Frame object>],), **kwargs={})\n    272         # Fast path when there are no active contexts.\n    273         def null_wrapper(*args, **kwargs):\n    274             try:\n    275                 current_state = _state.contexts\n    276                 _state.contexts = cap_contexts[0]\n--> 277                 return fn(*args, **kwargs)\n        args = ([<zmq.sugar.frame.Frame object>, <zmq.sugar.frame.Frame object>, <zmq.sugar.frame.Frame object>, <zmq.sugar.frame.Frame object>, <zmq.sugar.frame.Frame object>, <zmq.sugar.frame.Frame object>, <zmq.sugar.frame.Frame object>],)\n        kwargs = {}\n    278             finally:\n    279                 _state.contexts = current_state\n    280         null_wrapper._wrapped = True\n    281         return null_wrapper\n\n...........................................................................\nC:\\Users\\wongk3.NA\\AppData\\Local\\Continuum\\Anaconda2\\envs\\newPy36\\lib\\site-packages\\ipykernel\\kernelbase.py in dispatcher(msg=[<zmq.sugar.frame.Frame object>, <zmq.sugar.frame.Frame object>, <zmq.sugar.frame.Frame object>, <zmq.sugar.frame.Frame object>, <zmq.sugar.frame.Frame object>, <zmq.sugar.frame.Frame object>, <zmq.sugar.frame.Frame object>])\n    278         if self.control_stream:\n    279             self.control_stream.on_recv(self.dispatch_control, copy=False)\n    280 \n    281         def make_dispatcher(stream):\n    282             def dispatcher(msg):\n--> 283                 return self.dispatch_shell(stream, msg)\n        msg = [<zmq.sugar.frame.Frame object>, <zmq.sugar.frame.Frame object>, <zmq.sugar.frame.Frame object>, <zmq.sugar.frame.Frame object>, <zmq.sugar.frame.Frame object>, <zmq.sugar.frame.Frame object>, <zmq.sugar.frame.Frame object>]\n    284             return dispatcher\n    285 \n    286         for s in self.shell_streams:\n    287             s.on_recv(make_dispatcher(s), copy=False)\n\n...........................................................................\nC:\\Users\\wongk3.NA\\AppData\\Local\\Continuum\\Anaconda2\\envs\\newPy36\\lib\\site-packages\\ipykernel\\kernelbase.py in dispatch_shell(self=<ipykernel.ipkernel.IPythonKernel object>, stream=<zmq.eventloop.zmqstream.ZMQStream object>, msg={'buffers': [], 'content': {'allow_stdin': True, 'code': '# Use the random grid to search for best hyperpa...# Fit the random search model\\nrf_random.fit(X, y)', 'silent': False, 'stop_on_error': True, 'store_history': True, 'user_expressions': {}}, 'header': {'date': datetime.datetime(2018, 5, 15, 0, 13, 49, 665337, tzinfo=datetime.timezone.utc), 'msg_id': 'BC085BF391534D0D81ADC1A9E3F55149', 'msg_type': 'execute_request', 'session': 'AAE66A19F0144F0086F54BCE87F250EF', 'username': 'username', 'version': '5.0'}, 'metadata': {}, 'msg_id': 'BC085BF391534D0D81ADC1A9E3F55149', 'msg_type': 'execute_request', 'parent_header': {}})\n    230             self.log.warn(\"Unknown message type: %r\", msg_type)\n    231         else:\n    232             self.log.debug(\"%s: %s\", msg_type, msg)\n    233             self.pre_handler_hook()\n    234             try:\n--> 235                 handler(stream, idents, msg)\n        handler = <bound method Kernel.execute_request of <ipykernel.ipkernel.IPythonKernel object>>\n        stream = <zmq.eventloop.zmqstream.ZMQStream object>\n        idents = [b'AAE66A19F0144F0086F54BCE87F250EF']\n        msg = {'buffers': [], 'content': {'allow_stdin': True, 'code': '# Use the random grid to search for best hyperpa...# Fit the random search model\\nrf_random.fit(X, y)', 'silent': False, 'stop_on_error': True, 'store_history': True, 'user_expressions': {}}, 'header': {'date': datetime.datetime(2018, 5, 15, 0, 13, 49, 665337, tzinfo=datetime.timezone.utc), 'msg_id': 'BC085BF391534D0D81ADC1A9E3F55149', 'msg_type': 'execute_request', 'session': 'AAE66A19F0144F0086F54BCE87F250EF', 'username': 'username', 'version': '5.0'}, 'metadata': {}, 'msg_id': 'BC085BF391534D0D81ADC1A9E3F55149', 'msg_type': 'execute_request', 'parent_header': {}}\n    236             except Exception:\n    237                 self.log.error(\"Exception in message handler:\", exc_info=True)\n    238             finally:\n    239                 self.post_handler_hook()\n\n...........................................................................\nC:\\Users\\wongk3.NA\\AppData\\Local\\Continuum\\Anaconda2\\envs\\newPy36\\lib\\site-packages\\ipykernel\\kernelbase.py in execute_request(self=<ipykernel.ipkernel.IPythonKernel object>, stream=<zmq.eventloop.zmqstream.ZMQStream object>, ident=[b'AAE66A19F0144F0086F54BCE87F250EF'], parent={'buffers': [], 'content': {'allow_stdin': True, 'code': '# Use the random grid to search for best hyperpa...# Fit the random search model\\nrf_random.fit(X, y)', 'silent': False, 'stop_on_error': True, 'store_history': True, 'user_expressions': {}}, 'header': {'date': datetime.datetime(2018, 5, 15, 0, 13, 49, 665337, tzinfo=datetime.timezone.utc), 'msg_id': 'BC085BF391534D0D81ADC1A9E3F55149', 'msg_type': 'execute_request', 'session': 'AAE66A19F0144F0086F54BCE87F250EF', 'username': 'username', 'version': '5.0'}, 'metadata': {}, 'msg_id': 'BC085BF391534D0D81ADC1A9E3F55149', 'msg_type': 'execute_request', 'parent_header': {}})\n    394         if not silent:\n    395             self.execution_count += 1\n    396             self._publish_execute_input(code, parent, self.execution_count)\n    397 \n    398         reply_content = self.do_execute(code, silent, store_history,\n--> 399                                         user_expressions, allow_stdin)\n        user_expressions = {}\n        allow_stdin = True\n    400 \n    401         # Flush output before sending the reply.\n    402         sys.stdout.flush()\n    403         sys.stderr.flush()\n\n...........................................................................\nC:\\Users\\wongk3.NA\\AppData\\Local\\Continuum\\Anaconda2\\envs\\newPy36\\lib\\site-packages\\ipykernel\\ipkernel.py in do_execute(self=<ipykernel.ipkernel.IPythonKernel object>, code='# Use the random grid to search for best hyperpa...# Fit the random search model\\nrf_random.fit(X, y)', silent=False, store_history=True, user_expressions={}, allow_stdin=True)\n    191 \n    192         self._forward_input(allow_stdin)\n    193 \n    194         reply_content = {}\n    195         try:\n--> 196             res = shell.run_cell(code, store_history=store_history, silent=silent)\n        res = undefined\n        shell.run_cell = <bound method ZMQInteractiveShell.run_cell of <ipykernel.zmqshell.ZMQInteractiveShell object>>\n        code = '# Use the random grid to search for best hyperpa...# Fit the random search model\\nrf_random.fit(X, y)'\n        store_history = True\n        silent = False\n    197         finally:\n    198             self._restore_input()\n    199 \n    200         if res.error_before_exec is not None:\n\n...........................................................................\nC:\\Users\\wongk3.NA\\AppData\\Local\\Continuum\\Anaconda2\\envs\\newPy36\\lib\\site-packages\\ipykernel\\zmqshell.py in run_cell(self=<ipykernel.zmqshell.ZMQInteractiveShell object>, *args=('# Use the random grid to search for best hyperpa...# Fit the random search model\\nrf_random.fit(X, y)',), **kwargs={'silent': False, 'store_history': True})\n    528             )\n    529         self.payload_manager.write_payload(payload)\n    530 \n    531     def run_cell(self, *args, **kwargs):\n    532         self._last_traceback = None\n--> 533         return super(ZMQInteractiveShell, self).run_cell(*args, **kwargs)\n        self.run_cell = <bound method ZMQInteractiveShell.run_cell of <ipykernel.zmqshell.ZMQInteractiveShell object>>\n        args = ('# Use the random grid to search for best hyperpa...# Fit the random search model\\nrf_random.fit(X, y)',)\n        kwargs = {'silent': False, 'store_history': True}\n    534 \n    535     def _showtraceback(self, etype, evalue, stb):\n    536         # try to preserve ordering of tracebacks and print statements\n    537         sys.stdout.flush()\n\n...........................................................................\nC:\\Users\\wongk3.NA\\AppData\\Local\\Continuum\\Anaconda2\\envs\\newPy36\\lib\\site-packages\\IPython\\core\\interactiveshell.py in run_cell(self=<ipykernel.zmqshell.ZMQInteractiveShell object>, raw_cell='# Use the random grid to search for best hyperpa...# Fit the random search model\\nrf_random.fit(X, y)', store_history=True, silent=False, shell_futures=True)\n   2693                 self.displayhook.exec_result = result\n   2694 \n   2695                 # Execute the user code\n   2696                 interactivity = \"none\" if silent else self.ast_node_interactivity\n   2697                 has_raised = self.run_ast_nodes(code_ast.body, cell_name,\n-> 2698                    interactivity=interactivity, compiler=compiler, result=result)\n        interactivity = 'last_expr'\n        compiler = <IPython.core.compilerop.CachingCompiler object>\n   2699                 \n   2700                 self.last_execution_succeeded = not has_raised\n   2701 \n   2702                 # Reset this so later displayed values do not modify the\n\n...........................................................................\nC:\\Users\\wongk3.NA\\AppData\\Local\\Continuum\\Anaconda2\\envs\\newPy36\\lib\\site-packages\\IPython\\core\\interactiveshell.py in run_ast_nodes(self=<ipykernel.zmqshell.ZMQInteractiveShell object>, nodelist=[<_ast.Assign object>, <_ast.Expr object>], cell_name='<ipython-input-35-430f5c5e7da9>', interactivity='last', compiler=<IPython.core.compilerop.CachingCompiler object>, result=<ExecutionResult object at c87ee80, execution_co..._before_exec=None error_in_exec=None result=None>)\n   2803                     return True\n   2804 \n   2805             for i, node in enumerate(to_run_interactive):\n   2806                 mod = ast.Interactive([node])\n   2807                 code = compiler(mod, cell_name, \"single\")\n-> 2808                 if self.run_code(code, result):\n        self.run_code = <bound method InteractiveShell.run_code of <ipykernel.zmqshell.ZMQInteractiveShell object>>\n        code = <code object <module> at 0x000000000C8D8930, file \"<ipython-input-35-430f5c5e7da9>\", line 8>\n        result = <ExecutionResult object at c87ee80, execution_co..._before_exec=None error_in_exec=None result=None>\n   2809                     return True\n   2810 \n   2811             # Flush softspace\n   2812             if softspace(sys.stdout, 0):\n\n...........................................................................\nC:\\Users\\wongk3.NA\\AppData\\Local\\Continuum\\Anaconda2\\envs\\newPy36\\lib\\site-packages\\IPython\\core\\interactiveshell.py in run_code(self=<ipykernel.zmqshell.ZMQInteractiveShell object>, code_obj=<code object <module> at 0x000000000C8D8930, file \"<ipython-input-35-430f5c5e7da9>\", line 8>, result=<ExecutionResult object at c87ee80, execution_co..._before_exec=None error_in_exec=None result=None>)\n   2857         outflag = True  # happens in more places, so it's easier as default\n   2858         try:\n   2859             try:\n   2860                 self.hooks.pre_run_code_hook()\n   2861                 #rprint('Running code', repr(code_obj)) # dbg\n-> 2862                 exec(code_obj, self.user_global_ns, self.user_ns)\n        code_obj = <code object <module> at 0x000000000C8D8930, file \"<ipython-input-35-430f5c5e7da9>\", line 8>\n        self.user_global_ns = {'BaseEstimator': <class 'sklearn.base.BaseEstimator'>, 'DummyClassifier': <class 'sklearn.dummy.DummyClassifier'>, 'GridSearchCV': <class 'sklearn.model_selection._search.GridSearchCV'>, 'Imputer': <class 'sklearn.preprocessing.imputation.Imputer'>, 'In': ['', '# import packages that will be used for plotting...tliers_influence import variance_inflation_factor', \"df = pd.read_csv('Data/train_imputed.csv')\\nX_test = pd.read_csv('Data/test.csv')\", \"X = df.drop('SalePrice', axis=1)\\ny = df.SalePrice\", \"pca = PCA()\\npca.fit(X)\\nfeatures = range(pca.n_co...plt.ylabel('variance')\\nplt.xlim(0, 10)\\nplt.show()\", \"model=PCA(n_components=1)\\nmodel.fit(X)\\ndf_compon...nsform(X))\\ndf_components.columns = ['component1']\", \"df_PCA = df_components.join(y, how='left')\\n\\nX_tr...df_components, y, test_size=0.3, random_state=10)\", 'reg = LinearRegression()\\nreg.fit(X_train, y_train)', 'reg.score(X_train, y_train)', \"param_grid = {'fit_intercept':[True, False], 'normalize':[True, False]}\", 'reg_cv = GridSearchCV(reg, param_grid, cv=5)\\nreg_cv.fit(X_train, y_train)', 'print(\"Tuned Regression Parameter: {}\".format(re...ression Accuracy: {}\".format(reg_cv.best_score_))', 'reg2 = LinearRegression(fit_intercept=True, normalize=True)\\nreg2.fit(df_components, y)', 'reg2.score(df_components, y)', 'reg = LinearRegression()\\nreg.fit(X, y)', 'def calculate_vif(X, thresh=5.0):\\n        droppe...=1)\\n                dropped=True\\n        return X', 'calculate_vif(X)', 'reg = LinearRegression()\\nreg.fit(X, y)', 'reg.score(X, y)', 'reg_cv = GridSearchCV(reg, param_grid, cv=5)\\nreg...ression Accuracy: {}\".format(reg_cv.best_score_))', ...], 'LinearRegression': <class 'sklearn.linear_model.base.LinearRegression'>, 'Out': {7: LinearRegression(copy_X=True, fit_intercept=True, n_jobs=1, normalize=False), 8: 0.070036434041666484, 10: GridSearchCV(cv=5, error_score='raise',\n       e...ain_score='warn',\n       scoring=None, verbose=0), 12: LinearRegression(copy_X=True, fit_intercept=True, n_jobs=1, normalize=True), 13: 0.070282442428833525, 14: LinearRegression(copy_X=True, fit_intercept=True, n_jobs=1, normalize=False), 16:         Id  LotArea  LandSlope  MasVnrArea  Bsmt...                   0  \n\n[1460 rows x 138 columns], 17: LinearRegression(copy_X=True, fit_intercept=True, n_jobs=1, normalize=False), 18: 0.91903460666993364, 20: 0.99863013698630132, ...}, 'PCA': <class 'sklearn.decomposition.pca.PCA'>, 'RandomForestClassifier': <class 'sklearn.ensemble.forest.RandomForestClassifier'>, 'RandomizedSearchCV': <class 'sklearn.model_selection._search.RandomizedSearchCV'>, ...}\n        self.user_ns = {'BaseEstimator': <class 'sklearn.base.BaseEstimator'>, 'DummyClassifier': <class 'sklearn.dummy.DummyClassifier'>, 'GridSearchCV': <class 'sklearn.model_selection._search.GridSearchCV'>, 'Imputer': <class 'sklearn.preprocessing.imputation.Imputer'>, 'In': ['', '# import packages that will be used for plotting...tliers_influence import variance_inflation_factor', \"df = pd.read_csv('Data/train_imputed.csv')\\nX_test = pd.read_csv('Data/test.csv')\", \"X = df.drop('SalePrice', axis=1)\\ny = df.SalePrice\", \"pca = PCA()\\npca.fit(X)\\nfeatures = range(pca.n_co...plt.ylabel('variance')\\nplt.xlim(0, 10)\\nplt.show()\", \"model=PCA(n_components=1)\\nmodel.fit(X)\\ndf_compon...nsform(X))\\ndf_components.columns = ['component1']\", \"df_PCA = df_components.join(y, how='left')\\n\\nX_tr...df_components, y, test_size=0.3, random_state=10)\", 'reg = LinearRegression()\\nreg.fit(X_train, y_train)', 'reg.score(X_train, y_train)', \"param_grid = {'fit_intercept':[True, False], 'normalize':[True, False]}\", 'reg_cv = GridSearchCV(reg, param_grid, cv=5)\\nreg_cv.fit(X_train, y_train)', 'print(\"Tuned Regression Parameter: {}\".format(re...ression Accuracy: {}\".format(reg_cv.best_score_))', 'reg2 = LinearRegression(fit_intercept=True, normalize=True)\\nreg2.fit(df_components, y)', 'reg2.score(df_components, y)', 'reg = LinearRegression()\\nreg.fit(X, y)', 'def calculate_vif(X, thresh=5.0):\\n        droppe...=1)\\n                dropped=True\\n        return X', 'calculate_vif(X)', 'reg = LinearRegression()\\nreg.fit(X, y)', 'reg.score(X, y)', 'reg_cv = GridSearchCV(reg, param_grid, cv=5)\\nreg...ression Accuracy: {}\".format(reg_cv.best_score_))', ...], 'LinearRegression': <class 'sklearn.linear_model.base.LinearRegression'>, 'Out': {7: LinearRegression(copy_X=True, fit_intercept=True, n_jobs=1, normalize=False), 8: 0.070036434041666484, 10: GridSearchCV(cv=5, error_score='raise',\n       e...ain_score='warn',\n       scoring=None, verbose=0), 12: LinearRegression(copy_X=True, fit_intercept=True, n_jobs=1, normalize=True), 13: 0.070282442428833525, 14: LinearRegression(copy_X=True, fit_intercept=True, n_jobs=1, normalize=False), 16:         Id  LotArea  LandSlope  MasVnrArea  Bsmt...                   0  \n\n[1460 rows x 138 columns], 17: LinearRegression(copy_X=True, fit_intercept=True, n_jobs=1, normalize=False), 18: 0.91903460666993364, 20: 0.99863013698630132, ...}, 'PCA': <class 'sklearn.decomposition.pca.PCA'>, 'RandomForestClassifier': <class 'sklearn.ensemble.forest.RandomForestClassifier'>, 'RandomizedSearchCV': <class 'sklearn.model_selection._search.RandomizedSearchCV'>, ...}\n   2863             finally:\n   2864                 # Reset our crash handler in place\n   2865                 sys.excepthook = old_excepthook\n   2866         except SystemExit as e:\n\n...........................................................................\nC:\\Users\\wongk3.NA\\Desktop\\Springboard\\Capstone_2\\<ipython-input-35-430f5c5e7da9> in <module>()\n      3 # Random search of parameters, using 5 fold cross validation, \n      4 # search across 100 different combinations, and use all available cores\n      5 rf_random = RandomizedSearchCV(estimator = rf, param_distributions = random_grid, n_iter = 100, cv = 5, verbose=2, random_state=10, n_jobs = -1)\n      6 \n      7 # Fit the random search model\n----> 8 rf_random.fit(X, y)\n\n...........................................................................\nC:\\Users\\wongk3.NA\\AppData\\Local\\Continuum\\Anaconda2\\envs\\newPy36\\lib\\site-packages\\sklearn\\model_selection\\_search.py in fit(self=RandomizedSearchCV(cv=5, error_score='raise',\n  ...turn_train_score='warn', scoring=None, verbose=2), X=          Id  LotArea  LandSlope  MasVnrArea  Bs...                 0.0  \n\n[1460 rows x 138 columns], y=0       208500\n1       181500\n2       223500\n3  ...47500\nName: SalePrice, Length: 1460, dtype: int64, groups=None, **fit_params={})\n    634                                   return_train_score=self.return_train_score,\n    635                                   return_n_test_samples=True,\n    636                                   return_times=True, return_parameters=False,\n    637                                   error_score=self.error_score)\n    638           for parameters, (train, test) in product(candidate_params,\n--> 639                                                    cv.split(X, y, groups)))\n        cv.split = <bound method StratifiedKFold.split of Stratifie...ld(n_splits=5, random_state=None, shuffle=False)>\n        X =           Id  LotArea  LandSlope  MasVnrArea  Bs...                 0.0  \n\n[1460 rows x 138 columns]\n        y = 0       208500\n1       181500\n2       223500\n3  ...47500\nName: SalePrice, Length: 1460, dtype: int64\n        groups = None\n    640 \n    641         # if one choose to see train score, \"out\" will contain train score info\n    642         if self.return_train_score:\n    643             (train_score_dicts, test_score_dicts, test_sample_counts, fit_time,\n\n...........................................................................\nC:\\Users\\wongk3.NA\\AppData\\Local\\Continuum\\Anaconda2\\envs\\newPy36\\lib\\site-packages\\sklearn\\externals\\joblib\\parallel.py in __call__(self=Parallel(n_jobs=-1), iterable=<generator object BaseSearchCV.fit.<locals>.<genexpr>>)\n    784             if pre_dispatch == \"all\" or n_jobs == 1:\n    785                 # The iterable was consumed all at once by the above for loop.\n    786                 # No need to wait for async callbacks to trigger to\n    787                 # consumption.\n    788                 self._iterating = False\n--> 789             self.retrieve()\n        self.retrieve = <bound method Parallel.retrieve of Parallel(n_jobs=-1)>\n    790             # Make sure that we get a last message telling us we are done\n    791             elapsed_time = time.time() - self._start_time\n    792             self._print('Done %3i out of %3i | elapsed: %s finished',\n    793                         (len(self._output), len(self._output),\n\n---------------------------------------------------------------------------\nSub-process traceback:\n---------------------------------------------------------------------------\nValueError                                         Mon May 14 17:14:13 2018\nPID: 3280Python 3.6.3: C:\\Users\\wongk3.NA\\AppData\\Local\\Continuum\\Anaconda2\\envs\\newPy36\\python.exe\n...........................................................................\nC:\\Users\\wongk3.NA\\AppData\\Local\\Continuum\\Anaconda2\\envs\\newPy36\\lib\\site-packages\\sklearn\\externals\\joblib\\parallel.py in __call__(self=<sklearn.externals.joblib.parallel.BatchedCalls object>)\n    126     def __init__(self, iterator_slice):\n    127         self.items = list(iterator_slice)\n    128         self._size = len(self.items)\n    129 \n    130     def __call__(self):\n--> 131         return [func(*args, **kwargs) for func, args, kwargs in self.items]\n        self.items = [(<function _fit_and_score>, (RandomForestClassifier(bootstrap=True, class_wei...te=None, verbose=0,\n            warm_start=False),           Id  LotArea  LandSlope  MasVnrArea  Bs...                 0.0  \n\n[1460 rows x 138 columns], 0       208500\n1       181500\n2       223500\n3  ...47500\nName: SalePrice, Length: 1460, dtype: int64, {'score': <function _passthrough_scorer>}, array([  23,   71,  120,  130,  131,  134,  149,...1448, 1450, 1452, 1453, 1454,\n       1455, 1456]), array([   0,    1,    2,    3,    4,    5,    6,...1443,\n       1444, 1449, 1451, 1457, 1458, 1459]), 2, {'bootstrap': True, 'max_depth': 15, 'max_features': 'sqrt', 'min_samples_leaf': 1, 'min_samples_split': 1, 'n_estimators': 120}), {'error_score': 'raise', 'fit_params': {}, 'return_n_test_samples': True, 'return_parameters': False, 'return_times': True, 'return_train_score': 'warn'})]\n    132 \n    133     def __len__(self):\n    134         return self._size\n    135 \n\n...........................................................................\nC:\\Users\\wongk3.NA\\AppData\\Local\\Continuum\\Anaconda2\\envs\\newPy36\\lib\\site-packages\\sklearn\\externals\\joblib\\parallel.py in <listcomp>(.0=<list_iterator object>)\n    126     def __init__(self, iterator_slice):\n    127         self.items = list(iterator_slice)\n    128         self._size = len(self.items)\n    129 \n    130     def __call__(self):\n--> 131         return [func(*args, **kwargs) for func, args, kwargs in self.items]\n        func = <function _fit_and_score>\n        args = (RandomForestClassifier(bootstrap=True, class_wei...te=None, verbose=0,\n            warm_start=False),           Id  LotArea  LandSlope  MasVnrArea  Bs...                 0.0  \n\n[1460 rows x 138 columns], 0       208500\n1       181500\n2       223500\n3  ...47500\nName: SalePrice, Length: 1460, dtype: int64, {'score': <function _passthrough_scorer>}, array([  23,   71,  120,  130,  131,  134,  149,...1448, 1450, 1452, 1453, 1454,\n       1455, 1456]), array([   0,    1,    2,    3,    4,    5,    6,...1443,\n       1444, 1449, 1451, 1457, 1458, 1459]), 2, {'bootstrap': True, 'max_depth': 15, 'max_features': 'sqrt', 'min_samples_leaf': 1, 'min_samples_split': 1, 'n_estimators': 120})\n        kwargs = {'error_score': 'raise', 'fit_params': {}, 'return_n_test_samples': True, 'return_parameters': False, 'return_times': True, 'return_train_score': 'warn'}\n    132 \n    133     def __len__(self):\n    134         return self._size\n    135 \n\n...........................................................................\nC:\\Users\\wongk3.NA\\AppData\\Local\\Continuum\\Anaconda2\\envs\\newPy36\\lib\\site-packages\\sklearn\\model_selection\\_validation.py in _fit_and_score(estimator=RandomForestClassifier(bootstrap=True, class_wei...te=None, verbose=0,\n            warm_start=False), X=          Id  LotArea  LandSlope  MasVnrArea  Bs...                 0.0  \n\n[1460 rows x 138 columns], y=0       208500\n1       181500\n2       223500\n3  ...47500\nName: SalePrice, Length: 1460, dtype: int64, scorer={'score': <function _passthrough_scorer>}, train=array([  23,   71,  120,  130,  131,  134,  149,...1448, 1450, 1452, 1453, 1454,\n       1455, 1456]), test=array([   0,    1,    2,    3,    4,    5,    6,...1443,\n       1444, 1449, 1451, 1457, 1458, 1459]), verbose=2, parameters={'bootstrap': True, 'max_depth': 15, 'max_features': 'sqrt', 'min_samples_leaf': 1, 'min_samples_split': 1, 'n_estimators': 120}, fit_params={}, return_train_score='warn', return_parameters=False, return_n_test_samples=True, return_times=True, error_score='raise')\n    453 \n    454     try:\n    455         if y_train is None:\n    456             estimator.fit(X_train, **fit_params)\n    457         else:\n--> 458             estimator.fit(X_train, y_train, **fit_params)\n        estimator.fit = <bound method BaseForest.fit of RandomForestClas...e=None, verbose=0,\n            warm_start=False)>\n        X_train =           Id   LotArea  LandSlope  MasVnrArea  B...                  0.0  \n\n[728 rows x 138 columns]\n        y_train = 23      129900\n71      129500\n120     180000\n130...210000\nName: SalePrice, Length: 728, dtype: int64\n        fit_params = {}\n    459 \n    460     except Exception as e:\n    461         # Note fit time as time until error\n    462         fit_time = time.time() - start_time\n\n...........................................................................\nC:\\Users\\wongk3.NA\\AppData\\Local\\Continuum\\Anaconda2\\envs\\newPy36\\lib\\site-packages\\sklearn\\ensemble\\forest.py in fit(self=RandomForestClassifier(bootstrap=True, class_wei...te=None, verbose=0,\n            warm_start=False), X=array([[  2.40000000e+01,   4.22400000e+03,   0.....00000000e+00,   0.00000000e+00]], dtype=float32), y=array([[  69.],\n       [  68.],\n       [ 157.],\n...\n       [ 161.],\n       [ 146.],\n       [ 192.]]), sample_weight=None)\n    323             trees = Parallel(n_jobs=self.n_jobs, verbose=self.verbose,\n    324                              backend=\"threading\")(\n    325                 delayed(_parallel_build_trees)(\n    326                     t, self, X, y, sample_weight, i, len(trees),\n    327                     verbose=self.verbose, class_weight=self.class_weight)\n--> 328                 for i, t in enumerate(trees))\n        i = 119\n    329 \n    330             # Collect newly grown trees\n    331             self.estimators_.extend(trees)\n    332 \n\n...........................................................................\nC:\\Users\\wongk3.NA\\AppData\\Local\\Continuum\\Anaconda2\\envs\\newPy36\\lib\\site-packages\\sklearn\\externals\\joblib\\parallel.py in __call__(self=Parallel(n_jobs=1), iterable=<generator object BaseForest.fit.<locals>.<genexpr>>)\n    774         self.n_completed_tasks = 0\n    775         try:\n    776             # Only set self._iterating to True if at least a batch\n    777             # was dispatched. In particular this covers the edge\n    778             # case of Parallel used with an exhausted iterator.\n--> 779             while self.dispatch_one_batch(iterator):\n        self.dispatch_one_batch = <bound method Parallel.dispatch_one_batch of Parallel(n_jobs=1)>\n        iterator = <generator object BaseForest.fit.<locals>.<genexpr>>\n    780                 self._iterating = True\n    781             else:\n    782                 self._iterating = False\n    783 \n\n...........................................................................\nC:\\Users\\wongk3.NA\\AppData\\Local\\Continuum\\Anaconda2\\envs\\newPy36\\lib\\site-packages\\sklearn\\externals\\joblib\\parallel.py in dispatch_one_batch(self=Parallel(n_jobs=1), iterator=<generator object BaseForest.fit.<locals>.<genexpr>>)\n    620             tasks = BatchedCalls(itertools.islice(iterator, batch_size))\n    621             if len(tasks) == 0:\n    622                 # No more tasks available in the iterator: tell caller to stop.\n    623                 return False\n    624             else:\n--> 625                 self._dispatch(tasks)\n        self._dispatch = <bound method Parallel._dispatch of Parallel(n_jobs=1)>\n        tasks = <sklearn.externals.joblib.parallel.BatchedCalls object>\n    626                 return True\n    627 \n    628     def _print(self, msg, msg_args):\n    629         \"\"\"Display the message on stout or stderr depending on verbosity\"\"\"\n\n...........................................................................\nC:\\Users\\wongk3.NA\\AppData\\Local\\Continuum\\Anaconda2\\envs\\newPy36\\lib\\site-packages\\sklearn\\externals\\joblib\\parallel.py in _dispatch(self=Parallel(n_jobs=1), batch=<sklearn.externals.joblib.parallel.BatchedCalls object>)\n    583         self.n_dispatched_tasks += len(batch)\n    584         self.n_dispatched_batches += 1\n    585 \n    586         dispatch_timestamp = time.time()\n    587         cb = BatchCompletionCallBack(dispatch_timestamp, len(batch), self)\n--> 588         job = self._backend.apply_async(batch, callback=cb)\n        job = undefined\n        self._backend.apply_async = <bound method SequentialBackend.apply_async of <...lib._parallel_backends.SequentialBackend object>>\n        batch = <sklearn.externals.joblib.parallel.BatchedCalls object>\n        cb = <sklearn.externals.joblib.parallel.BatchCompletionCallBack object>\n    589         self._jobs.append(job)\n    590 \n    591     def dispatch_next(self):\n    592         \"\"\"Dispatch more data for parallel processing\n\n...........................................................................\nC:\\Users\\wongk3.NA\\AppData\\Local\\Continuum\\Anaconda2\\envs\\newPy36\\lib\\site-packages\\sklearn\\externals\\joblib\\_parallel_backends.py in apply_async(self=<sklearn.externals.joblib._parallel_backends.SequentialBackend object>, func=<sklearn.externals.joblib.parallel.BatchedCalls object>, callback=<sklearn.externals.joblib.parallel.BatchCompletionCallBack object>)\n    106             raise ValueError('n_jobs == 0 in Parallel has no meaning')\n    107         return 1\n    108 \n    109     def apply_async(self, func, callback=None):\n    110         \"\"\"Schedule a func to be run\"\"\"\n--> 111         result = ImmediateResult(func)\n        result = undefined\n        func = <sklearn.externals.joblib.parallel.BatchedCalls object>\n    112         if callback:\n    113             callback(result)\n    114         return result\n    115 \n\n...........................................................................\nC:\\Users\\wongk3.NA\\AppData\\Local\\Continuum\\Anaconda2\\envs\\newPy36\\lib\\site-packages\\sklearn\\externals\\joblib\\_parallel_backends.py in __init__(self=<sklearn.externals.joblib._parallel_backends.ImmediateResult object>, batch=<sklearn.externals.joblib.parallel.BatchedCalls object>)\n    327 \n    328 class ImmediateResult(object):\n    329     def __init__(self, batch):\n    330         # Don't delay the application, to avoid keeping the input\n    331         # arguments in memory\n--> 332         self.results = batch()\n        self.results = undefined\n        batch = <sklearn.externals.joblib.parallel.BatchedCalls object>\n    333 \n    334     def get(self):\n    335         return self.results\n    336 \n\n...........................................................................\nC:\\Users\\wongk3.NA\\AppData\\Local\\Continuum\\Anaconda2\\envs\\newPy36\\lib\\site-packages\\sklearn\\externals\\joblib\\parallel.py in __call__(self=<sklearn.externals.joblib.parallel.BatchedCalls object>)\n    126     def __init__(self, iterator_slice):\n    127         self.items = list(iterator_slice)\n    128         self._size = len(self.items)\n    129 \n    130     def __call__(self):\n--> 131         return [func(*args, **kwargs) for func, args, kwargs in self.items]\n        self.items = [(<function _parallel_build_trees>, (DecisionTreeClassifier(class_weight=None, criter...         random_state=934923381, splitter='best'), RandomForestClassifier(bootstrap=True, class_wei...te=None, verbose=0,\n            warm_start=False), array([[  2.40000000e+01,   4.22400000e+03,   0.....00000000e+00,   0.00000000e+00]], dtype=float32), array([[  69.],\n       [  68.],\n       [ 157.],\n...\n       [ 161.],\n       [ 146.],\n       [ 192.]]), None, 0, 120), {'class_weight': None, 'verbose': 0})]\n    132 \n    133     def __len__(self):\n    134         return self._size\n    135 \n\n...........................................................................\nC:\\Users\\wongk3.NA\\AppData\\Local\\Continuum\\Anaconda2\\envs\\newPy36\\lib\\site-packages\\sklearn\\externals\\joblib\\parallel.py in <listcomp>(.0=<list_iterator object>)\n    126     def __init__(self, iterator_slice):\n    127         self.items = list(iterator_slice)\n    128         self._size = len(self.items)\n    129 \n    130     def __call__(self):\n--> 131         return [func(*args, **kwargs) for func, args, kwargs in self.items]\n        func = <function _parallel_build_trees>\n        args = (DecisionTreeClassifier(class_weight=None, criter...         random_state=934923381, splitter='best'), RandomForestClassifier(bootstrap=True, class_wei...te=None, verbose=0,\n            warm_start=False), array([[  2.40000000e+01,   4.22400000e+03,   0.....00000000e+00,   0.00000000e+00]], dtype=float32), array([[  69.],\n       [  68.],\n       [ 157.],\n...\n       [ 161.],\n       [ 146.],\n       [ 192.]]), None, 0, 120)\n        kwargs = {'class_weight': None, 'verbose': 0}\n    132 \n    133     def __len__(self):\n    134         return self._size\n    135 \n\n...........................................................................\nC:\\Users\\wongk3.NA\\AppData\\Local\\Continuum\\Anaconda2\\envs\\newPy36\\lib\\site-packages\\sklearn\\ensemble\\forest.py in _parallel_build_trees(tree=DecisionTreeClassifier(class_weight=None, criter...         random_state=934923381, splitter='best'), forest=RandomForestClassifier(bootstrap=True, class_wei...te=None, verbose=0,\n            warm_start=False), X=array([[  2.40000000e+01,   4.22400000e+03,   0.....00000000e+00,   0.00000000e+00]], dtype=float32), y=array([[  69.],\n       [  68.],\n       [ 157.],\n...\n       [ 161.],\n       [ 146.],\n       [ 192.]]), sample_weight=None, tree_idx=0, n_trees=120, verbose=0, class_weight=None)\n    116                 warnings.simplefilter('ignore', DeprecationWarning)\n    117                 curr_sample_weight *= compute_sample_weight('auto', y, indices)\n    118         elif class_weight == 'balanced_subsample':\n    119             curr_sample_weight *= compute_sample_weight('balanced', y, indices)\n    120 \n--> 121         tree.fit(X, y, sample_weight=curr_sample_weight, check_input=False)\n        tree.fit = <bound method DecisionTreeClassifier.fit of Deci...        random_state=934923381, splitter='best')>\n        X = array([[  2.40000000e+01,   4.22400000e+03,   0.....00000000e+00,   0.00000000e+00]], dtype=float32)\n        y = array([[  69.],\n       [  68.],\n       [ 157.],\n...\n       [ 161.],\n       [ 146.],\n       [ 192.]])\n        sample_weight = None\n        curr_sample_weight = array([ 0.,  0.,  1.,  0.,  0.,  2.,  1.,  0.,  ...0.,  0.,  2.,  2.,  1.,  0.,  0.,  0.,  1.,  0.])\n    122     else:\n    123         tree.fit(X, y, sample_weight=sample_weight, check_input=False)\n    124 \n    125     return tree\n\n...........................................................................\nC:\\Users\\wongk3.NA\\AppData\\Local\\Continuum\\Anaconda2\\envs\\newPy36\\lib\\site-packages\\sklearn\\tree\\tree.py in fit(self=DecisionTreeClassifier(class_weight=None, criter...         random_state=934923381, splitter='best'), X=array([[  2.40000000e+01,   4.22400000e+03,   0.....00000000e+00,   0.00000000e+00]], dtype=float32), y=array([[  69.],\n       [  68.],\n       [ 157.],\n...\n       [ 161.],\n       [ 146.],\n       [ 192.]]), sample_weight=array([ 0.,  0.,  1.,  0.,  0.,  2.,  1.,  0.,  ...0.,  0.,  2.,  2.,  1.,  0.,  0.,  0.,  1.,  0.]), check_input=False, X_idx_sorted=None)\n    785 \n    786         super(DecisionTreeClassifier, self).fit(\n    787             X, y,\n    788             sample_weight=sample_weight,\n    789             check_input=check_input,\n--> 790             X_idx_sorted=X_idx_sorted)\n        X_idx_sorted = None\n    791         return self\n    792 \n    793     def predict_proba(self, X, check_input=True):\n    794         \"\"\"Predict class probabilities of the input samples X.\n\n...........................................................................\nC:\\Users\\wongk3.NA\\AppData\\Local\\Continuum\\Anaconda2\\envs\\newPy36\\lib\\site-packages\\sklearn\\tree\\tree.py in fit(self=DecisionTreeClassifier(class_weight=None, criter...         random_state=934923381, splitter='best'), X=array([[  2.40000000e+01,   4.22400000e+03,   0.....00000000e+00,   0.00000000e+00]], dtype=float32), y=array([[  69.],\n       [  68.],\n       [ 157.],\n...\n       [ 161.],\n       [ 146.],\n       [ 192.]]), sample_weight=array([ 0.,  0.,  1.,  0.,  0.,  2.,  1.,  0.,  ...0.,  0.,  2.,  2.,  1.,  0.,  0.,  0.,  1.,  0.]), check_input=False, X_idx_sorted=None)\n    189         if isinstance(self.min_samples_split, (numbers.Integral, np.integer)):\n    190             if not 2 <= self.min_samples_split:\n    191                 raise ValueError(\"min_samples_split must be an integer \"\n    192                                  \"greater than 1 or a float in (0.0, 1.0]; \"\n    193                                  \"got the integer %s\"\n--> 194                                  % self.min_samples_split)\n        self.min_samples_split = 1\n    195             min_samples_split = self.min_samples_split\n    196         else:  # float\n    197             if not 0. < self.min_samples_split <= 1.:\n    198                 raise ValueError(\"min_samples_split must be an integer \"\n\nValueError: min_samples_split must be an integer greater than 1 or a float in (0.0, 1.0]; got the integer 1\n___________________________________________________________________________",
     "output_type": "error",
     "traceback": [
      "\u001b[1;31m---------------------------------------------------------------------------\u001b[0m",
      "\u001b[1;31mRemoteTraceback\u001b[0m                           Traceback (most recent call last)",
      "\u001b[1;31mRemoteTraceback\u001b[0m: \n\"\"\"\nTraceback (most recent call last):\n  File \"C:\\Users\\wongk3.NA\\AppData\\Local\\Continuum\\Anaconda2\\envs\\newPy36\\lib\\site-packages\\sklearn\\externals\\joblib\\_parallel_backends.py\", line 350, in __call__\n    return self.func(*args, **kwargs)\n  File \"C:\\Users\\wongk3.NA\\AppData\\Local\\Continuum\\Anaconda2\\envs\\newPy36\\lib\\site-packages\\sklearn\\externals\\joblib\\parallel.py\", line 131, in __call__\n    return [func(*args, **kwargs) for func, args, kwargs in self.items]\n  File \"C:\\Users\\wongk3.NA\\AppData\\Local\\Continuum\\Anaconda2\\envs\\newPy36\\lib\\site-packages\\sklearn\\externals\\joblib\\parallel.py\", line 131, in <listcomp>\n    return [func(*args, **kwargs) for func, args, kwargs in self.items]\n  File \"C:\\Users\\wongk3.NA\\AppData\\Local\\Continuum\\Anaconda2\\envs\\newPy36\\lib\\site-packages\\sklearn\\model_selection\\_validation.py\", line 458, in _fit_and_score\n    estimator.fit(X_train, y_train, **fit_params)\n  File \"C:\\Users\\wongk3.NA\\AppData\\Local\\Continuum\\Anaconda2\\envs\\newPy36\\lib\\site-packages\\sklearn\\ensemble\\forest.py\", line 328, in fit\n    for i, t in enumerate(trees))\n  File \"C:\\Users\\wongk3.NA\\AppData\\Local\\Continuum\\Anaconda2\\envs\\newPy36\\lib\\site-packages\\sklearn\\externals\\joblib\\parallel.py\", line 779, in __call__\n    while self.dispatch_one_batch(iterator):\n  File \"C:\\Users\\wongk3.NA\\AppData\\Local\\Continuum\\Anaconda2\\envs\\newPy36\\lib\\site-packages\\sklearn\\externals\\joblib\\parallel.py\", line 625, in dispatch_one_batch\n    self._dispatch(tasks)\n  File \"C:\\Users\\wongk3.NA\\AppData\\Local\\Continuum\\Anaconda2\\envs\\newPy36\\lib\\site-packages\\sklearn\\externals\\joblib\\parallel.py\", line 588, in _dispatch\n    job = self._backend.apply_async(batch, callback=cb)\n  File \"C:\\Users\\wongk3.NA\\AppData\\Local\\Continuum\\Anaconda2\\envs\\newPy36\\lib\\site-packages\\sklearn\\externals\\joblib\\_parallel_backends.py\", line 111, in apply_async\n    result = ImmediateResult(func)\n  File \"C:\\Users\\wongk3.NA\\AppData\\Local\\Continuum\\Anaconda2\\envs\\newPy36\\lib\\site-packages\\sklearn\\externals\\joblib\\_parallel_backends.py\", line 332, in __init__\n    self.results = batch()\n  File \"C:\\Users\\wongk3.NA\\AppData\\Local\\Continuum\\Anaconda2\\envs\\newPy36\\lib\\site-packages\\sklearn\\externals\\joblib\\parallel.py\", line 131, in __call__\n    return [func(*args, **kwargs) for func, args, kwargs in self.items]\n  File \"C:\\Users\\wongk3.NA\\AppData\\Local\\Continuum\\Anaconda2\\envs\\newPy36\\lib\\site-packages\\sklearn\\externals\\joblib\\parallel.py\", line 131, in <listcomp>\n    return [func(*args, **kwargs) for func, args, kwargs in self.items]\n  File \"C:\\Users\\wongk3.NA\\AppData\\Local\\Continuum\\Anaconda2\\envs\\newPy36\\lib\\site-packages\\sklearn\\ensemble\\forest.py\", line 121, in _parallel_build_trees\n    tree.fit(X, y, sample_weight=curr_sample_weight, check_input=False)\n  File \"C:\\Users\\wongk3.NA\\AppData\\Local\\Continuum\\Anaconda2\\envs\\newPy36\\lib\\site-packages\\sklearn\\tree\\tree.py\", line 790, in fit\n    X_idx_sorted=X_idx_sorted)\n  File \"C:\\Users\\wongk3.NA\\AppData\\Local\\Continuum\\Anaconda2\\envs\\newPy36\\lib\\site-packages\\sklearn\\tree\\tree.py\", line 194, in fit\n    % self.min_samples_split)\nValueError: min_samples_split must be an integer greater than 1 or a float in (0.0, 1.0]; got the integer 1\n\nDuring handling of the above exception, another exception occurred:\n\nTraceback (most recent call last):\n  File \"C:\\Users\\wongk3.NA\\AppData\\Local\\Continuum\\Anaconda2\\envs\\newPy36\\lib\\multiprocessing\\pool.py\", line 119, in worker\n    result = (True, func(*args, **kwds))\n  File \"C:\\Users\\wongk3.NA\\AppData\\Local\\Continuum\\Anaconda2\\envs\\newPy36\\lib\\site-packages\\sklearn\\externals\\joblib\\_parallel_backends.py\", line 359, in __call__\n    raise TransportableException(text, e_type)\nsklearn.externals.joblib.my_exceptions.TransportableException: TransportableException\n___________________________________________________________________________\nValueError                                         Mon May 14 17:14:13 2018\nPID: 3280Python 3.6.3: C:\\Users\\wongk3.NA\\AppData\\Local\\Continuum\\Anaconda2\\envs\\newPy36\\python.exe\n...........................................................................\nC:\\Users\\wongk3.NA\\AppData\\Local\\Continuum\\Anaconda2\\envs\\newPy36\\lib\\site-packages\\sklearn\\externals\\joblib\\parallel.py in __call__(self=<sklearn.externals.joblib.parallel.BatchedCalls object>)\n    126     def __init__(self, iterator_slice):\n    127         self.items = list(iterator_slice)\n    128         self._size = len(self.items)\n    129 \n    130     def __call__(self):\n--> 131         return [func(*args, **kwargs) for func, args, kwargs in self.items]\n        self.items = [(<function _fit_and_score>, (RandomForestClassifier(bootstrap=True, class_wei...te=None, verbose=0,\n            warm_start=False),           Id  LotArea  LandSlope  MasVnrArea  Bs...                 0.0  \n\n[1460 rows x 138 columns], 0       208500\n1       181500\n2       223500\n3  ...47500\nName: SalePrice, Length: 1460, dtype: int64, {'score': <function _passthrough_scorer>}, array([  23,   71,  120,  130,  131,  134,  149,...1448, 1450, 1452, 1453, 1454,\n       1455, 1456]), array([   0,    1,    2,    3,    4,    5,    6,...1443,\n       1444, 1449, 1451, 1457, 1458, 1459]), 2, {'bootstrap': True, 'max_depth': 15, 'max_features': 'sqrt', 'min_samples_leaf': 1, 'min_samples_split': 1, 'n_estimators': 120}), {'error_score': 'raise', 'fit_params': {}, 'return_n_test_samples': True, 'return_parameters': False, 'return_times': True, 'return_train_score': 'warn'})]\n    132 \n    133     def __len__(self):\n    134         return self._size\n    135 \n\n...........................................................................\nC:\\Users\\wongk3.NA\\AppData\\Local\\Continuum\\Anaconda2\\envs\\newPy36\\lib\\site-packages\\sklearn\\externals\\joblib\\parallel.py in <listcomp>(.0=<list_iterator object>)\n    126     def __init__(self, iterator_slice):\n    127         self.items = list(iterator_slice)\n    128         self._size = len(self.items)\n    129 \n    130     def __call__(self):\n--> 131         return [func(*args, **kwargs) for func, args, kwargs in self.items]\n        func = <function _fit_and_score>\n        args = (RandomForestClassifier(bootstrap=True, class_wei...te=None, verbose=0,\n            warm_start=False),           Id  LotArea  LandSlope  MasVnrArea  Bs...                 0.0  \n\n[1460 rows x 138 columns], 0       208500\n1       181500\n2       223500\n3  ...47500\nName: SalePrice, Length: 1460, dtype: int64, {'score': <function _passthrough_scorer>}, array([  23,   71,  120,  130,  131,  134,  149,...1448, 1450, 1452, 1453, 1454,\n       1455, 1456]), array([   0,    1,    2,    3,    4,    5,    6,...1443,\n       1444, 1449, 1451, 1457, 1458, 1459]), 2, {'bootstrap': True, 'max_depth': 15, 'max_features': 'sqrt', 'min_samples_leaf': 1, 'min_samples_split': 1, 'n_estimators': 120})\n        kwargs = {'error_score': 'raise', 'fit_params': {}, 'return_n_test_samples': True, 'return_parameters': False, 'return_times': True, 'return_train_score': 'warn'}\n    132 \n    133     def __len__(self):\n    134         return self._size\n    135 \n\n...........................................................................\nC:\\Users\\wongk3.NA\\AppData\\Local\\Continuum\\Anaconda2\\envs\\newPy36\\lib\\site-packages\\sklearn\\model_selection\\_validation.py in _fit_and_score(estimator=RandomForestClassifier(bootstrap=True, class_wei...te=None, verbose=0,\n            warm_start=False), X=          Id  LotArea  LandSlope  MasVnrArea  Bs...                 0.0  \n\n[1460 rows x 138 columns], y=0       208500\n1       181500\n2       223500\n3  ...47500\nName: SalePrice, Length: 1460, dtype: int64, scorer={'score': <function _passthrough_scorer>}, train=array([  23,   71,  120,  130,  131,  134,  149,...1448, 1450, 1452, 1453, 1454,\n       1455, 1456]), test=array([   0,    1,    2,    3,    4,    5,    6,...1443,\n       1444, 1449, 1451, 1457, 1458, 1459]), verbose=2, parameters={'bootstrap': True, 'max_depth': 15, 'max_features': 'sqrt', 'min_samples_leaf': 1, 'min_samples_split': 1, 'n_estimators': 120}, fit_params={}, return_train_score='warn', return_parameters=False, return_n_test_samples=True, return_times=True, error_score='raise')\n    453 \n    454     try:\n    455         if y_train is None:\n    456             estimator.fit(X_train, **fit_params)\n    457         else:\n--> 458             estimator.fit(X_train, y_train, **fit_params)\n        estimator.fit = <bound method BaseForest.fit of RandomForestClas...e=None, verbose=0,\n            warm_start=False)>\n        X_train =           Id   LotArea  LandSlope  MasVnrArea  B...                  0.0  \n\n[728 rows x 138 columns]\n        y_train = 23      129900\n71      129500\n120     180000\n130...210000\nName: SalePrice, Length: 728, dtype: int64\n        fit_params = {}\n    459 \n    460     except Exception as e:\n    461         # Note fit time as time until error\n    462         fit_time = time.time() - start_time\n\n...........................................................................\nC:\\Users\\wongk3.NA\\AppData\\Local\\Continuum\\Anaconda2\\envs\\newPy36\\lib\\site-packages\\sklearn\\ensemble\\forest.py in fit(self=RandomForestClassifier(bootstrap=True, class_wei...te=None, verbose=0,\n            warm_start=False), X=array([[  2.40000000e+01,   4.22400000e+03,   0.....00000000e+00,   0.00000000e+00]], dtype=float32), y=array([[  69.],\n       [  68.],\n       [ 157.],\n...\n       [ 161.],\n       [ 146.],\n       [ 192.]]), sample_weight=None)\n    323             trees = Parallel(n_jobs=self.n_jobs, verbose=self.verbose,\n    324                              backend=\"threading\")(\n    325                 delayed(_parallel_build_trees)(\n    326                     t, self, X, y, sample_weight, i, len(trees),\n    327                     verbose=self.verbose, class_weight=self.class_weight)\n--> 328                 for i, t in enumerate(trees))\n        i = 119\n    329 \n    330             # Collect newly grown trees\n    331             self.estimators_.extend(trees)\n    332 \n\n...........................................................................\nC:\\Users\\wongk3.NA\\AppData\\Local\\Continuum\\Anaconda2\\envs\\newPy36\\lib\\site-packages\\sklearn\\externals\\joblib\\parallel.py in __call__(self=Parallel(n_jobs=1), iterable=<generator object BaseForest.fit.<locals>.<genexpr>>)\n    774         self.n_completed_tasks = 0\n    775         try:\n    776             # Only set self._iterating to True if at least a batch\n    777             # was dispatched. In particular this covers the edge\n    778             # case of Parallel used with an exhausted iterator.\n--> 779             while self.dispatch_one_batch(iterator):\n        self.dispatch_one_batch = <bound method Parallel.dispatch_one_batch of Parallel(n_jobs=1)>\n        iterator = <generator object BaseForest.fit.<locals>.<genexpr>>\n    780                 self._iterating = True\n    781             else:\n    782                 self._iterating = False\n    783 \n\n...........................................................................\nC:\\Users\\wongk3.NA\\AppData\\Local\\Continuum\\Anaconda2\\envs\\newPy36\\lib\\site-packages\\sklearn\\externals\\joblib\\parallel.py in dispatch_one_batch(self=Parallel(n_jobs=1), iterator=<generator object BaseForest.fit.<locals>.<genexpr>>)\n    620             tasks = BatchedCalls(itertools.islice(iterator, batch_size))\n    621             if len(tasks) == 0:\n    622                 # No more tasks available in the iterator: tell caller to stop.\n    623                 return False\n    624             else:\n--> 625                 self._dispatch(tasks)\n        self._dispatch = <bound method Parallel._dispatch of Parallel(n_jobs=1)>\n        tasks = <sklearn.externals.joblib.parallel.BatchedCalls object>\n    626                 return True\n    627 \n    628     def _print(self, msg, msg_args):\n    629         \"\"\"Display the message on stout or stderr depending on verbosity\"\"\"\n\n...........................................................................\nC:\\Users\\wongk3.NA\\AppData\\Local\\Continuum\\Anaconda2\\envs\\newPy36\\lib\\site-packages\\sklearn\\externals\\joblib\\parallel.py in _dispatch(self=Parallel(n_jobs=1), batch=<sklearn.externals.joblib.parallel.BatchedCalls object>)\n    583         self.n_dispatched_tasks += len(batch)\n    584         self.n_dispatched_batches += 1\n    585 \n    586         dispatch_timestamp = time.time()\n    587         cb = BatchCompletionCallBack(dispatch_timestamp, len(batch), self)\n--> 588         job = self._backend.apply_async(batch, callback=cb)\n        job = undefined\n        self._backend.apply_async = <bound method SequentialBackend.apply_async of <...lib._parallel_backends.SequentialBackend object>>\n        batch = <sklearn.externals.joblib.parallel.BatchedCalls object>\n        cb = <sklearn.externals.joblib.parallel.BatchCompletionCallBack object>\n    589         self._jobs.append(job)\n    590 \n    591     def dispatch_next(self):\n    592         \"\"\"Dispatch more data for parallel processing\n\n...........................................................................\nC:\\Users\\wongk3.NA\\AppData\\Local\\Continuum\\Anaconda2\\envs\\newPy36\\lib\\site-packages\\sklearn\\externals\\joblib\\_parallel_backends.py in apply_async(self=<sklearn.externals.joblib._parallel_backends.SequentialBackend object>, func=<sklearn.externals.joblib.parallel.BatchedCalls object>, callback=<sklearn.externals.joblib.parallel.BatchCompletionCallBack object>)\n    106             raise ValueError('n_jobs == 0 in Parallel has no meaning')\n    107         return 1\n    108 \n    109     def apply_async(self, func, callback=None):\n    110         \"\"\"Schedule a func to be run\"\"\"\n--> 111         result = ImmediateResult(func)\n        result = undefined\n        func = <sklearn.externals.joblib.parallel.BatchedCalls object>\n    112         if callback:\n    113             callback(result)\n    114         return result\n    115 \n\n...........................................................................\nC:\\Users\\wongk3.NA\\AppData\\Local\\Continuum\\Anaconda2\\envs\\newPy36\\lib\\site-packages\\sklearn\\externals\\joblib\\_parallel_backends.py in __init__(self=<sklearn.externals.joblib._parallel_backends.ImmediateResult object>, batch=<sklearn.externals.joblib.parallel.BatchedCalls object>)\n    327 \n    328 class ImmediateResult(object):\n    329     def __init__(self, batch):\n    330         # Don't delay the application, to avoid keeping the input\n    331         # arguments in memory\n--> 332         self.results = batch()\n        self.results = undefined\n        batch = <sklearn.externals.joblib.parallel.BatchedCalls object>\n    333 \n    334     def get(self):\n    335         return self.results\n    336 \n\n...........................................................................\nC:\\Users\\wongk3.NA\\AppData\\Local\\Continuum\\Anaconda2\\envs\\newPy36\\lib\\site-packages\\sklearn\\externals\\joblib\\parallel.py in __call__(self=<sklearn.externals.joblib.parallel.BatchedCalls object>)\n    126     def __init__(self, iterator_slice):\n    127         self.items = list(iterator_slice)\n    128         self._size = len(self.items)\n    129 \n    130     def __call__(self):\n--> 131         return [func(*args, **kwargs) for func, args, kwargs in self.items]\n        self.items = [(<function _parallel_build_trees>, (DecisionTreeClassifier(class_weight=None, criter...         random_state=934923381, splitter='best'), RandomForestClassifier(bootstrap=True, class_wei...te=None, verbose=0,\n            warm_start=False), array([[  2.40000000e+01,   4.22400000e+03,   0.....00000000e+00,   0.00000000e+00]], dtype=float32), array([[  69.],\n       [  68.],\n       [ 157.],\n...\n       [ 161.],\n       [ 146.],\n       [ 192.]]), None, 0, 120), {'class_weight': None, 'verbose': 0})]\n    132 \n    133     def __len__(self):\n    134         return self._size\n    135 \n\n...........................................................................\nC:\\Users\\wongk3.NA\\AppData\\Local\\Continuum\\Anaconda2\\envs\\newPy36\\lib\\site-packages\\sklearn\\externals\\joblib\\parallel.py in <listcomp>(.0=<list_iterator object>)\n    126     def __init__(self, iterator_slice):\n    127         self.items = list(iterator_slice)\n    128         self._size = len(self.items)\n    129 \n    130     def __call__(self):\n--> 131         return [func(*args, **kwargs) for func, args, kwargs in self.items]\n        func = <function _parallel_build_trees>\n        args = (DecisionTreeClassifier(class_weight=None, criter...         random_state=934923381, splitter='best'), RandomForestClassifier(bootstrap=True, class_wei...te=None, verbose=0,\n            warm_start=False), array([[  2.40000000e+01,   4.22400000e+03,   0.....00000000e+00,   0.00000000e+00]], dtype=float32), array([[  69.],\n       [  68.],\n       [ 157.],\n...\n       [ 161.],\n       [ 146.],\n       [ 192.]]), None, 0, 120)\n        kwargs = {'class_weight': None, 'verbose': 0}\n    132 \n    133     def __len__(self):\n    134         return self._size\n    135 \n\n...........................................................................\nC:\\Users\\wongk3.NA\\AppData\\Local\\Continuum\\Anaconda2\\envs\\newPy36\\lib\\site-packages\\sklearn\\ensemble\\forest.py in _parallel_build_trees(tree=DecisionTreeClassifier(class_weight=None, criter...         random_state=934923381, splitter='best'), forest=RandomForestClassifier(bootstrap=True, class_wei...te=None, verbose=0,\n            warm_start=False), X=array([[  2.40000000e+01,   4.22400000e+03,   0.....00000000e+00,   0.00000000e+00]], dtype=float32), y=array([[  69.],\n       [  68.],\n       [ 157.],\n...\n       [ 161.],\n       [ 146.],\n       [ 192.]]), sample_weight=None, tree_idx=0, n_trees=120, verbose=0, class_weight=None)\n    116                 warnings.simplefilter('ignore', DeprecationWarning)\n    117                 curr_sample_weight *= compute_sample_weight('auto', y, indices)\n    118         elif class_weight == 'balanced_subsample':\n    119             curr_sample_weight *= compute_sample_weight('balanced', y, indices)\n    120 \n--> 121         tree.fit(X, y, sample_weight=curr_sample_weight, check_input=False)\n        tree.fit = <bound method DecisionTreeClassifier.fit of Deci...        random_state=934923381, splitter='best')>\n        X = array([[  2.40000000e+01,   4.22400000e+03,   0.....00000000e+00,   0.00000000e+00]], dtype=float32)\n        y = array([[  69.],\n       [  68.],\n       [ 157.],\n...\n       [ 161.],\n       [ 146.],\n       [ 192.]])\n        sample_weight = None\n        curr_sample_weight = array([ 0.,  0.,  1.,  0.,  0.,  2.,  1.,  0.,  ...0.,  0.,  2.,  2.,  1.,  0.,  0.,  0.,  1.,  0.])\n    122     else:\n    123         tree.fit(X, y, sample_weight=sample_weight, check_input=False)\n    124 \n    125     return tree\n\n...........................................................................\nC:\\Users\\wongk3.NA\\AppData\\Local\\Continuum\\Anaconda2\\envs\\newPy36\\lib\\site-packages\\sklearn\\tree\\tree.py in fit(self=DecisionTreeClassifier(class_weight=None, criter...         random_state=934923381, splitter='best'), X=array([[  2.40000000e+01,   4.22400000e+03,   0.....00000000e+00,   0.00000000e+00]], dtype=float32), y=array([[  69.],\n       [  68.],\n       [ 157.],\n...\n       [ 161.],\n       [ 146.],\n       [ 192.]]), sample_weight=array([ 0.,  0.,  1.,  0.,  0.,  2.,  1.,  0.,  ...0.,  0.,  2.,  2.,  1.,  0.,  0.,  0.,  1.,  0.]), check_input=False, X_idx_sorted=None)\n    785 \n    786         super(DecisionTreeClassifier, self).fit(\n    787             X, y,\n    788             sample_weight=sample_weight,\n    789             check_input=check_input,\n--> 790             X_idx_sorted=X_idx_sorted)\n        X_idx_sorted = None\n    791         return self\n    792 \n    793     def predict_proba(self, X, check_input=True):\n    794         \"\"\"Predict class probabilities of the input samples X.\n\n...........................................................................\nC:\\Users\\wongk3.NA\\AppData\\Local\\Continuum\\Anaconda2\\envs\\newPy36\\lib\\site-packages\\sklearn\\tree\\tree.py in fit(self=DecisionTreeClassifier(class_weight=None, criter...         random_state=934923381, splitter='best'), X=array([[  2.40000000e+01,   4.22400000e+03,   0.....00000000e+00,   0.00000000e+00]], dtype=float32), y=array([[  69.],\n       [  68.],\n       [ 157.],\n...\n       [ 161.],\n       [ 146.],\n       [ 192.]]), sample_weight=array([ 0.,  0.,  1.,  0.,  0.,  2.,  1.,  0.,  ...0.,  0.,  2.,  2.,  1.,  0.,  0.,  0.,  1.,  0.]), check_input=False, X_idx_sorted=None)\n    189         if isinstance(self.min_samples_split, (numbers.Integral, np.integer)):\n    190             if not 2 <= self.min_samples_split:\n    191                 raise ValueError(\"min_samples_split must be an integer \"\n    192                                  \"greater than 1 or a float in (0.0, 1.0]; \"\n    193                                  \"got the integer %s\"\n--> 194                                  % self.min_samples_split)\n        self.min_samples_split = 1\n    195             min_samples_split = self.min_samples_split\n    196         else:  # float\n    197             if not 0. < self.min_samples_split <= 1.:\n    198                 raise ValueError(\"min_samples_split must be an integer \"\n\nValueError: min_samples_split must be an integer greater than 1 or a float in (0.0, 1.0]; got the integer 1\n___________________________________________________________________________\n\"\"\"",
      "\nThe above exception was the direct cause of the following exception:\n",
      "\u001b[1;31mTransportableException\u001b[0m                    Traceback (most recent call last)",
      "\u001b[1;32m~\\AppData\\Local\\Continuum\\Anaconda2\\envs\\newPy36\\lib\\site-packages\\sklearn\\externals\\joblib\\parallel.py\u001b[0m in \u001b[0;36mretrieve\u001b[1;34m(self)\u001b[0m\n\u001b[0;32m    698\u001b[0m                 \u001b[1;32mif\u001b[0m \u001b[0mgetattr\u001b[0m\u001b[1;33m(\u001b[0m\u001b[0mself\u001b[0m\u001b[1;33m.\u001b[0m\u001b[0m_backend\u001b[0m\u001b[1;33m,\u001b[0m \u001b[1;34m'supports_timeout'\u001b[0m\u001b[1;33m,\u001b[0m \u001b[1;32mFalse\u001b[0m\u001b[1;33m)\u001b[0m\u001b[1;33m:\u001b[0m\u001b[1;33m\u001b[0m\u001b[0m\n\u001b[1;32m--> 699\u001b[1;33m                     \u001b[0mself\u001b[0m\u001b[1;33m.\u001b[0m\u001b[0m_output\u001b[0m\u001b[1;33m.\u001b[0m\u001b[0mextend\u001b[0m\u001b[1;33m(\u001b[0m\u001b[0mjob\u001b[0m\u001b[1;33m.\u001b[0m\u001b[0mget\u001b[0m\u001b[1;33m(\u001b[0m\u001b[0mtimeout\u001b[0m\u001b[1;33m=\u001b[0m\u001b[0mself\u001b[0m\u001b[1;33m.\u001b[0m\u001b[0mtimeout\u001b[0m\u001b[1;33m)\u001b[0m\u001b[1;33m)\u001b[0m\u001b[1;33m\u001b[0m\u001b[0m\n\u001b[0m\u001b[0;32m    700\u001b[0m                 \u001b[1;32melse\u001b[0m\u001b[1;33m:\u001b[0m\u001b[1;33m\u001b[0m\u001b[0m\n",
      "\u001b[1;32m~\\AppData\\Local\\Continuum\\Anaconda2\\envs\\newPy36\\lib\\multiprocessing\\pool.py\u001b[0m in \u001b[0;36mget\u001b[1;34m(self, timeout)\u001b[0m\n\u001b[0;32m    643\u001b[0m         \u001b[1;32melse\u001b[0m\u001b[1;33m:\u001b[0m\u001b[1;33m\u001b[0m\u001b[0m\n\u001b[1;32m--> 644\u001b[1;33m             \u001b[1;32mraise\u001b[0m \u001b[0mself\u001b[0m\u001b[1;33m.\u001b[0m\u001b[0m_value\u001b[0m\u001b[1;33m\u001b[0m\u001b[0m\n\u001b[0m\u001b[0;32m    645\u001b[0m \u001b[1;33m\u001b[0m\u001b[0m\n",
      "\u001b[1;31mTransportableException\u001b[0m: TransportableException\n___________________________________________________________________________\nValueError                                         Mon May 14 17:14:13 2018\nPID: 3280Python 3.6.3: C:\\Users\\wongk3.NA\\AppData\\Local\\Continuum\\Anaconda2\\envs\\newPy36\\python.exe\n...........................................................................\nC:\\Users\\wongk3.NA\\AppData\\Local\\Continuum\\Anaconda2\\envs\\newPy36\\lib\\site-packages\\sklearn\\externals\\joblib\\parallel.py in __call__(self=<sklearn.externals.joblib.parallel.BatchedCalls object>)\n    126     def __init__(self, iterator_slice):\n    127         self.items = list(iterator_slice)\n    128         self._size = len(self.items)\n    129 \n    130     def __call__(self):\n--> 131         return [func(*args, **kwargs) for func, args, kwargs in self.items]\n        self.items = [(<function _fit_and_score>, (RandomForestClassifier(bootstrap=True, class_wei...te=None, verbose=0,\n            warm_start=False),           Id  LotArea  LandSlope  MasVnrArea  Bs...                 0.0  \n\n[1460 rows x 138 columns], 0       208500\n1       181500\n2       223500\n3  ...47500\nName: SalePrice, Length: 1460, dtype: int64, {'score': <function _passthrough_scorer>}, array([  23,   71,  120,  130,  131,  134,  149,...1448, 1450, 1452, 1453, 1454,\n       1455, 1456]), array([   0,    1,    2,    3,    4,    5,    6,...1443,\n       1444, 1449, 1451, 1457, 1458, 1459]), 2, {'bootstrap': True, 'max_depth': 15, 'max_features': 'sqrt', 'min_samples_leaf': 1, 'min_samples_split': 1, 'n_estimators': 120}), {'error_score': 'raise', 'fit_params': {}, 'return_n_test_samples': True, 'return_parameters': False, 'return_times': True, 'return_train_score': 'warn'})]\n    132 \n    133     def __len__(self):\n    134         return self._size\n    135 \n\n...........................................................................\nC:\\Users\\wongk3.NA\\AppData\\Local\\Continuum\\Anaconda2\\envs\\newPy36\\lib\\site-packages\\sklearn\\externals\\joblib\\parallel.py in <listcomp>(.0=<list_iterator object>)\n    126     def __init__(self, iterator_slice):\n    127         self.items = list(iterator_slice)\n    128         self._size = len(self.items)\n    129 \n    130     def __call__(self):\n--> 131         return [func(*args, **kwargs) for func, args, kwargs in self.items]\n        func = <function _fit_and_score>\n        args = (RandomForestClassifier(bootstrap=True, class_wei...te=None, verbose=0,\n            warm_start=False),           Id  LotArea  LandSlope  MasVnrArea  Bs...                 0.0  \n\n[1460 rows x 138 columns], 0       208500\n1       181500\n2       223500\n3  ...47500\nName: SalePrice, Length: 1460, dtype: int64, {'score': <function _passthrough_scorer>}, array([  23,   71,  120,  130,  131,  134,  149,...1448, 1450, 1452, 1453, 1454,\n       1455, 1456]), array([   0,    1,    2,    3,    4,    5,    6,...1443,\n       1444, 1449, 1451, 1457, 1458, 1459]), 2, {'bootstrap': True, 'max_depth': 15, 'max_features': 'sqrt', 'min_samples_leaf': 1, 'min_samples_split': 1, 'n_estimators': 120})\n        kwargs = {'error_score': 'raise', 'fit_params': {}, 'return_n_test_samples': True, 'return_parameters': False, 'return_times': True, 'return_train_score': 'warn'}\n    132 \n    133     def __len__(self):\n    134         return self._size\n    135 \n\n...........................................................................\nC:\\Users\\wongk3.NA\\AppData\\Local\\Continuum\\Anaconda2\\envs\\newPy36\\lib\\site-packages\\sklearn\\model_selection\\_validation.py in _fit_and_score(estimator=RandomForestClassifier(bootstrap=True, class_wei...te=None, verbose=0,\n            warm_start=False), X=          Id  LotArea  LandSlope  MasVnrArea  Bs...                 0.0  \n\n[1460 rows x 138 columns], y=0       208500\n1       181500\n2       223500\n3  ...47500\nName: SalePrice, Length: 1460, dtype: int64, scorer={'score': <function _passthrough_scorer>}, train=array([  23,   71,  120,  130,  131,  134,  149,...1448, 1450, 1452, 1453, 1454,\n       1455, 1456]), test=array([   0,    1,    2,    3,    4,    5,    6,...1443,\n       1444, 1449, 1451, 1457, 1458, 1459]), verbose=2, parameters={'bootstrap': True, 'max_depth': 15, 'max_features': 'sqrt', 'min_samples_leaf': 1, 'min_samples_split': 1, 'n_estimators': 120}, fit_params={}, return_train_score='warn', return_parameters=False, return_n_test_samples=True, return_times=True, error_score='raise')\n    453 \n    454     try:\n    455         if y_train is None:\n    456             estimator.fit(X_train, **fit_params)\n    457         else:\n--> 458             estimator.fit(X_train, y_train, **fit_params)\n        estimator.fit = <bound method BaseForest.fit of RandomForestClas...e=None, verbose=0,\n            warm_start=False)>\n        X_train =           Id   LotArea  LandSlope  MasVnrArea  B...                  0.0  \n\n[728 rows x 138 columns]\n        y_train = 23      129900\n71      129500\n120     180000\n130...210000\nName: SalePrice, Length: 728, dtype: int64\n        fit_params = {}\n    459 \n    460     except Exception as e:\n    461         # Note fit time as time until error\n    462         fit_time = time.time() - start_time\n\n...........................................................................\nC:\\Users\\wongk3.NA\\AppData\\Local\\Continuum\\Anaconda2\\envs\\newPy36\\lib\\site-packages\\sklearn\\ensemble\\forest.py in fit(self=RandomForestClassifier(bootstrap=True, class_wei...te=None, verbose=0,\n            warm_start=False), X=array([[  2.40000000e+01,   4.22400000e+03,   0.....00000000e+00,   0.00000000e+00]], dtype=float32), y=array([[  69.],\n       [  68.],\n       [ 157.],\n...\n       [ 161.],\n       [ 146.],\n       [ 192.]]), sample_weight=None)\n    323             trees = Parallel(n_jobs=self.n_jobs, verbose=self.verbose,\n    324                              backend=\"threading\")(\n    325                 delayed(_parallel_build_trees)(\n    326                     t, self, X, y, sample_weight, i, len(trees),\n    327                     verbose=self.verbose, class_weight=self.class_weight)\n--> 328                 for i, t in enumerate(trees))\n        i = 119\n    329 \n    330             # Collect newly grown trees\n    331             self.estimators_.extend(trees)\n    332 \n\n...........................................................................\nC:\\Users\\wongk3.NA\\AppData\\Local\\Continuum\\Anaconda2\\envs\\newPy36\\lib\\site-packages\\sklearn\\externals\\joblib\\parallel.py in __call__(self=Parallel(n_jobs=1), iterable=<generator object BaseForest.fit.<locals>.<genexpr>>)\n    774         self.n_completed_tasks = 0\n    775         try:\n    776             # Only set self._iterating to True if at least a batch\n    777             # was dispatched. In particular this covers the edge\n    778             # case of Parallel used with an exhausted iterator.\n--> 779             while self.dispatch_one_batch(iterator):\n        self.dispatch_one_batch = <bound method Parallel.dispatch_one_batch of Parallel(n_jobs=1)>\n        iterator = <generator object BaseForest.fit.<locals>.<genexpr>>\n    780                 self._iterating = True\n    781             else:\n    782                 self._iterating = False\n    783 \n\n...........................................................................\nC:\\Users\\wongk3.NA\\AppData\\Local\\Continuum\\Anaconda2\\envs\\newPy36\\lib\\site-packages\\sklearn\\externals\\joblib\\parallel.py in dispatch_one_batch(self=Parallel(n_jobs=1), iterator=<generator object BaseForest.fit.<locals>.<genexpr>>)\n    620             tasks = BatchedCalls(itertools.islice(iterator, batch_size))\n    621             if len(tasks) == 0:\n    622                 # No more tasks available in the iterator: tell caller to stop.\n    623                 return False\n    624             else:\n--> 625                 self._dispatch(tasks)\n        self._dispatch = <bound method Parallel._dispatch of Parallel(n_jobs=1)>\n        tasks = <sklearn.externals.joblib.parallel.BatchedCalls object>\n    626                 return True\n    627 \n    628     def _print(self, msg, msg_args):\n    629         \"\"\"Display the message on stout or stderr depending on verbosity\"\"\"\n\n...........................................................................\nC:\\Users\\wongk3.NA\\AppData\\Local\\Continuum\\Anaconda2\\envs\\newPy36\\lib\\site-packages\\sklearn\\externals\\joblib\\parallel.py in _dispatch(self=Parallel(n_jobs=1), batch=<sklearn.externals.joblib.parallel.BatchedCalls object>)\n    583         self.n_dispatched_tasks += len(batch)\n    584         self.n_dispatched_batches += 1\n    585 \n    586         dispatch_timestamp = time.time()\n    587         cb = BatchCompletionCallBack(dispatch_timestamp, len(batch), self)\n--> 588         job = self._backend.apply_async(batch, callback=cb)\n        job = undefined\n        self._backend.apply_async = <bound method SequentialBackend.apply_async of <...lib._parallel_backends.SequentialBackend object>>\n        batch = <sklearn.externals.joblib.parallel.BatchedCalls object>\n        cb = <sklearn.externals.joblib.parallel.BatchCompletionCallBack object>\n    589         self._jobs.append(job)\n    590 \n    591     def dispatch_next(self):\n    592         \"\"\"Dispatch more data for parallel processing\n\n...........................................................................\nC:\\Users\\wongk3.NA\\AppData\\Local\\Continuum\\Anaconda2\\envs\\newPy36\\lib\\site-packages\\sklearn\\externals\\joblib\\_parallel_backends.py in apply_async(self=<sklearn.externals.joblib._parallel_backends.SequentialBackend object>, func=<sklearn.externals.joblib.parallel.BatchedCalls object>, callback=<sklearn.externals.joblib.parallel.BatchCompletionCallBack object>)\n    106             raise ValueError('n_jobs == 0 in Parallel has no meaning')\n    107         return 1\n    108 \n    109     def apply_async(self, func, callback=None):\n    110         \"\"\"Schedule a func to be run\"\"\"\n--> 111         result = ImmediateResult(func)\n        result = undefined\n        func = <sklearn.externals.joblib.parallel.BatchedCalls object>\n    112         if callback:\n    113             callback(result)\n    114         return result\n    115 \n\n...........................................................................\nC:\\Users\\wongk3.NA\\AppData\\Local\\Continuum\\Anaconda2\\envs\\newPy36\\lib\\site-packages\\sklearn\\externals\\joblib\\_parallel_backends.py in __init__(self=<sklearn.externals.joblib._parallel_backends.ImmediateResult object>, batch=<sklearn.externals.joblib.parallel.BatchedCalls object>)\n    327 \n    328 class ImmediateResult(object):\n    329     def __init__(self, batch):\n    330         # Don't delay the application, to avoid keeping the input\n    331         # arguments in memory\n--> 332         self.results = batch()\n        self.results = undefined\n        batch = <sklearn.externals.joblib.parallel.BatchedCalls object>\n    333 \n    334     def get(self):\n    335         return self.results\n    336 \n\n...........................................................................\nC:\\Users\\wongk3.NA\\AppData\\Local\\Continuum\\Anaconda2\\envs\\newPy36\\lib\\site-packages\\sklearn\\externals\\joblib\\parallel.py in __call__(self=<sklearn.externals.joblib.parallel.BatchedCalls object>)\n    126     def __init__(self, iterator_slice):\n    127         self.items = list(iterator_slice)\n    128         self._size = len(self.items)\n    129 \n    130     def __call__(self):\n--> 131         return [func(*args, **kwargs) for func, args, kwargs in self.items]\n        self.items = [(<function _parallel_build_trees>, (DecisionTreeClassifier(class_weight=None, criter...         random_state=934923381, splitter='best'), RandomForestClassifier(bootstrap=True, class_wei...te=None, verbose=0,\n            warm_start=False), array([[  2.40000000e+01,   4.22400000e+03,   0.....00000000e+00,   0.00000000e+00]], dtype=float32), array([[  69.],\n       [  68.],\n       [ 157.],\n...\n       [ 161.],\n       [ 146.],\n       [ 192.]]), None, 0, 120), {'class_weight': None, 'verbose': 0})]\n    132 \n    133     def __len__(self):\n    134         return self._size\n    135 \n\n...........................................................................\nC:\\Users\\wongk3.NA\\AppData\\Local\\Continuum\\Anaconda2\\envs\\newPy36\\lib\\site-packages\\sklearn\\externals\\joblib\\parallel.py in <listcomp>(.0=<list_iterator object>)\n    126     def __init__(self, iterator_slice):\n    127         self.items = list(iterator_slice)\n    128         self._size = len(self.items)\n    129 \n    130     def __call__(self):\n--> 131         return [func(*args, **kwargs) for func, args, kwargs in self.items]\n        func = <function _parallel_build_trees>\n        args = (DecisionTreeClassifier(class_weight=None, criter...         random_state=934923381, splitter='best'), RandomForestClassifier(bootstrap=True, class_wei...te=None, verbose=0,\n            warm_start=False), array([[  2.40000000e+01,   4.22400000e+03,   0.....00000000e+00,   0.00000000e+00]], dtype=float32), array([[  69.],\n       [  68.],\n       [ 157.],\n...\n       [ 161.],\n       [ 146.],\n       [ 192.]]), None, 0, 120)\n        kwargs = {'class_weight': None, 'verbose': 0}\n    132 \n    133     def __len__(self):\n    134         return self._size\n    135 \n\n...........................................................................\nC:\\Users\\wongk3.NA\\AppData\\Local\\Continuum\\Anaconda2\\envs\\newPy36\\lib\\site-packages\\sklearn\\ensemble\\forest.py in _parallel_build_trees(tree=DecisionTreeClassifier(class_weight=None, criter...         random_state=934923381, splitter='best'), forest=RandomForestClassifier(bootstrap=True, class_wei...te=None, verbose=0,\n            warm_start=False), X=array([[  2.40000000e+01,   4.22400000e+03,   0.....00000000e+00,   0.00000000e+00]], dtype=float32), y=array([[  69.],\n       [  68.],\n       [ 157.],\n...\n       [ 161.],\n       [ 146.],\n       [ 192.]]), sample_weight=None, tree_idx=0, n_trees=120, verbose=0, class_weight=None)\n    116                 warnings.simplefilter('ignore', DeprecationWarning)\n    117                 curr_sample_weight *= compute_sample_weight('auto', y, indices)\n    118         elif class_weight == 'balanced_subsample':\n    119             curr_sample_weight *= compute_sample_weight('balanced', y, indices)\n    120 \n--> 121         tree.fit(X, y, sample_weight=curr_sample_weight, check_input=False)\n        tree.fit = <bound method DecisionTreeClassifier.fit of Deci...        random_state=934923381, splitter='best')>\n        X = array([[  2.40000000e+01,   4.22400000e+03,   0.....00000000e+00,   0.00000000e+00]], dtype=float32)\n        y = array([[  69.],\n       [  68.],\n       [ 157.],\n...\n       [ 161.],\n       [ 146.],\n       [ 192.]])\n        sample_weight = None\n        curr_sample_weight = array([ 0.,  0.,  1.,  0.,  0.,  2.,  1.,  0.,  ...0.,  0.,  2.,  2.,  1.,  0.,  0.,  0.,  1.,  0.])\n    122     else:\n    123         tree.fit(X, y, sample_weight=sample_weight, check_input=False)\n    124 \n    125     return tree\n\n...........................................................................\nC:\\Users\\wongk3.NA\\AppData\\Local\\Continuum\\Anaconda2\\envs\\newPy36\\lib\\site-packages\\sklearn\\tree\\tree.py in fit(self=DecisionTreeClassifier(class_weight=None, criter...         random_state=934923381, splitter='best'), X=array([[  2.40000000e+01,   4.22400000e+03,   0.....00000000e+00,   0.00000000e+00]], dtype=float32), y=array([[  69.],\n       [  68.],\n       [ 157.],\n...\n       [ 161.],\n       [ 146.],\n       [ 192.]]), sample_weight=array([ 0.,  0.,  1.,  0.,  0.,  2.,  1.,  0.,  ...0.,  0.,  2.,  2.,  1.,  0.,  0.,  0.,  1.,  0.]), check_input=False, X_idx_sorted=None)\n    785 \n    786         super(DecisionTreeClassifier, self).fit(\n    787             X, y,\n    788             sample_weight=sample_weight,\n    789             check_input=check_input,\n--> 790             X_idx_sorted=X_idx_sorted)\n        X_idx_sorted = None\n    791         return self\n    792 \n    793     def predict_proba(self, X, check_input=True):\n    794         \"\"\"Predict class probabilities of the input samples X.\n\n...........................................................................\nC:\\Users\\wongk3.NA\\AppData\\Local\\Continuum\\Anaconda2\\envs\\newPy36\\lib\\site-packages\\sklearn\\tree\\tree.py in fit(self=DecisionTreeClassifier(class_weight=None, criter...         random_state=934923381, splitter='best'), X=array([[  2.40000000e+01,   4.22400000e+03,   0.....00000000e+00,   0.00000000e+00]], dtype=float32), y=array([[  69.],\n       [  68.],\n       [ 157.],\n...\n       [ 161.],\n       [ 146.],\n       [ 192.]]), sample_weight=array([ 0.,  0.,  1.,  0.,  0.,  2.,  1.,  0.,  ...0.,  0.,  2.,  2.,  1.,  0.,  0.,  0.,  1.,  0.]), check_input=False, X_idx_sorted=None)\n    189         if isinstance(self.min_samples_split, (numbers.Integral, np.integer)):\n    190             if not 2 <= self.min_samples_split:\n    191                 raise ValueError(\"min_samples_split must be an integer \"\n    192                                  \"greater than 1 or a float in (0.0, 1.0]; \"\n    193                                  \"got the integer %s\"\n--> 194                                  % self.min_samples_split)\n        self.min_samples_split = 1\n    195             min_samples_split = self.min_samples_split\n    196         else:  # float\n    197             if not 0. < self.min_samples_split <= 1.:\n    198                 raise ValueError(\"min_samples_split must be an integer \"\n\nValueError: min_samples_split must be an integer greater than 1 or a float in (0.0, 1.0]; got the integer 1\n___________________________________________________________________________",
      "\nDuring handling of the above exception, another exception occurred:\n",
      "\u001b[1;31mJoblibValueError\u001b[0m                          Traceback (most recent call last)",
      "\u001b[1;32m<ipython-input-35-430f5c5e7da9>\u001b[0m in \u001b[0;36m<module>\u001b[1;34m()\u001b[0m\n\u001b[0;32m      6\u001b[0m \u001b[1;33m\u001b[0m\u001b[0m\n\u001b[0;32m      7\u001b[0m \u001b[1;31m# Fit the random search model\u001b[0m\u001b[1;33m\u001b[0m\u001b[1;33m\u001b[0m\u001b[0m\n\u001b[1;32m----> 8\u001b[1;33m \u001b[0mrf_random\u001b[0m\u001b[1;33m.\u001b[0m\u001b[0mfit\u001b[0m\u001b[1;33m(\u001b[0m\u001b[0mX\u001b[0m\u001b[1;33m,\u001b[0m \u001b[0my\u001b[0m\u001b[1;33m)\u001b[0m\u001b[1;33m\u001b[0m\u001b[0m\n\u001b[0m",
      "\u001b[1;32m~\\AppData\\Local\\Continuum\\Anaconda2\\envs\\newPy36\\lib\\site-packages\\sklearn\\model_selection\\_search.py\u001b[0m in \u001b[0;36mfit\u001b[1;34m(self, X, y, groups, **fit_params)\u001b[0m\n\u001b[0;32m    637\u001b[0m                                   error_score=self.error_score)\n\u001b[0;32m    638\u001b[0m           for parameters, (train, test) in product(candidate_params,\n\u001b[1;32m--> 639\u001b[1;33m                                                    cv.split(X, y, groups)))\n\u001b[0m\u001b[0;32m    640\u001b[0m \u001b[1;33m\u001b[0m\u001b[0m\n\u001b[0;32m    641\u001b[0m         \u001b[1;31m# if one choose to see train score, \"out\" will contain train score info\u001b[0m\u001b[1;33m\u001b[0m\u001b[1;33m\u001b[0m\u001b[0m\n",
      "\u001b[1;32m~\\AppData\\Local\\Continuum\\Anaconda2\\envs\\newPy36\\lib\\site-packages\\sklearn\\externals\\joblib\\parallel.py\u001b[0m in \u001b[0;36m__call__\u001b[1;34m(self, iterable)\u001b[0m\n\u001b[0;32m    787\u001b[0m                 \u001b[1;31m# consumption.\u001b[0m\u001b[1;33m\u001b[0m\u001b[1;33m\u001b[0m\u001b[0m\n\u001b[0;32m    788\u001b[0m                 \u001b[0mself\u001b[0m\u001b[1;33m.\u001b[0m\u001b[0m_iterating\u001b[0m \u001b[1;33m=\u001b[0m \u001b[1;32mFalse\u001b[0m\u001b[1;33m\u001b[0m\u001b[0m\n\u001b[1;32m--> 789\u001b[1;33m             \u001b[0mself\u001b[0m\u001b[1;33m.\u001b[0m\u001b[0mretrieve\u001b[0m\u001b[1;33m(\u001b[0m\u001b[1;33m)\u001b[0m\u001b[1;33m\u001b[0m\u001b[0m\n\u001b[0m\u001b[0;32m    790\u001b[0m             \u001b[1;31m# Make sure that we get a last message telling us we are done\u001b[0m\u001b[1;33m\u001b[0m\u001b[1;33m\u001b[0m\u001b[0m\n\u001b[0;32m    791\u001b[0m             \u001b[0melapsed_time\u001b[0m \u001b[1;33m=\u001b[0m \u001b[0mtime\u001b[0m\u001b[1;33m.\u001b[0m\u001b[0mtime\u001b[0m\u001b[1;33m(\u001b[0m\u001b[1;33m)\u001b[0m \u001b[1;33m-\u001b[0m \u001b[0mself\u001b[0m\u001b[1;33m.\u001b[0m\u001b[0m_start_time\u001b[0m\u001b[1;33m\u001b[0m\u001b[0m\n",
      "\u001b[1;32m~\\AppData\\Local\\Continuum\\Anaconda2\\envs\\newPy36\\lib\\site-packages\\sklearn\\externals\\joblib\\parallel.py\u001b[0m in \u001b[0;36mretrieve\u001b[1;34m(self)\u001b[0m\n\u001b[0;32m    738\u001b[0m                     \u001b[0mexception\u001b[0m \u001b[1;33m=\u001b[0m \u001b[0mexception_type\u001b[0m\u001b[1;33m(\u001b[0m\u001b[0mreport\u001b[0m\u001b[1;33m)\u001b[0m\u001b[1;33m\u001b[0m\u001b[0m\n\u001b[0;32m    739\u001b[0m \u001b[1;33m\u001b[0m\u001b[0m\n\u001b[1;32m--> 740\u001b[1;33m                     \u001b[1;32mraise\u001b[0m \u001b[0mexception\u001b[0m\u001b[1;33m\u001b[0m\u001b[0m\n\u001b[0m\u001b[0;32m    741\u001b[0m \u001b[1;33m\u001b[0m\u001b[0m\n\u001b[0;32m    742\u001b[0m     \u001b[1;32mdef\u001b[0m \u001b[0m__call__\u001b[0m\u001b[1;33m(\u001b[0m\u001b[0mself\u001b[0m\u001b[1;33m,\u001b[0m \u001b[0miterable\u001b[0m\u001b[1;33m)\u001b[0m\u001b[1;33m:\u001b[0m\u001b[1;33m\u001b[0m\u001b[0m\n",
      "\u001b[1;31mJoblibValueError\u001b[0m: JoblibValueError\n___________________________________________________________________________\nMultiprocessing exception:\n...........................................................................\nC:\\Users\\wongk3.NA\\AppData\\Local\\Continuum\\Anaconda2\\envs\\newPy36\\lib\\runpy.py in _run_module_as_main(mod_name='ipykernel_launcher', alter_argv=1)\n    188         sys.exit(msg)\n    189     main_globals = sys.modules[\"__main__\"].__dict__\n    190     if alter_argv:\n    191         sys.argv[0] = mod_spec.origin\n    192     return _run_code(code, main_globals, None,\n--> 193                      \"__main__\", mod_spec)\n        mod_spec = ModuleSpec(name='ipykernel_launcher', loader=<_f...Py36\\\\lib\\\\site-packages\\\\ipykernel_launcher.py')\n    194 \n    195 def run_module(mod_name, init_globals=None,\n    196                run_name=None, alter_sys=False):\n    197     \"\"\"Execute a module's code without importing it\n\n...........................................................................\nC:\\Users\\wongk3.NA\\AppData\\Local\\Continuum\\Anaconda2\\envs\\newPy36\\lib\\runpy.py in _run_code(code=<code object <module> at 0x0000000002057810, fil...lib\\site-packages\\ipykernel_launcher.py\", line 5>, run_globals={'__annotations__': {}, '__builtins__': <module 'builtins' (built-in)>, '__cached__': r'C:\\Users\\wongk3.NA\\AppData\\Local\\Continuum\\Anaco...ges\\__pycache__\\ipykernel_launcher.cpython-36.pyc', '__doc__': 'Entry point for launching an IPython kernel.\\n\\nTh...orts until\\nafter removing the cwd from sys.path.\\n', '__file__': r'C:\\Users\\wongk3.NA\\AppData\\Local\\Continuum\\Anaco...s\\newPy36\\lib\\site-packages\\ipykernel_launcher.py', '__loader__': <_frozen_importlib_external.SourceFileLoader object>, '__name__': '__main__', '__package__': '', '__spec__': ModuleSpec(name='ipykernel_launcher', loader=<_f...Py36\\\\lib\\\\site-packages\\\\ipykernel_launcher.py'), 'app': <module 'ipykernel.kernelapp' from 'C:\\\\Users\\\\w...36\\\\lib\\\\site-packages\\\\ipykernel\\\\kernelapp.py'>, ...}, init_globals=None, mod_name='__main__', mod_spec=ModuleSpec(name='ipykernel_launcher', loader=<_f...Py36\\\\lib\\\\site-packages\\\\ipykernel_launcher.py'), pkg_name='', script_name=None)\n     80                        __cached__ = cached,\n     81                        __doc__ = None,\n     82                        __loader__ = loader,\n     83                        __package__ = pkg_name,\n     84                        __spec__ = mod_spec)\n---> 85     exec(code, run_globals)\n        code = <code object <module> at 0x0000000002057810, fil...lib\\site-packages\\ipykernel_launcher.py\", line 5>\n        run_globals = {'__annotations__': {}, '__builtins__': <module 'builtins' (built-in)>, '__cached__': r'C:\\Users\\wongk3.NA\\AppData\\Local\\Continuum\\Anaco...ges\\__pycache__\\ipykernel_launcher.cpython-36.pyc', '__doc__': 'Entry point for launching an IPython kernel.\\n\\nTh...orts until\\nafter removing the cwd from sys.path.\\n', '__file__': r'C:\\Users\\wongk3.NA\\AppData\\Local\\Continuum\\Anaco...s\\newPy36\\lib\\site-packages\\ipykernel_launcher.py', '__loader__': <_frozen_importlib_external.SourceFileLoader object>, '__name__': '__main__', '__package__': '', '__spec__': ModuleSpec(name='ipykernel_launcher', loader=<_f...Py36\\\\lib\\\\site-packages\\\\ipykernel_launcher.py'), 'app': <module 'ipykernel.kernelapp' from 'C:\\\\Users\\\\w...36\\\\lib\\\\site-packages\\\\ipykernel\\\\kernelapp.py'>, ...}\n     86     return run_globals\n     87 \n     88 def _run_module_code(code, init_globals=None,\n     89                     mod_name=None, mod_spec=None,\n\n...........................................................................\nC:\\Users\\wongk3.NA\\AppData\\Local\\Continuum\\Anaconda2\\envs\\newPy36\\lib\\site-packages\\ipykernel_launcher.py in <module>()\n     11     # This is added back by InteractiveShellApp.init_path()\n     12     if sys.path[0] == '':\n     13         del sys.path[0]\n     14 \n     15     from ipykernel import kernelapp as app\n---> 16     app.launch_new_instance()\n\n...........................................................................\nC:\\Users\\wongk3.NA\\AppData\\Local\\Continuum\\Anaconda2\\envs\\newPy36\\lib\\site-packages\\traitlets\\config\\application.py in launch_instance(cls=<class 'ipykernel.kernelapp.IPKernelApp'>, argv=None, **kwargs={})\n    653 \n    654         If a global instance already exists, this reinitializes and starts it\n    655         \"\"\"\n    656         app = cls.instance(**kwargs)\n    657         app.initialize(argv)\n--> 658         app.start()\n        app.start = <bound method IPKernelApp.start of <ipykernel.kernelapp.IPKernelApp object>>\n    659 \n    660 #-----------------------------------------------------------------------------\n    661 # utility functions, for convenience\n    662 #-----------------------------------------------------------------------------\n\n...........................................................................\nC:\\Users\\wongk3.NA\\AppData\\Local\\Continuum\\Anaconda2\\envs\\newPy36\\lib\\site-packages\\ipykernel\\kernelapp.py in start(self=<ipykernel.kernelapp.IPKernelApp object>)\n    472             return self.subapp.start()\n    473         if self.poller is not None:\n    474             self.poller.start()\n    475         self.kernel.start()\n    476         try:\n--> 477             ioloop.IOLoop.instance().start()\n    478         except KeyboardInterrupt:\n    479             pass\n    480 \n    481 launch_new_instance = IPKernelApp.launch_instance\n\n...........................................................................\nC:\\Users\\wongk3.NA\\AppData\\Local\\Continuum\\Anaconda2\\envs\\newPy36\\lib\\site-packages\\zmq\\eventloop\\ioloop.py in start(self=<zmq.eventloop.ioloop.ZMQIOLoop object>)\n    172             )\n    173         return loop\n    174     \n    175     def start(self):\n    176         try:\n--> 177             super(ZMQIOLoop, self).start()\n        self.start = <bound method ZMQIOLoop.start of <zmq.eventloop.ioloop.ZMQIOLoop object>>\n    178         except ZMQError as e:\n    179             if e.errno == ETERM:\n    180                 # quietly return on ETERM\n    181                 pass\n\n...........................................................................\nC:\\Users\\wongk3.NA\\AppData\\Local\\Continuum\\Anaconda2\\envs\\newPy36\\lib\\site-packages\\tornado\\ioloop.py in start(self=<zmq.eventloop.ioloop.ZMQIOLoop object>)\n    883                 self._events.update(event_pairs)\n    884                 while self._events:\n    885                     fd, events = self._events.popitem()\n    886                     try:\n    887                         fd_obj, handler_func = self._handlers[fd]\n--> 888                         handler_func(fd_obj, events)\n        handler_func = <function wrap.<locals>.null_wrapper>\n        fd_obj = <zmq.sugar.socket.Socket object>\n        events = 1\n    889                     except (OSError, IOError) as e:\n    890                         if errno_from_exception(e) == errno.EPIPE:\n    891                             # Happens when the client closes the connection\n    892                             pass\n\n...........................................................................\nC:\\Users\\wongk3.NA\\AppData\\Local\\Continuum\\Anaconda2\\envs\\newPy36\\lib\\site-packages\\tornado\\stack_context.py in null_wrapper(*args=(<zmq.sugar.socket.Socket object>, 1), **kwargs={})\n    272         # Fast path when there are no active contexts.\n    273         def null_wrapper(*args, **kwargs):\n    274             try:\n    275                 current_state = _state.contexts\n    276                 _state.contexts = cap_contexts[0]\n--> 277                 return fn(*args, **kwargs)\n        args = (<zmq.sugar.socket.Socket object>, 1)\n        kwargs = {}\n    278             finally:\n    279                 _state.contexts = current_state\n    280         null_wrapper._wrapped = True\n    281         return null_wrapper\n\n...........................................................................\nC:\\Users\\wongk3.NA\\AppData\\Local\\Continuum\\Anaconda2\\envs\\newPy36\\lib\\site-packages\\zmq\\eventloop\\zmqstream.py in _handle_events(self=<zmq.eventloop.zmqstream.ZMQStream object>, fd=<zmq.sugar.socket.Socket object>, events=1)\n    435             # dispatch events:\n    436             if events & IOLoop.ERROR:\n    437                 gen_log.error(\"got POLLERR event on ZMQStream, which doesn't make sense\")\n    438                 return\n    439             if events & IOLoop.READ:\n--> 440                 self._handle_recv()\n        self._handle_recv = <bound method ZMQStream._handle_recv of <zmq.eventloop.zmqstream.ZMQStream object>>\n    441                 if not self.socket:\n    442                     return\n    443             if events & IOLoop.WRITE:\n    444                 self._handle_send()\n\n...........................................................................\nC:\\Users\\wongk3.NA\\AppData\\Local\\Continuum\\Anaconda2\\envs\\newPy36\\lib\\site-packages\\zmq\\eventloop\\zmqstream.py in _handle_recv(self=<zmq.eventloop.zmqstream.ZMQStream object>)\n    467                 gen_log.error(\"RECV Error: %s\"%zmq.strerror(e.errno))\n    468         else:\n    469             if self._recv_callback:\n    470                 callback = self._recv_callback\n    471                 # self._recv_callback = None\n--> 472                 self._run_callback(callback, msg)\n        self._run_callback = <bound method ZMQStream._run_callback of <zmq.eventloop.zmqstream.ZMQStream object>>\n        callback = <function wrap.<locals>.null_wrapper>\n        msg = [<zmq.sugar.frame.Frame object>, <zmq.sugar.frame.Frame object>, <zmq.sugar.frame.Frame object>, <zmq.sugar.frame.Frame object>, <zmq.sugar.frame.Frame object>, <zmq.sugar.frame.Frame object>, <zmq.sugar.frame.Frame object>]\n    473                 \n    474         # self.update_state()\n    475         \n    476 \n\n...........................................................................\nC:\\Users\\wongk3.NA\\AppData\\Local\\Continuum\\Anaconda2\\envs\\newPy36\\lib\\site-packages\\zmq\\eventloop\\zmqstream.py in _run_callback(self=<zmq.eventloop.zmqstream.ZMQStream object>, callback=<function wrap.<locals>.null_wrapper>, *args=([<zmq.sugar.frame.Frame object>, <zmq.sugar.frame.Frame object>, <zmq.sugar.frame.Frame object>, <zmq.sugar.frame.Frame object>, <zmq.sugar.frame.Frame object>, <zmq.sugar.frame.Frame object>, <zmq.sugar.frame.Frame object>],), **kwargs={})\n    409         close our socket.\"\"\"\n    410         try:\n    411             # Use a NullContext to ensure that all StackContexts are run\n    412             # inside our blanket exception handler rather than outside.\n    413             with stack_context.NullContext():\n--> 414                 callback(*args, **kwargs)\n        callback = <function wrap.<locals>.null_wrapper>\n        args = ([<zmq.sugar.frame.Frame object>, <zmq.sugar.frame.Frame object>, <zmq.sugar.frame.Frame object>, <zmq.sugar.frame.Frame object>, <zmq.sugar.frame.Frame object>, <zmq.sugar.frame.Frame object>, <zmq.sugar.frame.Frame object>],)\n        kwargs = {}\n    415         except:\n    416             gen_log.error(\"Uncaught exception, closing connection.\",\n    417                           exc_info=True)\n    418             # Close the socket on an uncaught exception from a user callback\n\n...........................................................................\nC:\\Users\\wongk3.NA\\AppData\\Local\\Continuum\\Anaconda2\\envs\\newPy36\\lib\\site-packages\\tornado\\stack_context.py in null_wrapper(*args=([<zmq.sugar.frame.Frame object>, <zmq.sugar.frame.Frame object>, <zmq.sugar.frame.Frame object>, <zmq.sugar.frame.Frame object>, <zmq.sugar.frame.Frame object>, <zmq.sugar.frame.Frame object>, <zmq.sugar.frame.Frame object>],), **kwargs={})\n    272         # Fast path when there are no active contexts.\n    273         def null_wrapper(*args, **kwargs):\n    274             try:\n    275                 current_state = _state.contexts\n    276                 _state.contexts = cap_contexts[0]\n--> 277                 return fn(*args, **kwargs)\n        args = ([<zmq.sugar.frame.Frame object>, <zmq.sugar.frame.Frame object>, <zmq.sugar.frame.Frame object>, <zmq.sugar.frame.Frame object>, <zmq.sugar.frame.Frame object>, <zmq.sugar.frame.Frame object>, <zmq.sugar.frame.Frame object>],)\n        kwargs = {}\n    278             finally:\n    279                 _state.contexts = current_state\n    280         null_wrapper._wrapped = True\n    281         return null_wrapper\n\n...........................................................................\nC:\\Users\\wongk3.NA\\AppData\\Local\\Continuum\\Anaconda2\\envs\\newPy36\\lib\\site-packages\\ipykernel\\kernelbase.py in dispatcher(msg=[<zmq.sugar.frame.Frame object>, <zmq.sugar.frame.Frame object>, <zmq.sugar.frame.Frame object>, <zmq.sugar.frame.Frame object>, <zmq.sugar.frame.Frame object>, <zmq.sugar.frame.Frame object>, <zmq.sugar.frame.Frame object>])\n    278         if self.control_stream:\n    279             self.control_stream.on_recv(self.dispatch_control, copy=False)\n    280 \n    281         def make_dispatcher(stream):\n    282             def dispatcher(msg):\n--> 283                 return self.dispatch_shell(stream, msg)\n        msg = [<zmq.sugar.frame.Frame object>, <zmq.sugar.frame.Frame object>, <zmq.sugar.frame.Frame object>, <zmq.sugar.frame.Frame object>, <zmq.sugar.frame.Frame object>, <zmq.sugar.frame.Frame object>, <zmq.sugar.frame.Frame object>]\n    284             return dispatcher\n    285 \n    286         for s in self.shell_streams:\n    287             s.on_recv(make_dispatcher(s), copy=False)\n\n...........................................................................\nC:\\Users\\wongk3.NA\\AppData\\Local\\Continuum\\Anaconda2\\envs\\newPy36\\lib\\site-packages\\ipykernel\\kernelbase.py in dispatch_shell(self=<ipykernel.ipkernel.IPythonKernel object>, stream=<zmq.eventloop.zmqstream.ZMQStream object>, msg={'buffers': [], 'content': {'allow_stdin': True, 'code': '# Use the random grid to search for best hyperpa...# Fit the random search model\\nrf_random.fit(X, y)', 'silent': False, 'stop_on_error': True, 'store_history': True, 'user_expressions': {}}, 'header': {'date': datetime.datetime(2018, 5, 15, 0, 13, 49, 665337, tzinfo=datetime.timezone.utc), 'msg_id': 'BC085BF391534D0D81ADC1A9E3F55149', 'msg_type': 'execute_request', 'session': 'AAE66A19F0144F0086F54BCE87F250EF', 'username': 'username', 'version': '5.0'}, 'metadata': {}, 'msg_id': 'BC085BF391534D0D81ADC1A9E3F55149', 'msg_type': 'execute_request', 'parent_header': {}})\n    230             self.log.warn(\"Unknown message type: %r\", msg_type)\n    231         else:\n    232             self.log.debug(\"%s: %s\", msg_type, msg)\n    233             self.pre_handler_hook()\n    234             try:\n--> 235                 handler(stream, idents, msg)\n        handler = <bound method Kernel.execute_request of <ipykernel.ipkernel.IPythonKernel object>>\n        stream = <zmq.eventloop.zmqstream.ZMQStream object>\n        idents = [b'AAE66A19F0144F0086F54BCE87F250EF']\n        msg = {'buffers': [], 'content': {'allow_stdin': True, 'code': '# Use the random grid to search for best hyperpa...# Fit the random search model\\nrf_random.fit(X, y)', 'silent': False, 'stop_on_error': True, 'store_history': True, 'user_expressions': {}}, 'header': {'date': datetime.datetime(2018, 5, 15, 0, 13, 49, 665337, tzinfo=datetime.timezone.utc), 'msg_id': 'BC085BF391534D0D81ADC1A9E3F55149', 'msg_type': 'execute_request', 'session': 'AAE66A19F0144F0086F54BCE87F250EF', 'username': 'username', 'version': '5.0'}, 'metadata': {}, 'msg_id': 'BC085BF391534D0D81ADC1A9E3F55149', 'msg_type': 'execute_request', 'parent_header': {}}\n    236             except Exception:\n    237                 self.log.error(\"Exception in message handler:\", exc_info=True)\n    238             finally:\n    239                 self.post_handler_hook()\n\n...........................................................................\nC:\\Users\\wongk3.NA\\AppData\\Local\\Continuum\\Anaconda2\\envs\\newPy36\\lib\\site-packages\\ipykernel\\kernelbase.py in execute_request(self=<ipykernel.ipkernel.IPythonKernel object>, stream=<zmq.eventloop.zmqstream.ZMQStream object>, ident=[b'AAE66A19F0144F0086F54BCE87F250EF'], parent={'buffers': [], 'content': {'allow_stdin': True, 'code': '# Use the random grid to search for best hyperpa...# Fit the random search model\\nrf_random.fit(X, y)', 'silent': False, 'stop_on_error': True, 'store_history': True, 'user_expressions': {}}, 'header': {'date': datetime.datetime(2018, 5, 15, 0, 13, 49, 665337, tzinfo=datetime.timezone.utc), 'msg_id': 'BC085BF391534D0D81ADC1A9E3F55149', 'msg_type': 'execute_request', 'session': 'AAE66A19F0144F0086F54BCE87F250EF', 'username': 'username', 'version': '5.0'}, 'metadata': {}, 'msg_id': 'BC085BF391534D0D81ADC1A9E3F55149', 'msg_type': 'execute_request', 'parent_header': {}})\n    394         if not silent:\n    395             self.execution_count += 1\n    396             self._publish_execute_input(code, parent, self.execution_count)\n    397 \n    398         reply_content = self.do_execute(code, silent, store_history,\n--> 399                                         user_expressions, allow_stdin)\n        user_expressions = {}\n        allow_stdin = True\n    400 \n    401         # Flush output before sending the reply.\n    402         sys.stdout.flush()\n    403         sys.stderr.flush()\n\n...........................................................................\nC:\\Users\\wongk3.NA\\AppData\\Local\\Continuum\\Anaconda2\\envs\\newPy36\\lib\\site-packages\\ipykernel\\ipkernel.py in do_execute(self=<ipykernel.ipkernel.IPythonKernel object>, code='# Use the random grid to search for best hyperpa...# Fit the random search model\\nrf_random.fit(X, y)', silent=False, store_history=True, user_expressions={}, allow_stdin=True)\n    191 \n    192         self._forward_input(allow_stdin)\n    193 \n    194         reply_content = {}\n    195         try:\n--> 196             res = shell.run_cell(code, store_history=store_history, silent=silent)\n        res = undefined\n        shell.run_cell = <bound method ZMQInteractiveShell.run_cell of <ipykernel.zmqshell.ZMQInteractiveShell object>>\n        code = '# Use the random grid to search for best hyperpa...# Fit the random search model\\nrf_random.fit(X, y)'\n        store_history = True\n        silent = False\n    197         finally:\n    198             self._restore_input()\n    199 \n    200         if res.error_before_exec is not None:\n\n...........................................................................\nC:\\Users\\wongk3.NA\\AppData\\Local\\Continuum\\Anaconda2\\envs\\newPy36\\lib\\site-packages\\ipykernel\\zmqshell.py in run_cell(self=<ipykernel.zmqshell.ZMQInteractiveShell object>, *args=('# Use the random grid to search for best hyperpa...# Fit the random search model\\nrf_random.fit(X, y)',), **kwargs={'silent': False, 'store_history': True})\n    528             )\n    529         self.payload_manager.write_payload(payload)\n    530 \n    531     def run_cell(self, *args, **kwargs):\n    532         self._last_traceback = None\n--> 533         return super(ZMQInteractiveShell, self).run_cell(*args, **kwargs)\n        self.run_cell = <bound method ZMQInteractiveShell.run_cell of <ipykernel.zmqshell.ZMQInteractiveShell object>>\n        args = ('# Use the random grid to search for best hyperpa...# Fit the random search model\\nrf_random.fit(X, y)',)\n        kwargs = {'silent': False, 'store_history': True}\n    534 \n    535     def _showtraceback(self, etype, evalue, stb):\n    536         # try to preserve ordering of tracebacks and print statements\n    537         sys.stdout.flush()\n\n...........................................................................\nC:\\Users\\wongk3.NA\\AppData\\Local\\Continuum\\Anaconda2\\envs\\newPy36\\lib\\site-packages\\IPython\\core\\interactiveshell.py in run_cell(self=<ipykernel.zmqshell.ZMQInteractiveShell object>, raw_cell='# Use the random grid to search for best hyperpa...# Fit the random search model\\nrf_random.fit(X, y)', store_history=True, silent=False, shell_futures=True)\n   2693                 self.displayhook.exec_result = result\n   2694 \n   2695                 # Execute the user code\n   2696                 interactivity = \"none\" if silent else self.ast_node_interactivity\n   2697                 has_raised = self.run_ast_nodes(code_ast.body, cell_name,\n-> 2698                    interactivity=interactivity, compiler=compiler, result=result)\n        interactivity = 'last_expr'\n        compiler = <IPython.core.compilerop.CachingCompiler object>\n   2699                 \n   2700                 self.last_execution_succeeded = not has_raised\n   2701 \n   2702                 # Reset this so later displayed values do not modify the\n\n...........................................................................\nC:\\Users\\wongk3.NA\\AppData\\Local\\Continuum\\Anaconda2\\envs\\newPy36\\lib\\site-packages\\IPython\\core\\interactiveshell.py in run_ast_nodes(self=<ipykernel.zmqshell.ZMQInteractiveShell object>, nodelist=[<_ast.Assign object>, <_ast.Expr object>], cell_name='<ipython-input-35-430f5c5e7da9>', interactivity='last', compiler=<IPython.core.compilerop.CachingCompiler object>, result=<ExecutionResult object at c87ee80, execution_co..._before_exec=None error_in_exec=None result=None>)\n   2803                     return True\n   2804 \n   2805             for i, node in enumerate(to_run_interactive):\n   2806                 mod = ast.Interactive([node])\n   2807                 code = compiler(mod, cell_name, \"single\")\n-> 2808                 if self.run_code(code, result):\n        self.run_code = <bound method InteractiveShell.run_code of <ipykernel.zmqshell.ZMQInteractiveShell object>>\n        code = <code object <module> at 0x000000000C8D8930, file \"<ipython-input-35-430f5c5e7da9>\", line 8>\n        result = <ExecutionResult object at c87ee80, execution_co..._before_exec=None error_in_exec=None result=None>\n   2809                     return True\n   2810 \n   2811             # Flush softspace\n   2812             if softspace(sys.stdout, 0):\n\n...........................................................................\nC:\\Users\\wongk3.NA\\AppData\\Local\\Continuum\\Anaconda2\\envs\\newPy36\\lib\\site-packages\\IPython\\core\\interactiveshell.py in run_code(self=<ipykernel.zmqshell.ZMQInteractiveShell object>, code_obj=<code object <module> at 0x000000000C8D8930, file \"<ipython-input-35-430f5c5e7da9>\", line 8>, result=<ExecutionResult object at c87ee80, execution_co..._before_exec=None error_in_exec=None result=None>)\n   2857         outflag = True  # happens in more places, so it's easier as default\n   2858         try:\n   2859             try:\n   2860                 self.hooks.pre_run_code_hook()\n   2861                 #rprint('Running code', repr(code_obj)) # dbg\n-> 2862                 exec(code_obj, self.user_global_ns, self.user_ns)\n        code_obj = <code object <module> at 0x000000000C8D8930, file \"<ipython-input-35-430f5c5e7da9>\", line 8>\n        self.user_global_ns = {'BaseEstimator': <class 'sklearn.base.BaseEstimator'>, 'DummyClassifier': <class 'sklearn.dummy.DummyClassifier'>, 'GridSearchCV': <class 'sklearn.model_selection._search.GridSearchCV'>, 'Imputer': <class 'sklearn.preprocessing.imputation.Imputer'>, 'In': ['', '# import packages that will be used for plotting...tliers_influence import variance_inflation_factor', \"df = pd.read_csv('Data/train_imputed.csv')\\nX_test = pd.read_csv('Data/test.csv')\", \"X = df.drop('SalePrice', axis=1)\\ny = df.SalePrice\", \"pca = PCA()\\npca.fit(X)\\nfeatures = range(pca.n_co...plt.ylabel('variance')\\nplt.xlim(0, 10)\\nplt.show()\", \"model=PCA(n_components=1)\\nmodel.fit(X)\\ndf_compon...nsform(X))\\ndf_components.columns = ['component1']\", \"df_PCA = df_components.join(y, how='left')\\n\\nX_tr...df_components, y, test_size=0.3, random_state=10)\", 'reg = LinearRegression()\\nreg.fit(X_train, y_train)', 'reg.score(X_train, y_train)', \"param_grid = {'fit_intercept':[True, False], 'normalize':[True, False]}\", 'reg_cv = GridSearchCV(reg, param_grid, cv=5)\\nreg_cv.fit(X_train, y_train)', 'print(\"Tuned Regression Parameter: {}\".format(re...ression Accuracy: {}\".format(reg_cv.best_score_))', 'reg2 = LinearRegression(fit_intercept=True, normalize=True)\\nreg2.fit(df_components, y)', 'reg2.score(df_components, y)', 'reg = LinearRegression()\\nreg.fit(X, y)', 'def calculate_vif(X, thresh=5.0):\\n        droppe...=1)\\n                dropped=True\\n        return X', 'calculate_vif(X)', 'reg = LinearRegression()\\nreg.fit(X, y)', 'reg.score(X, y)', 'reg_cv = GridSearchCV(reg, param_grid, cv=5)\\nreg...ression Accuracy: {}\".format(reg_cv.best_score_))', ...], 'LinearRegression': <class 'sklearn.linear_model.base.LinearRegression'>, 'Out': {7: LinearRegression(copy_X=True, fit_intercept=True, n_jobs=1, normalize=False), 8: 0.070036434041666484, 10: GridSearchCV(cv=5, error_score='raise',\n       e...ain_score='warn',\n       scoring=None, verbose=0), 12: LinearRegression(copy_X=True, fit_intercept=True, n_jobs=1, normalize=True), 13: 0.070282442428833525, 14: LinearRegression(copy_X=True, fit_intercept=True, n_jobs=1, normalize=False), 16:         Id  LotArea  LandSlope  MasVnrArea  Bsmt...                   0  \n\n[1460 rows x 138 columns], 17: LinearRegression(copy_X=True, fit_intercept=True, n_jobs=1, normalize=False), 18: 0.91903460666993364, 20: 0.99863013698630132, ...}, 'PCA': <class 'sklearn.decomposition.pca.PCA'>, 'RandomForestClassifier': <class 'sklearn.ensemble.forest.RandomForestClassifier'>, 'RandomizedSearchCV': <class 'sklearn.model_selection._search.RandomizedSearchCV'>, ...}\n        self.user_ns = {'BaseEstimator': <class 'sklearn.base.BaseEstimator'>, 'DummyClassifier': <class 'sklearn.dummy.DummyClassifier'>, 'GridSearchCV': <class 'sklearn.model_selection._search.GridSearchCV'>, 'Imputer': <class 'sklearn.preprocessing.imputation.Imputer'>, 'In': ['', '# import packages that will be used for plotting...tliers_influence import variance_inflation_factor', \"df = pd.read_csv('Data/train_imputed.csv')\\nX_test = pd.read_csv('Data/test.csv')\", \"X = df.drop('SalePrice', axis=1)\\ny = df.SalePrice\", \"pca = PCA()\\npca.fit(X)\\nfeatures = range(pca.n_co...plt.ylabel('variance')\\nplt.xlim(0, 10)\\nplt.show()\", \"model=PCA(n_components=1)\\nmodel.fit(X)\\ndf_compon...nsform(X))\\ndf_components.columns = ['component1']\", \"df_PCA = df_components.join(y, how='left')\\n\\nX_tr...df_components, y, test_size=0.3, random_state=10)\", 'reg = LinearRegression()\\nreg.fit(X_train, y_train)', 'reg.score(X_train, y_train)', \"param_grid = {'fit_intercept':[True, False], 'normalize':[True, False]}\", 'reg_cv = GridSearchCV(reg, param_grid, cv=5)\\nreg_cv.fit(X_train, y_train)', 'print(\"Tuned Regression Parameter: {}\".format(re...ression Accuracy: {}\".format(reg_cv.best_score_))', 'reg2 = LinearRegression(fit_intercept=True, normalize=True)\\nreg2.fit(df_components, y)', 'reg2.score(df_components, y)', 'reg = LinearRegression()\\nreg.fit(X, y)', 'def calculate_vif(X, thresh=5.0):\\n        droppe...=1)\\n                dropped=True\\n        return X', 'calculate_vif(X)', 'reg = LinearRegression()\\nreg.fit(X, y)', 'reg.score(X, y)', 'reg_cv = GridSearchCV(reg, param_grid, cv=5)\\nreg...ression Accuracy: {}\".format(reg_cv.best_score_))', ...], 'LinearRegression': <class 'sklearn.linear_model.base.LinearRegression'>, 'Out': {7: LinearRegression(copy_X=True, fit_intercept=True, n_jobs=1, normalize=False), 8: 0.070036434041666484, 10: GridSearchCV(cv=5, error_score='raise',\n       e...ain_score='warn',\n       scoring=None, verbose=0), 12: LinearRegression(copy_X=True, fit_intercept=True, n_jobs=1, normalize=True), 13: 0.070282442428833525, 14: LinearRegression(copy_X=True, fit_intercept=True, n_jobs=1, normalize=False), 16:         Id  LotArea  LandSlope  MasVnrArea  Bsmt...                   0  \n\n[1460 rows x 138 columns], 17: LinearRegression(copy_X=True, fit_intercept=True, n_jobs=1, normalize=False), 18: 0.91903460666993364, 20: 0.99863013698630132, ...}, 'PCA': <class 'sklearn.decomposition.pca.PCA'>, 'RandomForestClassifier': <class 'sklearn.ensemble.forest.RandomForestClassifier'>, 'RandomizedSearchCV': <class 'sklearn.model_selection._search.RandomizedSearchCV'>, ...}\n   2863             finally:\n   2864                 # Reset our crash handler in place\n   2865                 sys.excepthook = old_excepthook\n   2866         except SystemExit as e:\n\n...........................................................................\nC:\\Users\\wongk3.NA\\Desktop\\Springboard\\Capstone_2\\<ipython-input-35-430f5c5e7da9> in <module>()\n      3 # Random search of parameters, using 5 fold cross validation, \n      4 # search across 100 different combinations, and use all available cores\n      5 rf_random = RandomizedSearchCV(estimator = rf, param_distributions = random_grid, n_iter = 100, cv = 5, verbose=2, random_state=10, n_jobs = -1)\n      6 \n      7 # Fit the random search model\n----> 8 rf_random.fit(X, y)\n\n...........................................................................\nC:\\Users\\wongk3.NA\\AppData\\Local\\Continuum\\Anaconda2\\envs\\newPy36\\lib\\site-packages\\sklearn\\model_selection\\_search.py in fit(self=RandomizedSearchCV(cv=5, error_score='raise',\n  ...turn_train_score='warn', scoring=None, verbose=2), X=          Id  LotArea  LandSlope  MasVnrArea  Bs...                 0.0  \n\n[1460 rows x 138 columns], y=0       208500\n1       181500\n2       223500\n3  ...47500\nName: SalePrice, Length: 1460, dtype: int64, groups=None, **fit_params={})\n    634                                   return_train_score=self.return_train_score,\n    635                                   return_n_test_samples=True,\n    636                                   return_times=True, return_parameters=False,\n    637                                   error_score=self.error_score)\n    638           for parameters, (train, test) in product(candidate_params,\n--> 639                                                    cv.split(X, y, groups)))\n        cv.split = <bound method StratifiedKFold.split of Stratifie...ld(n_splits=5, random_state=None, shuffle=False)>\n        X =           Id  LotArea  LandSlope  MasVnrArea  Bs...                 0.0  \n\n[1460 rows x 138 columns]\n        y = 0       208500\n1       181500\n2       223500\n3  ...47500\nName: SalePrice, Length: 1460, dtype: int64\n        groups = None\n    640 \n    641         # if one choose to see train score, \"out\" will contain train score info\n    642         if self.return_train_score:\n    643             (train_score_dicts, test_score_dicts, test_sample_counts, fit_time,\n\n...........................................................................\nC:\\Users\\wongk3.NA\\AppData\\Local\\Continuum\\Anaconda2\\envs\\newPy36\\lib\\site-packages\\sklearn\\externals\\joblib\\parallel.py in __call__(self=Parallel(n_jobs=-1), iterable=<generator object BaseSearchCV.fit.<locals>.<genexpr>>)\n    784             if pre_dispatch == \"all\" or n_jobs == 1:\n    785                 # The iterable was consumed all at once by the above for loop.\n    786                 # No need to wait for async callbacks to trigger to\n    787                 # consumption.\n    788                 self._iterating = False\n--> 789             self.retrieve()\n        self.retrieve = <bound method Parallel.retrieve of Parallel(n_jobs=-1)>\n    790             # Make sure that we get a last message telling us we are done\n    791             elapsed_time = time.time() - self._start_time\n    792             self._print('Done %3i out of %3i | elapsed: %s finished',\n    793                         (len(self._output), len(self._output),\n\n---------------------------------------------------------------------------\nSub-process traceback:\n---------------------------------------------------------------------------\nValueError                                         Mon May 14 17:14:13 2018\nPID: 3280Python 3.6.3: C:\\Users\\wongk3.NA\\AppData\\Local\\Continuum\\Anaconda2\\envs\\newPy36\\python.exe\n...........................................................................\nC:\\Users\\wongk3.NA\\AppData\\Local\\Continuum\\Anaconda2\\envs\\newPy36\\lib\\site-packages\\sklearn\\externals\\joblib\\parallel.py in __call__(self=<sklearn.externals.joblib.parallel.BatchedCalls object>)\n    126     def __init__(self, iterator_slice):\n    127         self.items = list(iterator_slice)\n    128         self._size = len(self.items)\n    129 \n    130     def __call__(self):\n--> 131         return [func(*args, **kwargs) for func, args, kwargs in self.items]\n        self.items = [(<function _fit_and_score>, (RandomForestClassifier(bootstrap=True, class_wei...te=None, verbose=0,\n            warm_start=False),           Id  LotArea  LandSlope  MasVnrArea  Bs...                 0.0  \n\n[1460 rows x 138 columns], 0       208500\n1       181500\n2       223500\n3  ...47500\nName: SalePrice, Length: 1460, dtype: int64, {'score': <function _passthrough_scorer>}, array([  23,   71,  120,  130,  131,  134,  149,...1448, 1450, 1452, 1453, 1454,\n       1455, 1456]), array([   0,    1,    2,    3,    4,    5,    6,...1443,\n       1444, 1449, 1451, 1457, 1458, 1459]), 2, {'bootstrap': True, 'max_depth': 15, 'max_features': 'sqrt', 'min_samples_leaf': 1, 'min_samples_split': 1, 'n_estimators': 120}), {'error_score': 'raise', 'fit_params': {}, 'return_n_test_samples': True, 'return_parameters': False, 'return_times': True, 'return_train_score': 'warn'})]\n    132 \n    133     def __len__(self):\n    134         return self._size\n    135 \n\n...........................................................................\nC:\\Users\\wongk3.NA\\AppData\\Local\\Continuum\\Anaconda2\\envs\\newPy36\\lib\\site-packages\\sklearn\\externals\\joblib\\parallel.py in <listcomp>(.0=<list_iterator object>)\n    126     def __init__(self, iterator_slice):\n    127         self.items = list(iterator_slice)\n    128         self._size = len(self.items)\n    129 \n    130     def __call__(self):\n--> 131         return [func(*args, **kwargs) for func, args, kwargs in self.items]\n        func = <function _fit_and_score>\n        args = (RandomForestClassifier(bootstrap=True, class_wei...te=None, verbose=0,\n            warm_start=False),           Id  LotArea  LandSlope  MasVnrArea  Bs...                 0.0  \n\n[1460 rows x 138 columns], 0       208500\n1       181500\n2       223500\n3  ...47500\nName: SalePrice, Length: 1460, dtype: int64, {'score': <function _passthrough_scorer>}, array([  23,   71,  120,  130,  131,  134,  149,...1448, 1450, 1452, 1453, 1454,\n       1455, 1456]), array([   0,    1,    2,    3,    4,    5,    6,...1443,\n       1444, 1449, 1451, 1457, 1458, 1459]), 2, {'bootstrap': True, 'max_depth': 15, 'max_features': 'sqrt', 'min_samples_leaf': 1, 'min_samples_split': 1, 'n_estimators': 120})\n        kwargs = {'error_score': 'raise', 'fit_params': {}, 'return_n_test_samples': True, 'return_parameters': False, 'return_times': True, 'return_train_score': 'warn'}\n    132 \n    133     def __len__(self):\n    134         return self._size\n    135 \n\n...........................................................................\nC:\\Users\\wongk3.NA\\AppData\\Local\\Continuum\\Anaconda2\\envs\\newPy36\\lib\\site-packages\\sklearn\\model_selection\\_validation.py in _fit_and_score(estimator=RandomForestClassifier(bootstrap=True, class_wei...te=None, verbose=0,\n            warm_start=False), X=          Id  LotArea  LandSlope  MasVnrArea  Bs...                 0.0  \n\n[1460 rows x 138 columns], y=0       208500\n1       181500\n2       223500\n3  ...47500\nName: SalePrice, Length: 1460, dtype: int64, scorer={'score': <function _passthrough_scorer>}, train=array([  23,   71,  120,  130,  131,  134,  149,...1448, 1450, 1452, 1453, 1454,\n       1455, 1456]), test=array([   0,    1,    2,    3,    4,    5,    6,...1443,\n       1444, 1449, 1451, 1457, 1458, 1459]), verbose=2, parameters={'bootstrap': True, 'max_depth': 15, 'max_features': 'sqrt', 'min_samples_leaf': 1, 'min_samples_split': 1, 'n_estimators': 120}, fit_params={}, return_train_score='warn', return_parameters=False, return_n_test_samples=True, return_times=True, error_score='raise')\n    453 \n    454     try:\n    455         if y_train is None:\n    456             estimator.fit(X_train, **fit_params)\n    457         else:\n--> 458             estimator.fit(X_train, y_train, **fit_params)\n        estimator.fit = <bound method BaseForest.fit of RandomForestClas...e=None, verbose=0,\n            warm_start=False)>\n        X_train =           Id   LotArea  LandSlope  MasVnrArea  B...                  0.0  \n\n[728 rows x 138 columns]\n        y_train = 23      129900\n71      129500\n120     180000\n130...210000\nName: SalePrice, Length: 728, dtype: int64\n        fit_params = {}\n    459 \n    460     except Exception as e:\n    461         # Note fit time as time until error\n    462         fit_time = time.time() - start_time\n\n...........................................................................\nC:\\Users\\wongk3.NA\\AppData\\Local\\Continuum\\Anaconda2\\envs\\newPy36\\lib\\site-packages\\sklearn\\ensemble\\forest.py in fit(self=RandomForestClassifier(bootstrap=True, class_wei...te=None, verbose=0,\n            warm_start=False), X=array([[  2.40000000e+01,   4.22400000e+03,   0.....00000000e+00,   0.00000000e+00]], dtype=float32), y=array([[  69.],\n       [  68.],\n       [ 157.],\n...\n       [ 161.],\n       [ 146.],\n       [ 192.]]), sample_weight=None)\n    323             trees = Parallel(n_jobs=self.n_jobs, verbose=self.verbose,\n    324                              backend=\"threading\")(\n    325                 delayed(_parallel_build_trees)(\n    326                     t, self, X, y, sample_weight, i, len(trees),\n    327                     verbose=self.verbose, class_weight=self.class_weight)\n--> 328                 for i, t in enumerate(trees))\n        i = 119\n    329 \n    330             # Collect newly grown trees\n    331             self.estimators_.extend(trees)\n    332 \n\n...........................................................................\nC:\\Users\\wongk3.NA\\AppData\\Local\\Continuum\\Anaconda2\\envs\\newPy36\\lib\\site-packages\\sklearn\\externals\\joblib\\parallel.py in __call__(self=Parallel(n_jobs=1), iterable=<generator object BaseForest.fit.<locals>.<genexpr>>)\n    774         self.n_completed_tasks = 0\n    775         try:\n    776             # Only set self._iterating to True if at least a batch\n    777             # was dispatched. In particular this covers the edge\n    778             # case of Parallel used with an exhausted iterator.\n--> 779             while self.dispatch_one_batch(iterator):\n        self.dispatch_one_batch = <bound method Parallel.dispatch_one_batch of Parallel(n_jobs=1)>\n        iterator = <generator object BaseForest.fit.<locals>.<genexpr>>\n    780                 self._iterating = True\n    781             else:\n    782                 self._iterating = False\n    783 \n\n...........................................................................\nC:\\Users\\wongk3.NA\\AppData\\Local\\Continuum\\Anaconda2\\envs\\newPy36\\lib\\site-packages\\sklearn\\externals\\joblib\\parallel.py in dispatch_one_batch(self=Parallel(n_jobs=1), iterator=<generator object BaseForest.fit.<locals>.<genexpr>>)\n    620             tasks = BatchedCalls(itertools.islice(iterator, batch_size))\n    621             if len(tasks) == 0:\n    622                 # No more tasks available in the iterator: tell caller to stop.\n    623                 return False\n    624             else:\n--> 625                 self._dispatch(tasks)\n        self._dispatch = <bound method Parallel._dispatch of Parallel(n_jobs=1)>\n        tasks = <sklearn.externals.joblib.parallel.BatchedCalls object>\n    626                 return True\n    627 \n    628     def _print(self, msg, msg_args):\n    629         \"\"\"Display the message on stout or stderr depending on verbosity\"\"\"\n\n...........................................................................\nC:\\Users\\wongk3.NA\\AppData\\Local\\Continuum\\Anaconda2\\envs\\newPy36\\lib\\site-packages\\sklearn\\externals\\joblib\\parallel.py in _dispatch(self=Parallel(n_jobs=1), batch=<sklearn.externals.joblib.parallel.BatchedCalls object>)\n    583         self.n_dispatched_tasks += len(batch)\n    584         self.n_dispatched_batches += 1\n    585 \n    586         dispatch_timestamp = time.time()\n    587         cb = BatchCompletionCallBack(dispatch_timestamp, len(batch), self)\n--> 588         job = self._backend.apply_async(batch, callback=cb)\n        job = undefined\n        self._backend.apply_async = <bound method SequentialBackend.apply_async of <...lib._parallel_backends.SequentialBackend object>>\n        batch = <sklearn.externals.joblib.parallel.BatchedCalls object>\n        cb = <sklearn.externals.joblib.parallel.BatchCompletionCallBack object>\n    589         self._jobs.append(job)\n    590 \n    591     def dispatch_next(self):\n    592         \"\"\"Dispatch more data for parallel processing\n\n...........................................................................\nC:\\Users\\wongk3.NA\\AppData\\Local\\Continuum\\Anaconda2\\envs\\newPy36\\lib\\site-packages\\sklearn\\externals\\joblib\\_parallel_backends.py in apply_async(self=<sklearn.externals.joblib._parallel_backends.SequentialBackend object>, func=<sklearn.externals.joblib.parallel.BatchedCalls object>, callback=<sklearn.externals.joblib.parallel.BatchCompletionCallBack object>)\n    106             raise ValueError('n_jobs == 0 in Parallel has no meaning')\n    107         return 1\n    108 \n    109     def apply_async(self, func, callback=None):\n    110         \"\"\"Schedule a func to be run\"\"\"\n--> 111         result = ImmediateResult(func)\n        result = undefined\n        func = <sklearn.externals.joblib.parallel.BatchedCalls object>\n    112         if callback:\n    113             callback(result)\n    114         return result\n    115 \n\n...........................................................................\nC:\\Users\\wongk3.NA\\AppData\\Local\\Continuum\\Anaconda2\\envs\\newPy36\\lib\\site-packages\\sklearn\\externals\\joblib\\_parallel_backends.py in __init__(self=<sklearn.externals.joblib._parallel_backends.ImmediateResult object>, batch=<sklearn.externals.joblib.parallel.BatchedCalls object>)\n    327 \n    328 class ImmediateResult(object):\n    329     def __init__(self, batch):\n    330         # Don't delay the application, to avoid keeping the input\n    331         # arguments in memory\n--> 332         self.results = batch()\n        self.results = undefined\n        batch = <sklearn.externals.joblib.parallel.BatchedCalls object>\n    333 \n    334     def get(self):\n    335         return self.results\n    336 \n\n...........................................................................\nC:\\Users\\wongk3.NA\\AppData\\Local\\Continuum\\Anaconda2\\envs\\newPy36\\lib\\site-packages\\sklearn\\externals\\joblib\\parallel.py in __call__(self=<sklearn.externals.joblib.parallel.BatchedCalls object>)\n    126     def __init__(self, iterator_slice):\n    127         self.items = list(iterator_slice)\n    128         self._size = len(self.items)\n    129 \n    130     def __call__(self):\n--> 131         return [func(*args, **kwargs) for func, args, kwargs in self.items]\n        self.items = [(<function _parallel_build_trees>, (DecisionTreeClassifier(class_weight=None, criter...         random_state=934923381, splitter='best'), RandomForestClassifier(bootstrap=True, class_wei...te=None, verbose=0,\n            warm_start=False), array([[  2.40000000e+01,   4.22400000e+03,   0.....00000000e+00,   0.00000000e+00]], dtype=float32), array([[  69.],\n       [  68.],\n       [ 157.],\n...\n       [ 161.],\n       [ 146.],\n       [ 192.]]), None, 0, 120), {'class_weight': None, 'verbose': 0})]\n    132 \n    133     def __len__(self):\n    134         return self._size\n    135 \n\n...........................................................................\nC:\\Users\\wongk3.NA\\AppData\\Local\\Continuum\\Anaconda2\\envs\\newPy36\\lib\\site-packages\\sklearn\\externals\\joblib\\parallel.py in <listcomp>(.0=<list_iterator object>)\n    126     def __init__(self, iterator_slice):\n    127         self.items = list(iterator_slice)\n    128         self._size = len(self.items)\n    129 \n    130     def __call__(self):\n--> 131         return [func(*args, **kwargs) for func, args, kwargs in self.items]\n        func = <function _parallel_build_trees>\n        args = (DecisionTreeClassifier(class_weight=None, criter...         random_state=934923381, splitter='best'), RandomForestClassifier(bootstrap=True, class_wei...te=None, verbose=0,\n            warm_start=False), array([[  2.40000000e+01,   4.22400000e+03,   0.....00000000e+00,   0.00000000e+00]], dtype=float32), array([[  69.],\n       [  68.],\n       [ 157.],\n...\n       [ 161.],\n       [ 146.],\n       [ 192.]]), None, 0, 120)\n        kwargs = {'class_weight': None, 'verbose': 0}\n    132 \n    133     def __len__(self):\n    134         return self._size\n    135 \n\n...........................................................................\nC:\\Users\\wongk3.NA\\AppData\\Local\\Continuum\\Anaconda2\\envs\\newPy36\\lib\\site-packages\\sklearn\\ensemble\\forest.py in _parallel_build_trees(tree=DecisionTreeClassifier(class_weight=None, criter...         random_state=934923381, splitter='best'), forest=RandomForestClassifier(bootstrap=True, class_wei...te=None, verbose=0,\n            warm_start=False), X=array([[  2.40000000e+01,   4.22400000e+03,   0.....00000000e+00,   0.00000000e+00]], dtype=float32), y=array([[  69.],\n       [  68.],\n       [ 157.],\n...\n       [ 161.],\n       [ 146.],\n       [ 192.]]), sample_weight=None, tree_idx=0, n_trees=120, verbose=0, class_weight=None)\n    116                 warnings.simplefilter('ignore', DeprecationWarning)\n    117                 curr_sample_weight *= compute_sample_weight('auto', y, indices)\n    118         elif class_weight == 'balanced_subsample':\n    119             curr_sample_weight *= compute_sample_weight('balanced', y, indices)\n    120 \n--> 121         tree.fit(X, y, sample_weight=curr_sample_weight, check_input=False)\n        tree.fit = <bound method DecisionTreeClassifier.fit of Deci...        random_state=934923381, splitter='best')>\n        X = array([[  2.40000000e+01,   4.22400000e+03,   0.....00000000e+00,   0.00000000e+00]], dtype=float32)\n        y = array([[  69.],\n       [  68.],\n       [ 157.],\n...\n       [ 161.],\n       [ 146.],\n       [ 192.]])\n        sample_weight = None\n        curr_sample_weight = array([ 0.,  0.,  1.,  0.,  0.,  2.,  1.,  0.,  ...0.,  0.,  2.,  2.,  1.,  0.,  0.,  0.,  1.,  0.])\n    122     else:\n    123         tree.fit(X, y, sample_weight=sample_weight, check_input=False)\n    124 \n    125     return tree\n\n...........................................................................\nC:\\Users\\wongk3.NA\\AppData\\Local\\Continuum\\Anaconda2\\envs\\newPy36\\lib\\site-packages\\sklearn\\tree\\tree.py in fit(self=DecisionTreeClassifier(class_weight=None, criter...         random_state=934923381, splitter='best'), X=array([[  2.40000000e+01,   4.22400000e+03,   0.....00000000e+00,   0.00000000e+00]], dtype=float32), y=array([[  69.],\n       [  68.],\n       [ 157.],\n...\n       [ 161.],\n       [ 146.],\n       [ 192.]]), sample_weight=array([ 0.,  0.,  1.,  0.,  0.,  2.,  1.,  0.,  ...0.,  0.,  2.,  2.,  1.,  0.,  0.,  0.,  1.,  0.]), check_input=False, X_idx_sorted=None)\n    785 \n    786         super(DecisionTreeClassifier, self).fit(\n    787             X, y,\n    788             sample_weight=sample_weight,\n    789             check_input=check_input,\n--> 790             X_idx_sorted=X_idx_sorted)\n        X_idx_sorted = None\n    791         return self\n    792 \n    793     def predict_proba(self, X, check_input=True):\n    794         \"\"\"Predict class probabilities of the input samples X.\n\n...........................................................................\nC:\\Users\\wongk3.NA\\AppData\\Local\\Continuum\\Anaconda2\\envs\\newPy36\\lib\\site-packages\\sklearn\\tree\\tree.py in fit(self=DecisionTreeClassifier(class_weight=None, criter...         random_state=934923381, splitter='best'), X=array([[  2.40000000e+01,   4.22400000e+03,   0.....00000000e+00,   0.00000000e+00]], dtype=float32), y=array([[  69.],\n       [  68.],\n       [ 157.],\n...\n       [ 161.],\n       [ 146.],\n       [ 192.]]), sample_weight=array([ 0.,  0.,  1.,  0.,  0.,  2.,  1.,  0.,  ...0.,  0.,  2.,  2.,  1.,  0.,  0.,  0.,  1.,  0.]), check_input=False, X_idx_sorted=None)\n    189         if isinstance(self.min_samples_split, (numbers.Integral, np.integer)):\n    190             if not 2 <= self.min_samples_split:\n    191                 raise ValueError(\"min_samples_split must be an integer \"\n    192                                  \"greater than 1 or a float in (0.0, 1.0]; \"\n    193                                  \"got the integer %s\"\n--> 194                                  % self.min_samples_split)\n        self.min_samples_split = 1\n    195             min_samples_split = self.min_samples_split\n    196         else:  # float\n    197             if not 0. < self.min_samples_split <= 1.:\n    198                 raise ValueError(\"min_samples_split must be an integer \"\n\nValueError: min_samples_split must be an integer greater than 1 or a float in (0.0, 1.0]; got the integer 1\n___________________________________________________________________________"
     ]
    }
   ],
   "source": [
    "# Use the random grid to search for best hyperparameters\n",
    "\n",
    "# Random search of parameters, using 5 fold cross validation, \n",
    "# search across 100 different combinations, and use all available cores\n",
    "rf_random = RandomizedSearchCV(estimator = rf, param_distributions = random_grid, n_iter = 100, cv = 5, verbose=2, random_state=10, n_jobs = -1)\n",
    "\n",
    "# Fit the random search model\n",
    "rf_random.fit(X, y)"
   ]
  },
  {
   "cell_type": "markdown",
   "metadata": {},
   "source": [
    "# XGBoost"
   ]
  },
  {
   "cell_type": "code",
   "execution_count": 2,
   "metadata": {
    "collapsed": true
   },
   "outputs": [],
   "source": [
    "reg_xgb = xgb.XGBRegressor()"
   ]
  }
 ],
 "metadata": {
  "kernelspec": {
   "display_name": "Python 3",
   "language": "python",
   "name": "python3"
  },
  "language_info": {
   "codemirror_mode": {
    "name": "ipython",
    "version": 3
   },
   "file_extension": ".py",
   "mimetype": "text/x-python",
   "name": "python",
   "nbconvert_exporter": "python",
   "pygments_lexer": "ipython3",
   "version": "3.6.3"
  }
 },
 "nbformat": 4,
 "nbformat_minor": 2
}
