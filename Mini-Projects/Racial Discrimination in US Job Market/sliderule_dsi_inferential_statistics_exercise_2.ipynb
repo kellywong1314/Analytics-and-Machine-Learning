{
 "cells": [
  {
   "cell_type": "markdown",
   "metadata": {},
   "source": [
    "# Examining Racial Discrimination in the US Job Market\n",
    "\n",
    "### Background\n",
    "Racial discrimination continues to be pervasive in cultures throughout the world. Researchers examined the level of racial discrimination in the United States labor market by randomly assigning identical résumés to black-sounding or white-sounding names and observing the impact on requests for interviews from employers.\n",
    "\n",
    "### Data\n",
    "In the dataset provided, each row represents a resume. The 'race' column has two values, 'b' and 'w', indicating black-sounding and white-sounding. The column 'call' has two values, 1 and 0, indicating whether the resume received a call from employers or not.\n",
    "\n",
    "Note that the 'b' and 'w' values in race are assigned randomly to the resumes when presented to the employer.\n",
    "\n",
    "### Analysis\n",
    "In this notoebook, statistical analysis is performed ot establish whether race has a significant impact on the rate of callbacks for resumes."
   ]
  },
  {
   "cell_type": "markdown",
   "metadata": {},
   "source": [
    "#### Resources\n",
    "+ Experiment information and data source: http://www.povertyactionlab.org/evaluation/discrimination-job-market-united-states\n",
    "+ Scipy statistical methods: http://docs.scipy.org/doc/scipy/reference/stats.html \n",
    "+ Markdown syntax: http://nestacms.com/docs/creating-content/markdown-cheat-sheet\n",
    "****"
   ]
  },
  {
   "cell_type": "code",
   "execution_count": 1,
   "metadata": {
    "collapsed": true
   },
   "outputs": [],
   "source": [
    "import pandas as pd\n",
    "import numpy as np\n",
    "from scipy import stats\n",
    "import seaborn as sns\n",
    "import matplotlib.pyplot as plt"
   ]
  },
  {
   "cell_type": "code",
   "execution_count": 2,
   "metadata": {
    "collapsed": true
   },
   "outputs": [],
   "source": [
    "data = pd.io.stata.read_stata('data/us_job_market_discrimination.dta')"
   ]
  },
  {
   "cell_type": "code",
   "execution_count": 3,
   "metadata": {},
   "outputs": [
    {
     "data": {
      "text/plain": [
       "157.0"
      ]
     },
     "execution_count": 3,
     "metadata": {},
     "output_type": "execute_result"
    }
   ],
   "source": [
    "# number of callbacks for black-sounding names\n",
    "sum(data[data.race=='b'].call)"
   ]
  },
  {
   "cell_type": "code",
   "execution_count": 4,
   "metadata": {
    "scrolled": true
   },
   "outputs": [
    {
     "data": {
      "text/html": [
       "<div>\n",
       "<style>\n",
       "    .dataframe thead tr:only-child th {\n",
       "        text-align: right;\n",
       "    }\n",
       "\n",
       "    .dataframe thead th {\n",
       "        text-align: left;\n",
       "    }\n",
       "\n",
       "    .dataframe tbody tr th {\n",
       "        vertical-align: top;\n",
       "    }\n",
       "</style>\n",
       "<table border=\"1\" class=\"dataframe\">\n",
       "  <thead>\n",
       "    <tr style=\"text-align: right;\">\n",
       "      <th></th>\n",
       "      <th>id</th>\n",
       "      <th>ad</th>\n",
       "      <th>education</th>\n",
       "      <th>ofjobs</th>\n",
       "      <th>yearsexp</th>\n",
       "      <th>honors</th>\n",
       "      <th>volunteer</th>\n",
       "      <th>military</th>\n",
       "      <th>empholes</th>\n",
       "      <th>occupspecific</th>\n",
       "      <th>...</th>\n",
       "      <th>compreq</th>\n",
       "      <th>orgreq</th>\n",
       "      <th>manuf</th>\n",
       "      <th>transcom</th>\n",
       "      <th>bankreal</th>\n",
       "      <th>trade</th>\n",
       "      <th>busservice</th>\n",
       "      <th>othservice</th>\n",
       "      <th>missind</th>\n",
       "      <th>ownership</th>\n",
       "    </tr>\n",
       "  </thead>\n",
       "  <tbody>\n",
       "    <tr>\n",
       "      <th>0</th>\n",
       "      <td>b</td>\n",
       "      <td>1</td>\n",
       "      <td>4</td>\n",
       "      <td>2</td>\n",
       "      <td>6</td>\n",
       "      <td>0</td>\n",
       "      <td>0</td>\n",
       "      <td>0</td>\n",
       "      <td>1</td>\n",
       "      <td>17</td>\n",
       "      <td>...</td>\n",
       "      <td>1.0</td>\n",
       "      <td>0.0</td>\n",
       "      <td>1.0</td>\n",
       "      <td>0.0</td>\n",
       "      <td>0.0</td>\n",
       "      <td>0.0</td>\n",
       "      <td>0.0</td>\n",
       "      <td>0.0</td>\n",
       "      <td>0.0</td>\n",
       "      <td></td>\n",
       "    </tr>\n",
       "    <tr>\n",
       "      <th>1</th>\n",
       "      <td>b</td>\n",
       "      <td>1</td>\n",
       "      <td>3</td>\n",
       "      <td>3</td>\n",
       "      <td>6</td>\n",
       "      <td>0</td>\n",
       "      <td>1</td>\n",
       "      <td>1</td>\n",
       "      <td>0</td>\n",
       "      <td>316</td>\n",
       "      <td>...</td>\n",
       "      <td>1.0</td>\n",
       "      <td>0.0</td>\n",
       "      <td>1.0</td>\n",
       "      <td>0.0</td>\n",
       "      <td>0.0</td>\n",
       "      <td>0.0</td>\n",
       "      <td>0.0</td>\n",
       "      <td>0.0</td>\n",
       "      <td>0.0</td>\n",
       "      <td></td>\n",
       "    </tr>\n",
       "    <tr>\n",
       "      <th>2</th>\n",
       "      <td>b</td>\n",
       "      <td>1</td>\n",
       "      <td>4</td>\n",
       "      <td>1</td>\n",
       "      <td>6</td>\n",
       "      <td>0</td>\n",
       "      <td>0</td>\n",
       "      <td>0</td>\n",
       "      <td>0</td>\n",
       "      <td>19</td>\n",
       "      <td>...</td>\n",
       "      <td>1.0</td>\n",
       "      <td>0.0</td>\n",
       "      <td>1.0</td>\n",
       "      <td>0.0</td>\n",
       "      <td>0.0</td>\n",
       "      <td>0.0</td>\n",
       "      <td>0.0</td>\n",
       "      <td>0.0</td>\n",
       "      <td>0.0</td>\n",
       "      <td></td>\n",
       "    </tr>\n",
       "    <tr>\n",
       "      <th>3</th>\n",
       "      <td>b</td>\n",
       "      <td>1</td>\n",
       "      <td>3</td>\n",
       "      <td>4</td>\n",
       "      <td>6</td>\n",
       "      <td>0</td>\n",
       "      <td>1</td>\n",
       "      <td>0</td>\n",
       "      <td>1</td>\n",
       "      <td>313</td>\n",
       "      <td>...</td>\n",
       "      <td>1.0</td>\n",
       "      <td>0.0</td>\n",
       "      <td>1.0</td>\n",
       "      <td>0.0</td>\n",
       "      <td>0.0</td>\n",
       "      <td>0.0</td>\n",
       "      <td>0.0</td>\n",
       "      <td>0.0</td>\n",
       "      <td>0.0</td>\n",
       "      <td></td>\n",
       "    </tr>\n",
       "    <tr>\n",
       "      <th>4</th>\n",
       "      <td>b</td>\n",
       "      <td>1</td>\n",
       "      <td>3</td>\n",
       "      <td>3</td>\n",
       "      <td>22</td>\n",
       "      <td>0</td>\n",
       "      <td>0</td>\n",
       "      <td>0</td>\n",
       "      <td>0</td>\n",
       "      <td>313</td>\n",
       "      <td>...</td>\n",
       "      <td>1.0</td>\n",
       "      <td>1.0</td>\n",
       "      <td>0.0</td>\n",
       "      <td>0.0</td>\n",
       "      <td>0.0</td>\n",
       "      <td>0.0</td>\n",
       "      <td>0.0</td>\n",
       "      <td>1.0</td>\n",
       "      <td>0.0</td>\n",
       "      <td>Nonprofit</td>\n",
       "    </tr>\n",
       "  </tbody>\n",
       "</table>\n",
       "<p>5 rows × 65 columns</p>\n",
       "</div>"
      ],
      "text/plain": [
       "  id ad  education  ofjobs  yearsexp  honors  volunteer  military  empholes  \\\n",
       "0  b  1          4       2         6       0          0         0         1   \n",
       "1  b  1          3       3         6       0          1         1         0   \n",
       "2  b  1          4       1         6       0          0         0         0   \n",
       "3  b  1          3       4         6       0          1         0         1   \n",
       "4  b  1          3       3        22       0          0         0         0   \n",
       "\n",
       "   occupspecific    ...      compreq  orgreq  manuf  transcom  bankreal trade  \\\n",
       "0             17    ...          1.0     0.0    1.0       0.0       0.0   0.0   \n",
       "1            316    ...          1.0     0.0    1.0       0.0       0.0   0.0   \n",
       "2             19    ...          1.0     0.0    1.0       0.0       0.0   0.0   \n",
       "3            313    ...          1.0     0.0    1.0       0.0       0.0   0.0   \n",
       "4            313    ...          1.0     1.0    0.0       0.0       0.0   0.0   \n",
       "\n",
       "  busservice othservice  missind  ownership  \n",
       "0        0.0        0.0      0.0             \n",
       "1        0.0        0.0      0.0             \n",
       "2        0.0        0.0      0.0             \n",
       "3        0.0        0.0      0.0             \n",
       "4        0.0        1.0      0.0  Nonprofit  \n",
       "\n",
       "[5 rows x 65 columns]"
      ]
     },
     "execution_count": 4,
     "metadata": {},
     "output_type": "execute_result"
    }
   ],
   "source": [
    "data.head()"
   ]
  },
  {
   "cell_type": "markdown",
   "metadata": {
    "collapsed": true
   },
   "source": [
    "## What test is appropriate for this problem? Does CLT apply?"
   ]
  },
  {
   "cell_type": "markdown",
   "metadata": {},
   "source": [
    "<p> This sample has a Bernoulli distribution as there are only two outcomes for the 'call' variable. If similar samples were taken out of the overall population, the results would theoretically be binomially distributed.\n",
    "\n",
    "As CLT is applicable in distributions even when they are binomial, as long as the sample size n is greater than 5 and n(1-p) is also greater than 5, CLT is applicable to this problem."
   ]
  },
  {
   "cell_type": "markdown",
   "metadata": {},
   "source": [
    "## What are the null and alternate hypotheses?"
   ]
  },
  {
   "cell_type": "markdown",
   "metadata": {},
   "source": [
    "<p> The null hypothesis is that the call back rate for both white and black job applicants is the same.\n",
    "\n",
    "The alternate hypthosis is that the call back rate for white and black job applicants is different."
   ]
  },
  {
   "cell_type": "code",
   "execution_count": 5,
   "metadata": {},
   "outputs": [
    {
     "name": "stdout",
     "output_type": "stream",
     "text": [
      "Callbacks for \"black\" names:  157  /  2435\n",
      "Callback Rate:  0.064\n",
      "Callbacks for \"white\" names:  235  /  2435\n",
      "Callback Rate:  0.097\n"
     ]
    }
   ],
   "source": [
    "# first, examine how many callbacks there were for applicants with black-sounding and white-sounding names\n",
    "\n",
    "total_b = len(data[data.race == 'b'])\n",
    "total_w = len(data[data.race == 'w'])\n",
    "total_sample = total_b+total_w\n",
    "call_b = int(data[data.race == 'b'].call.sum())\n",
    "call_w = int(data[data.race == 'w'].call.sum())\n",
    "total_calls = call_b+call_w\n",
    "callrate_b = round(call_b/total_b, 3)\n",
    "callrate_w = round(call_w/total_w, 3)\n",
    "\n",
    "print('Callbacks for \"black\" names: ', call_b, ' / ', total_b)\n",
    "print('Callback Rate: ', callrate_b)\n",
    "\n",
    "print('Callbacks for \"white\" names: ', call_w, ' / ', total_w)\n",
    "print('Callback Rate: ', callrate_w)\n"
   ]
  },
  {
   "cell_type": "markdown",
   "metadata": {},
   "source": [
    "<p> Half of the sample is comprised of job applicants with white-sounding names, and the other half is job applicants with black-sounding names. The number of callbacks for applicants with black-sounding names is lower than the callbacks for applicants with white-sounding names"
   ]
  },
  {
   "cell_type": "code",
   "execution_count": 6,
   "metadata": {},
   "outputs": [
    {
     "data": {
      "image/png": "[encoded data removed]",
      "text/plain": [
       "<matplotlib.figure.Figure at 0xbef96d8>"
      ]
     },
     "metadata": {},
     "output_type": "display_data"
    }
   ],
   "source": [
    "# create a stacked bar chart to depict relative ratios \n",
    "\n",
    "sns.set_color_codes(\"pastel\")\n",
    "sns.barplot(x=[total_b, total_w], y=['black', 'white'], label='No Call', data=data, color='b')\n",
    "\n",
    "sns.set_color_codes(\"muted\")\n",
    "sns.barplot(x=[call_b, call_w], y=['black', 'white'], label='Called Back', data =data, color = 'b')\n",
    "plt.text(call_w+25, 1.05, call_w)\n",
    "plt.text(call_b+25, 0.05, call_b)\n",
    "\n",
    "plt.legend(loc='best')\n",
    "plt.autoscale(enable=True, axis='x', tight=True)\n",
    "\n",
    "plt.xlabel('Number of callbacks')\n",
    "plt.ylabel('Race')\n",
    "plt.title('Number of Callbacks by Race')\n",
    "\n",
    "plt.show()"
   ]
  },
  {
   "cell_type": "markdown",
   "metadata": {},
   "source": [
    "## A two proportion z-test will be performed to test the null hypothesis that the callback rate is the same for both groups."
   ]
  },
  {
   "cell_type": "code",
   "execution_count": 7,
   "metadata": {},
   "outputs": [
    {
     "name": "stdout",
     "output_type": "stream",
     "text": [
      "z_statistic:  -4.10841215243\n",
      "p_value:  3.98388683759e-05\n"
     ]
    }
   ],
   "source": [
    "# write a function to perform a two-proportion z-test\n",
    "\n",
    "def two_prop_ztest(success1, success2, sample1, sample2):\n",
    "    \"\"\"performs a two-proportion z-test for two samples\"\"\"\n",
    "    prob = (success1 + success2) / (sample1 + sample2)\n",
    "    z = ((success1 / sample1) - (success2 / sample2)) / np.sqrt(prob*(1-prob)*((1/sample1 + 1/sample2)))\n",
    "    \n",
    "    p_value = stats.norm.cdf(z) * 2\n",
    "    return z, p_value\n",
    "\n",
    "z_value, p_value = two_prop_ztest(call_b, call_w, total_b, total_w)\n",
    "\n",
    "print('z_statistic: ', z_value)\n",
    "print('p_value: ', p_value)"
   ]
  },
  {
   "cell_type": "markdown",
   "metadata": {},
   "source": [
    "<p> The probability of getting a z-statistic of -4.11 is 3.98$^{-5}$, which is highly statistically significant. We can reject the null hypothesis that the callback rate is the same for black job applicants and white job applicants."
   ]
  },
  {
   "cell_type": "markdown",
   "metadata": {},
   "source": [
    "## Compute margin of error and confidence interval"
   ]
  },
  {
   "cell_type": "code",
   "execution_count": 8,
   "metadata": {},
   "outputs": [
    {
     "name": "stdout",
     "output_type": "stream",
     "text": [
      "Margin of Error:  0.0152819123109\n",
      "Confidence Interval:  [0.016750941898551489, 0.047314766520339682]\n"
     ]
    }
   ],
   "source": [
    "def margin_of_error(sample_size, num_successes):\n",
    "    \"\"\"Determines the margin of error for a 95% confidence interval.\"\"\"\n",
    "    prob = num_successes / sample_size\n",
    "    moe = 1.96 * np.sqrt(prob*(1-prob)* (1/total_b + 1/total_w))\n",
    "    return moe\n",
    "\n",
    "moe = margin_of_error(total_sample, total_calls)\n",
    "\n",
    "prop_dif = (call_w / total_w) - (call_b / total_b)\n",
    "\n",
    "confidence_interval = [prop_dif - moe, prop_dif + moe]\n",
    "\n",
    "print('Margin of Error: ', moe)\n",
    "print('Confidence Interval: ', confidence_interval)"
   ]
  },
  {
   "cell_type": "markdown",
   "metadata": {},
   "source": [
    "## Write a story describing the statistical significance in the context of the original problem."
   ]
  },
  {
   "cell_type": "markdown",
   "metadata": {},
   "source": [
    "#### BACKGROUND\n",
    "The original dataset contains data on 4,870 job applicants, half of which had black-sounding names while the other half had white-sounding names. In this notebook, the difference between the callback rate between job applicants with white-sounding names and applicants with black-sounding names is examined. \n",
    "\n",
    "It is suspected that racial discrimination exists in the US job market and that job applicants with white-sounding names are more likely to receive a callback than job applicants with black-sounding names. The dataset is examined to determine whether or not there is any statistical evidence to support this claim. \n",
    "\n",
    "The null hypothesis is that the callback rate is the same for job applicants with white-sounding and black-sounding names."
   ]
  },
  {
   "cell_type": "markdown",
   "metadata": {},
   "source": [
    "#### ANALYSIS\n",
    "\n",
    "The callback rate for job applicants in the dataset with black-sounding names was about 6.4%, while applicants with white-sounding names received callbacks about 9.7%. Job applicants with white-sounding names were 50% more likely to receive a callback.\n",
    "\n",
    "A two-proportion z-test is performed, resulting in a z-statistic of -4.11 and a p-value of 3.98$^{-5}$. This means it is highly unlikely that this sample came from a population where the callback rate was the same for both applicant pools. The null hypothesis can therefore be rejected.\n",
    "\n",
    "The margin of error is 0.015, and the 95% confidence interval would include a difference in callback rates between 0.0168 and 0.0473. "
   ]
  },
  {
   "cell_type": "markdown",
   "metadata": {},
   "source": [
    "#### CONCLUSION\n",
    "\n",
    "The null hypothesis can be rejected. It is highly unlikely that there is no difference between the callback rates for white job applicants and black job applicants."
   ]
  },
  {
   "cell_type": "markdown",
   "metadata": {},
   "source": [
    "## Does the analysis mean that race/name is the most important factor in callback success? Why or why not? If not, how would you amend the analysis?"
   ]
  },
  {
   "cell_type": "markdown",
   "metadata": {},
   "source": [
    "This analysis does not prove that race/name is the most important factor in callback success, just that the two are correlated. \n",
    "\n",
    "There were many other pieces of information collected about the job applicants that may have had an effect on the callback rate as well, such as the applicant's education level, number of previous jobs, and whether or not they have computer skills or other special skills. \n",
    "\n",
    "To account for the affects of these other variables, the data should be standardized for education level and other effects.\n"
   ]
  },
  {
   "cell_type": "code",
   "execution_count": 9,
   "metadata": {},
   "outputs": [
    {
     "data": {
      "image/png": "[encoded data removed]",
      "text/plain": [
       "<matplotlib.figure.Figure at 0xbfe0518>"
      ]
     },
     "metadata": {},
     "output_type": "display_data"
    }
   ],
   "source": [
    "plt.figure(figsize=(15,6))\n",
    "sns.barplot(x=\"yearsexp\", y='call', hue=\"race\", data=data, palette='muted')\n",
    "\n",
    "plt.xlabel('Years of Work Experience')\n",
    "plt.ylabel('Callback Rate')\n",
    "plt.title('Callback Rate for Job Applicants based on Years of Experience')\n",
    "plt.show()"
   ]
  }
 ],
 "metadata": {
  "kernelspec": {
   "display_name": "Python 3",
   "language": "python",
   "name": "python3"
  },
  "language_info": {
   "codemirror_mode": {
    "name": "ipython",
    "version": 3
   },
   "file_extension": ".py",
   "mimetype": "text/x-python",
   "name": "python",
   "nbconvert_exporter": "python",
   "pygments_lexer": "ipython3",
   "version": "3.6.3"
  }
 },
 "nbformat": 4,
 "nbformat_minor": 1
}
