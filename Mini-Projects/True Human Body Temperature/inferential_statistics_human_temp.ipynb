{
 "cells": [
  {
   "cell_type": "markdown",
   "metadata": {},
   "source": [
    "# What is the True Normal Human Body Temperature? \n",
    "\n",
    "#### Background\n",
    "\n",
    "The mean normal body temperature was held to be 37$^{\\circ}$C or 98.6$^{\\circ}$F for more than 120 years since it was first conceptualized and reported by Carl Wunderlich in a famous 1868 book. But, is this value statistically correct?\n",
    "\n",
    "In this notebook, a dataset of human body temperatures is analyzed. This exercise employs the concepts of hypothesis testing, confidence intervals and statistical significance.\n"
   ]
  },
  {
   "cell_type": "markdown",
   "metadata": {},
   "source": [
    "#### Resources\n",
    "\n",
    "+ Information and data sources: http://www.amstat.org/publications/jse/datasets/normtemp.txt, http://www.amstat.org/publications/jse/jse_data_archive.htm\n",
    "+ Markdown syntax: http://nestacms.com/docs/creating-content/markdown-cheat-sheet\n",
    "\n",
    "****"
   ]
  },
  {
   "cell_type": "code",
   "execution_count": 1,
   "metadata": {
    "collapsed": true
   },
   "outputs": [],
   "source": [
    "# import libraries and read in the csv file for human body temperature\n",
    "\n",
    "import pandas as pd\n",
    "import numpy as np\n",
    "import matplotlib.pyplot as plt\n",
    "import seaborn as sns\n",
    "from scipy import stats\n",
    "\n",
    "df = pd.read_csv('data/human_body_temperature.csv')"
   ]
  },
  {
   "cell_type": "code",
   "execution_count": 2,
   "metadata": {},
   "outputs": [
    {
     "data": {
      "text/html": [
       "<div>\n",
       "<style>\n",
       "    .dataframe thead tr:only-child th {\n",
       "        text-align: right;\n",
       "    }\n",
       "\n",
       "    .dataframe thead th {\n",
       "        text-align: left;\n",
       "    }\n",
       "\n",
       "    .dataframe tbody tr th {\n",
       "        vertical-align: top;\n",
       "    }\n",
       "</style>\n",
       "<table border=\"1\" class=\"dataframe\">\n",
       "  <thead>\n",
       "    <tr style=\"text-align: right;\">\n",
       "      <th></th>\n",
       "      <th>temperature</th>\n",
       "      <th>gender</th>\n",
       "      <th>heart_rate</th>\n",
       "    </tr>\n",
       "  </thead>\n",
       "  <tbody>\n",
       "    <tr>\n",
       "      <th>0</th>\n",
       "      <td>99.3</td>\n",
       "      <td>F</td>\n",
       "      <td>68.0</td>\n",
       "    </tr>\n",
       "    <tr>\n",
       "      <th>1</th>\n",
       "      <td>98.4</td>\n",
       "      <td>F</td>\n",
       "      <td>81.0</td>\n",
       "    </tr>\n",
       "    <tr>\n",
       "      <th>2</th>\n",
       "      <td>97.8</td>\n",
       "      <td>M</td>\n",
       "      <td>73.0</td>\n",
       "    </tr>\n",
       "    <tr>\n",
       "      <th>3</th>\n",
       "      <td>99.2</td>\n",
       "      <td>F</td>\n",
       "      <td>66.0</td>\n",
       "    </tr>\n",
       "    <tr>\n",
       "      <th>4</th>\n",
       "      <td>98.0</td>\n",
       "      <td>F</td>\n",
       "      <td>73.0</td>\n",
       "    </tr>\n",
       "  </tbody>\n",
       "</table>\n",
       "</div>"
      ],
      "text/plain": [
       "   temperature gender  heart_rate\n",
       "0         99.3      F        68.0\n",
       "1         98.4      F        81.0\n",
       "2         97.8      M        73.0\n",
       "3         99.2      F        66.0\n",
       "4         98.0      F        73.0"
      ]
     },
     "execution_count": 2,
     "metadata": {},
     "output_type": "execute_result"
    }
   ],
   "source": [
    "df.head()"
   ]
  },
  {
   "cell_type": "markdown",
   "metadata": {},
   "source": [
    "<p> The dataset has three variables for every record: the person's temperature, gender, and heart rate. The pertinent variable for this notebook will mainly be the temperature, although the gender column will also be analyzed."
   ]
  },
  {
   "cell_type": "code",
   "execution_count": 3,
   "metadata": {},
   "outputs": [
    {
     "data": {
      "text/html": [
       "<div>\n",
       "<style>\n",
       "    .dataframe thead tr:only-child th {\n",
       "        text-align: right;\n",
       "    }\n",
       "\n",
       "    .dataframe thead th {\n",
       "        text-align: left;\n",
       "    }\n",
       "\n",
       "    .dataframe tbody tr th {\n",
       "        vertical-align: top;\n",
       "    }\n",
       "</style>\n",
       "<table border=\"1\" class=\"dataframe\">\n",
       "  <thead>\n",
       "    <tr style=\"text-align: right;\">\n",
       "      <th></th>\n",
       "      <th>temperature</th>\n",
       "      <th>heart_rate</th>\n",
       "    </tr>\n",
       "  </thead>\n",
       "  <tbody>\n",
       "    <tr>\n",
       "      <th>count</th>\n",
       "      <td>130.000000</td>\n",
       "      <td>130.000000</td>\n",
       "    </tr>\n",
       "    <tr>\n",
       "      <th>mean</th>\n",
       "      <td>98.249231</td>\n",
       "      <td>73.761538</td>\n",
       "    </tr>\n",
       "    <tr>\n",
       "      <th>std</th>\n",
       "      <td>0.733183</td>\n",
       "      <td>7.062077</td>\n",
       "    </tr>\n",
       "    <tr>\n",
       "      <th>min</th>\n",
       "      <td>96.300000</td>\n",
       "      <td>57.000000</td>\n",
       "    </tr>\n",
       "    <tr>\n",
       "      <th>25%</th>\n",
       "      <td>97.800000</td>\n",
       "      <td>69.000000</td>\n",
       "    </tr>\n",
       "    <tr>\n",
       "      <th>50%</th>\n",
       "      <td>98.300000</td>\n",
       "      <td>74.000000</td>\n",
       "    </tr>\n",
       "    <tr>\n",
       "      <th>75%</th>\n",
       "      <td>98.700000</td>\n",
       "      <td>79.000000</td>\n",
       "    </tr>\n",
       "    <tr>\n",
       "      <th>max</th>\n",
       "      <td>100.800000</td>\n",
       "      <td>89.000000</td>\n",
       "    </tr>\n",
       "  </tbody>\n",
       "</table>\n",
       "</div>"
      ],
      "text/plain": [
       "       temperature  heart_rate\n",
       "count   130.000000  130.000000\n",
       "mean     98.249231   73.761538\n",
       "std       0.733183    7.062077\n",
       "min      96.300000   57.000000\n",
       "25%      97.800000   69.000000\n",
       "50%      98.300000   74.000000\n",
       "75%      98.700000   79.000000\n",
       "max     100.800000   89.000000"
      ]
     },
     "execution_count": 3,
     "metadata": {},
     "output_type": "execute_result"
    }
   ],
   "source": [
    "df.describe()"
   ]
  },
  {
   "cell_type": "markdown",
   "metadata": {},
   "source": [
    "## Is the distribution of body temperatures normal?\n",
    "\n",
    "<p> Although this is not a requirement for CLT to hold , it gives us some peace of mind that the population may also be normally distributed if we assume that this sample is representative of the population."
   ]
  },
  {
   "cell_type": "code",
   "execution_count": 4,
   "metadata": {},
   "outputs": [
    {
     "data": {
      "image/png": "[encoded data removed]",
      "text/plain": [
       "<matplotlib.figure.Figure at 0xbf68550>"
      ]
     },
     "metadata": {},
     "output_type": "display_data"
    }
   ],
   "source": [
    "sns.set()\n",
    "plt.figure(figsize=(5,3))\n",
    "bin_edges = np.arange(96, 101, step = 0.5)\n",
    "plt.hist(df['temperature'], bins=bin_edges)\n",
    "plt.xticks(rotation=90)\n",
    "plt.show()"
   ]
  },
  {
   "cell_type": "markdown",
   "metadata": {},
   "source": [
    "<p> An initial impression is that this distribution looks roughly normal. However, scipy's stats.normaltest will be used to confirm the normality of the distribution."
   ]
  },
  {
   "cell_type": "code",
   "execution_count": 5,
   "metadata": {},
   "outputs": [
    {
     "name": "stdout",
     "output_type": "stream",
     "text": [
      "2.70380143332 0.258747986349\n"
     ]
    }
   ],
   "source": [
    "k2, p = stats.normaltest(df['temperature'])\n",
    "print(k2, p)"
   ]
  },
  {
   "cell_type": "markdown",
   "metadata": {},
   "source": [
    "<p> Typically, a p-value less than 0.05 indicates that a distribution is very unlikely to be normal. Because the p-value is much greater than 0.05, this distribution is likely normal."
   ]
  },
  {
   "cell_type": "markdown",
   "metadata": {},
   "source": [
    "## Is the sample size large? Are the observations independent?"
   ]
  },
  {
   "cell_type": "code",
   "execution_count": 6,
   "metadata": {
    "scrolled": true
   },
   "outputs": [
    {
     "name": "stdout",
     "output_type": "stream",
     "text": [
      "<class 'pandas.core.frame.DataFrame'>\n",
      "RangeIndex: 130 entries, 0 to 129\n",
      "Data columns (total 3 columns):\n",
      "temperature    130 non-null float64\n",
      "gender         130 non-null object\n",
      "heart_rate     130 non-null float64\n",
      "dtypes: float64(2), object(1)\n",
      "memory usage: 3.1+ KB\n"
     ]
    }
   ],
   "source": [
    "df.info()"
   ]
  },
  {
   "cell_type": "markdown",
   "metadata": {},
   "source": [
    "<p> There are a total of 130 observations in this DataFrame. A sample with more than 30 observations is generally considered large, so this is a large sample. The observations in the sample are measurements from different people and are independent."
   ]
  },
  {
   "cell_type": "markdown",
   "metadata": {},
   "source": [
    "## Is the true population mean really 98.6 degrees F?\n",
    "\n",
    "<ul>\n",
    "<li>Would you use a one-sample or two-sample test? Why?\n",
    "<li>In this situation, is it appropriate to use the  t  or  z  statistic?\n",
    "</ul>"
   ]
  },
  {
   "cell_type": "code",
   "execution_count": 7,
   "metadata": {},
   "outputs": [
    {
     "name": "stdout",
     "output_type": "stream",
     "text": [
      "z-statistic:  -5.47592520208\n",
      "p-value:  4.35231516588e-08\n"
     ]
    }
   ],
   "source": [
    "# write a function which performs a one-sample z-test\n",
    "\n",
    "def z_test(sample, pop_mean):\n",
    "    \"\"\"Computes the z-statistic for a sample, and the p-value\"\"\"    \n",
    "    sample_mean = np.mean(sample)\n",
    "    sample_std = np.std(sample)\n",
    "    samplesize_sqrt = np.sqrt(len(sample))\n",
    "    \n",
    "    z_stat = (sample_mean - pop_mean) / (sample_std / samplesize_sqrt)\n",
    "    p_value = stats.norm.cdf(z_stat) * 2\n",
    "    \n",
    "    return z_stat, p_value\n",
    "\n",
    "\n",
    "# perform z-test on the sample\n",
    "z, p = (z_test(df['temperature'], 98.6))\n",
    "print('z-statistic: ', z) \n",
    "print('p-value: ', p)"
   ]
  },
  {
   "cell_type": "markdown",
   "metadata": {},
   "source": [
    "<p> A one-sample test is used as we are testing the mean human temperature from a sample group against the mean temperature of the population. As the sample size is over 30 observations, a z-test is performed. The p-value is computed as well. \n",
    "\n",
    "The probability of obtaining a z-value of -5.47 is 4.35$^{-08}$, making it highly unlikely that the population mean is really 98.6$^{\\circ}$F. Therefore, we can reject the null hypothesis that the sample is derived from a population where the mean temperature is 98.6$^{\\circ}$F.\n"
   ]
  },
  {
   "cell_type": "markdown",
   "metadata": {},
   "source": [
    "#### Now try using the other test. How is the result be different? Why?"
   ]
  },
  {
   "cell_type": "code",
   "execution_count": 8,
   "metadata": {},
   "outputs": [
    {
     "data": {
      "text/plain": [
       "Ttest_1sampResult(statistic=-5.4548232923645195, pvalue=2.4106320415561276e-07)"
      ]
     },
     "execution_count": 8,
     "metadata": {},
     "output_type": "execute_result"
    }
   ],
   "source": [
    "stats.ttest_1samp(df['temperature'], 98.6)"
   ]
  },
  {
   "cell_type": "markdown",
   "metadata": {},
   "source": [
    "The t-test results in a t-statistic of -5.45 and a small p-value of 2.41$^{-07}$, which also indicates that it is highly unlikely that this sample is derived from a population with a mean temperature of 98.6$^{\\circ}$F. "
   ]
  },
  {
   "cell_type": "markdown",
   "metadata": {},
   "source": [
    "## Draw a small sample of size 10 from the data and repeat both tests.\n",
    "\n",
    "<ul>\n",
    "    <li> Which one is the correct one to use? \n",
    "    <li> What do you notice? What does this tell you about the difference in application of the $t$ and $z$ statistic?\n",
    "    </ul>"
   ]
  },
  {
   "cell_type": "code",
   "execution_count": 9,
   "metadata": {},
   "outputs": [
    {
     "name": "stdout",
     "output_type": "stream",
     "text": [
      "z-statistic:  -3.39751176191\n",
      "p-value:  0.000680016646471\n"
     ]
    }
   ],
   "source": [
    "small_sample = np.random.choice(df['temperature'], 10)\n",
    "\n",
    "z2, p2 = (z_test(small_sample, 98.6))\n",
    "print('z-statistic: ', z2) \n",
    "print('p-value: ', p2)\n"
   ]
  },
  {
   "cell_type": "markdown",
   "metadata": {},
   "source": [
    "<p> For such a small sample size, a t-test should be used whether or not the population's standard deviation is known. The z-statistic once again suggests that it is highly unlikely that the sample came from a population with a mean temperature of 98.6$^{\\circ}$F."
   ]
  },
  {
   "cell_type": "code",
   "execution_count": 10,
   "metadata": {},
   "outputs": [
    {
     "data": {
      "text/plain": [
       "Ttest_1sampResult(statistic=-3.2231626634580119, pvalue=0.01043635519175537)"
      ]
     },
     "execution_count": 10,
     "metadata": {},
     "output_type": "execute_result"
    }
   ],
   "source": [
    "# perform a t-test on the small sample\n",
    "\n",
    "stats.ttest_1samp(small_sample, 98.6)\n"
   ]
  },
  {
   "cell_type": "markdown",
   "metadata": {},
   "source": [
    "The t-test results in a t-statistic with a smaller absolute value and a larger p-value, but it is still highly unlikely that that the sample came from a population with a  mean temperature of 98.6$^{\\circ}$F. Using this smaller sample, we would still reject the null hypothesis that the mean temperature of the population is 98.6$^{\\circ}$F."
   ]
  },
  {
   "cell_type": "markdown",
   "metadata": {},
   "source": [
    "## At what temperature should we consider someone's temperature to be \"abnormal\"?\n",
    "\n",
    "<ul>\n",
    "    <li> Start by computing the margin of error and confidence interval.\n",
    "</ul>"
   ]
  },
  {
   "cell_type": "code",
   "execution_count": 11,
   "metadata": {},
   "outputs": [
    {
     "name": "stdout",
     "output_type": "stream",
     "text": [
      "[98.123679804428193, 98.374781734033363]\n"
     ]
    }
   ],
   "source": [
    "# write a function to determine margin of error\n",
    "\n",
    "def margin_of_error(sample):\n",
    "    \"\"\"Determines the margin of error for a 95% confidence interval.\"\"\"\n",
    "    sample_std = np.std(sample)\n",
    "    samplesize_sqrt = np.sqrt(len(sample))\n",
    "    moe = 1.96 * (sample_std/samplesize_sqrt)\n",
    "    return moe\n",
    "\n",
    "\n",
    "sample_moe = margin_of_error(df['temperature'])\n",
    "\n",
    "# to calculate the confidence interval, we add and subtract the margin of error to the sample mean\n",
    "\n",
    "confidence_interval = [np.mean(df['temperature']) - sample_moe, np.mean(df['temperature']) + sample_moe]\n",
    "\n",
    "print(confidence_interval)"
   ]
  },
  {
   "cell_type": "markdown",
   "metadata": {},
   "source": [
    "A 95% confidence interval for the sample includes temperatures between 98.12$^{\\circ}$F to 98.37$^{\\circ}$F. This means that a temperature of 98.6$^{\\circ}$F would actually be abnormal."
   ]
  },
  {
   "cell_type": "markdown",
   "metadata": {},
   "source": [
    "## Is there a significant difference between males and females in normal temperature?\n",
    "\n",
    "<ul>\n",
    "    <li> What test did you use and why?\n",
    "    <li> Write a story with your conclusion in the context of the original problem.\n",
    "</ul>"
   ]
  },
  {
   "cell_type": "code",
   "execution_count": 19,
   "metadata": {},
   "outputs": [
    {
     "name": "stdout",
     "output_type": "stream",
     "text": [
      "z-statistic:  2.30322028919\n"
     ]
    }
   ],
   "source": [
    "# create 2 different dataframes, one for males and one for females\n",
    "df_female = df[df.gender == 'F']\n",
    "df_male = df[df.gender == 'M']\n",
    "\n",
    "# define a function for a two-sample test for equal means\n",
    "\n",
    "def two_z_test(sample1, sample2):\n",
    "    \"\"\"Performs a two-sample z-test for the hypothesis that the means are equal\"\"\"\n",
    "    mean1 = np.mean(sample1)\n",
    "    mean2 = np.mean(sample2)\n",
    "    std1 = np.std(sample1)\n",
    "    std2 = np.std(sample2)\n",
    "    size1 = len(sample1)\n",
    "    size2 = len(sample2)\n",
    "    z_stat = (mean1 - mean2) / np.sqrt(std1**2/size1 + std2**2/size2)\n",
    "    return z_stat\n",
    "\n",
    "# perform two-sample z-test on the samples\n",
    "\n",
    "z2 = two_z_test(df_female['temperature'], df_male['temperature'])\n",
    "\n",
    "print('z-statistic: ', z2)"
   ]
  },
  {
   "cell_type": "markdown",
   "metadata": {},
   "source": [
    "<p> Here, a two-sample test is used as we are testing the means of two different populations against each other. The null hypothesis is that the two means are equal. \n",
    "\n",
    "The resulting z-statistic is 2.30. For ${\\alpha}$ = .05, the critical values are -1.96 and 1.96. Because the z-statistic is larger than 1.96, it indicates that there is actually a significant difference between the mean temperatures for the two populations, and the null hypothesis can be rejected."
   ]
  },
  {
   "cell_type": "code",
   "execution_count": 14,
   "metadata": {},
   "outputs": [
    {
     "data": {
      "text/plain": [
       "Ttest_indResult(statistic=2.2854345381656103, pvalue=0.023931883122395609)"
      ]
     },
     "execution_count": 14,
     "metadata": {},
     "output_type": "execute_result"
    }
   ],
   "source": [
    "# use a t-test to test the means of the two populations\n",
    "\n",
    "stats.ttest_ind(df_female['temperature'],df_male['temperature'])"
   ]
  },
  {
   "cell_type": "markdown",
   "metadata": {},
   "source": [
    "As the t-statistic is 2.29 and the p-value is 0.02, the null hypothesis can also be rejected if a t-test is used."
   ]
  },
  {
   "cell_type": "code",
   "execution_count": 13,
   "metadata": {},
   "outputs": [
    {
     "data": {
      "image/png": "[encoded data removed]",
      "text/plain": [
       "<matplotlib.figure.Figure at 0xc3e5fd0>"
      ]
     },
     "metadata": {},
     "output_type": "display_data"
    }
   ],
   "source": [
    "plt.figure(figsize=(10,4))\n",
    "sns.distplot(df_female['temperature'], label='female')\n",
    "sns.distplot(df_male['temperature'], label='male')\n",
    "plt.legend()\n",
    "plt.show()"
   ]
  },
  {
   "cell_type": "markdown",
   "metadata": {},
   "source": [
    "The mean female temperature appears to be higher than the mean male temperature."
   ]
  },
  {
   "cell_type": "markdown",
   "metadata": {},
   "source": [
    "## Conclusion\n",
    "\n",
    "The mean normal body temperature has been held to be 37$^{\\circ}$C or 98.6$^{\\circ}$F since 1868. In this notebook, we examined the validity of this claim by testing the mean of a sample population of 130 people against the stated population mean of 98$^{\\circ}$F. \n",
    "\n",
    "The null hypothesis is that the sample is pulled from a population with a mean temperature of 98.6$^{\\circ}$F. The mean temperature of the sample is 98.25$^{\\circ}$F, but we use a z-test to see how likely it is that this sample is pulled from a population with a mean temperature of 98.6$^{\\circ}$F. The resulting z-statistic is -5.476 and the p-value:  4.35$^{-08}$, meaning that the sample mean is very, very far from the population mean and we can reject the null hypothesis.\n",
    "\n",
    "Finally, we test the mean temperatures of males against the mean temperatures of females using a two-sample test. This test shows that there is a significant difference between the temperatures of men and women, and that they are unlikely to be from a population where men and women have the same mean body temperature."
   ]
  }
 ],
 "metadata": {
  "kernelspec": {
   "display_name": "Python 3",
   "language": "python",
   "name": "python3"
  },
  "language_info": {
   "codemirror_mode": {
    "name": "ipython",
    "version": 3
   },
   "file_extension": ".py",
   "mimetype": "text/x-python",
   "name": "python",
   "nbconvert_exporter": "python",
   "pygments_lexer": "ipython3",
   "version": "3.6.3"
  }
 },
 "nbformat": 4,
 "nbformat_minor": 1
}
